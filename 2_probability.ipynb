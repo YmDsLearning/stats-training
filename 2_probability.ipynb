{
 "cells": [
  {
   "cell_type": "markdown",
   "id": "464d0a38-a015-4e7b-90b6-ce64ea5dcd6a",
   "metadata": {},
   "source": [
    "# 確率(probability)"
   ]
  },
  {
   "cell_type": "markdown",
   "id": "fcd4459b-b000-4a29-932c-71ecec920fb8",
   "metadata": {},
   "source": [
    "#### データ準備"
   ]
  },
  {
   "cell_type": "code",
   "execution_count": 2,
   "id": "393b00bf-ba3d-4010-a0cd-ba382d2fd7bf",
   "metadata": {},
   "outputs": [
    {
     "data": {
      "text/html": [
       "<div>\n",
       "<style scoped>\n",
       "    .dataframe tbody tr th:only-of-type {\n",
       "        vertical-align: middle;\n",
       "    }\n",
       "\n",
       "    .dataframe tbody tr th {\n",
       "        vertical-align: top;\n",
       "    }\n",
       "\n",
       "    .dataframe thead th {\n",
       "        text-align: right;\n",
       "    }\n",
       "</style>\n",
       "<table border=\"1\" class=\"dataframe\">\n",
       "  <thead>\n",
       "    <tr style=\"text-align: right;\">\n",
       "      <th></th>\n",
       "      <th>total_bill</th>\n",
       "      <th>tip</th>\n",
       "      <th>sex</th>\n",
       "      <th>smoker</th>\n",
       "      <th>day</th>\n",
       "      <th>time</th>\n",
       "      <th>size</th>\n",
       "      <th>tip_rate</th>\n",
       "    </tr>\n",
       "  </thead>\n",
       "  <tbody>\n",
       "    <tr>\n",
       "      <th>0</th>\n",
       "      <td>16.99</td>\n",
       "      <td>1.01</td>\n",
       "      <td>Female</td>\n",
       "      <td>No</td>\n",
       "      <td>Sun</td>\n",
       "      <td>Dinner</td>\n",
       "      <td>2</td>\n",
       "      <td>0.059447</td>\n",
       "    </tr>\n",
       "    <tr>\n",
       "      <th>1</th>\n",
       "      <td>10.34</td>\n",
       "      <td>1.66</td>\n",
       "      <td>Male</td>\n",
       "      <td>No</td>\n",
       "      <td>Sun</td>\n",
       "      <td>Dinner</td>\n",
       "      <td>3</td>\n",
       "      <td>0.160542</td>\n",
       "    </tr>\n",
       "    <tr>\n",
       "      <th>2</th>\n",
       "      <td>21.01</td>\n",
       "      <td>3.50</td>\n",
       "      <td>Male</td>\n",
       "      <td>No</td>\n",
       "      <td>Sun</td>\n",
       "      <td>Dinner</td>\n",
       "      <td>3</td>\n",
       "      <td>0.166587</td>\n",
       "    </tr>\n",
       "    <tr>\n",
       "      <th>3</th>\n",
       "      <td>23.68</td>\n",
       "      <td>3.31</td>\n",
       "      <td>Male</td>\n",
       "      <td>No</td>\n",
       "      <td>Sun</td>\n",
       "      <td>Dinner</td>\n",
       "      <td>2</td>\n",
       "      <td>0.139780</td>\n",
       "    </tr>\n",
       "    <tr>\n",
       "      <th>4</th>\n",
       "      <td>24.59</td>\n",
       "      <td>3.61</td>\n",
       "      <td>Female</td>\n",
       "      <td>No</td>\n",
       "      <td>Sun</td>\n",
       "      <td>Dinner</td>\n",
       "      <td>4</td>\n",
       "      <td>0.146808</td>\n",
       "    </tr>\n",
       "    <tr>\n",
       "      <th>...</th>\n",
       "      <td>...</td>\n",
       "      <td>...</td>\n",
       "      <td>...</td>\n",
       "      <td>...</td>\n",
       "      <td>...</td>\n",
       "      <td>...</td>\n",
       "      <td>...</td>\n",
       "      <td>...</td>\n",
       "    </tr>\n",
       "    <tr>\n",
       "      <th>239</th>\n",
       "      <td>29.03</td>\n",
       "      <td>5.92</td>\n",
       "      <td>Male</td>\n",
       "      <td>No</td>\n",
       "      <td>Sat</td>\n",
       "      <td>Dinner</td>\n",
       "      <td>3</td>\n",
       "      <td>0.203927</td>\n",
       "    </tr>\n",
       "    <tr>\n",
       "      <th>240</th>\n",
       "      <td>27.18</td>\n",
       "      <td>2.00</td>\n",
       "      <td>Female</td>\n",
       "      <td>Yes</td>\n",
       "      <td>Sat</td>\n",
       "      <td>Dinner</td>\n",
       "      <td>2</td>\n",
       "      <td>0.073584</td>\n",
       "    </tr>\n",
       "    <tr>\n",
       "      <th>241</th>\n",
       "      <td>22.67</td>\n",
       "      <td>2.00</td>\n",
       "      <td>Male</td>\n",
       "      <td>Yes</td>\n",
       "      <td>Sat</td>\n",
       "      <td>Dinner</td>\n",
       "      <td>2</td>\n",
       "      <td>0.088222</td>\n",
       "    </tr>\n",
       "    <tr>\n",
       "      <th>242</th>\n",
       "      <td>17.82</td>\n",
       "      <td>1.75</td>\n",
       "      <td>Male</td>\n",
       "      <td>No</td>\n",
       "      <td>Sat</td>\n",
       "      <td>Dinner</td>\n",
       "      <td>2</td>\n",
       "      <td>0.098204</td>\n",
       "    </tr>\n",
       "    <tr>\n",
       "      <th>243</th>\n",
       "      <td>18.78</td>\n",
       "      <td>3.00</td>\n",
       "      <td>Female</td>\n",
       "      <td>No</td>\n",
       "      <td>Thur</td>\n",
       "      <td>Dinner</td>\n",
       "      <td>2</td>\n",
       "      <td>0.159744</td>\n",
       "    </tr>\n",
       "  </tbody>\n",
       "</table>\n",
       "<p>244 rows × 8 columns</p>\n",
       "</div>"
      ],
      "text/plain": [
       "     total_bill   tip     sex smoker   day    time  size  tip_rate\n",
       "0         16.99  1.01  Female     No   Sun  Dinner     2  0.059447\n",
       "1         10.34  1.66    Male     No   Sun  Dinner     3  0.160542\n",
       "2         21.01  3.50    Male     No   Sun  Dinner     3  0.166587\n",
       "3         23.68  3.31    Male     No   Sun  Dinner     2  0.139780\n",
       "4         24.59  3.61  Female     No   Sun  Dinner     4  0.146808\n",
       "..          ...   ...     ...    ...   ...     ...   ...       ...\n",
       "239       29.03  5.92    Male     No   Sat  Dinner     3  0.203927\n",
       "240       27.18  2.00  Female    Yes   Sat  Dinner     2  0.073584\n",
       "241       22.67  2.00    Male    Yes   Sat  Dinner     2  0.088222\n",
       "242       17.82  1.75    Male     No   Sat  Dinner     2  0.098204\n",
       "243       18.78  3.00  Female     No  Thur  Dinner     2  0.159744\n",
       "\n",
       "[244 rows x 8 columns]"
      ]
     },
     "execution_count": 2,
     "metadata": {},
     "output_type": "execute_result"
    }
   ],
   "source": [
    "import seaborn as sns\n",
    "import pandas as pd\n",
    "import numpy as np\n",
    "from scipy import stats\n",
    "from sklearn.preprocessing import StandardScaler\n",
    "import matplotlib.pyplot as plt\n",
    "%matplotlib inline\n",
    "\n",
    "#tips.csvのロード\n",
    "df = sns.load_dataset('tips')\n",
    "#合計に対してチップが占める割合のカラム\"tip_rate\"を追加する\n",
    "df['tip_rate'] = df['tip'] / df['total_bill']\n",
    "df"
   ]
  },
  {
   "cell_type": "markdown",
   "id": "6ce41101-2fc6-46e6-8eda-24019d1b635c",
   "metadata": {},
   "source": [
    "## 確率分布(probability distribution)"
   ]
  },
  {
   "cell_type": "code",
   "execution_count": 4,
   "id": "c2859f36-f559-47c9-a984-896b9ee20630",
   "metadata": {},
   "outputs": [
    {
     "data": {
      "text/plain": [
       "2"
      ]
     },
     "execution_count": 4,
     "metadata": {},
     "output_type": "execute_result"
    }
   ],
   "source": [
    "#確率\n",
    "#・ある試行を同じ条件で何度も繰り返した場合にある現象が起こる相対頻度の極限値\n",
    "#　　サイコロを振って１が出た回数をサイコロを振った回数で割った値\n",
    "\n",
    "#確率変数(X random variable)\n",
    "#・値が確率的に変動する変数→それぞれの値に確率が紐づいている\n",
    "# サイコロを振って出る目\n",
    "# ３回コインを投げて表が出た回数\n",
    "# 全国から1人選んだ時のその人の身長体重 etc...\n",
    "#・それぞれの値に確率P(X)が対応している\n",
    "# \n",
    "# サイコロの目 X  1    2   3   4   5   6\n",
    "# 確率P(X)     1/6 1/6 1/6 1/6 1/6 1/6\n",
    "# \n",
    "#確率変数を下記のように区別する\n",
    "#・離散型確率変数\n",
    "# 飛び飛びの値をとる\n",
    "# サイコロを振って出た目とか\n",
    "#・連続型確率変数\n",
    "# 連続の値をとる\n",
    "# ランダムに選んだ成人男性1人の身長とか\n",
    "\n",
    "#確率分布\n",
    "#・確率がどのように分布しているかを表したもの\n",
    "#・確率変数は確率分布から生成された値、と考えるとわかりやすい\n",
    "# 確率分布はデータ生成装置というイメージを持つ\n",
    "#・サイコロの目のような分布を一様分布という\n",
    "# \n",
    "#こちらも下記の様に区別する \n",
    "#・離散型確率分布\n",
    "# 離散型確率変数の確率分布\n",
    "#  この分布を数学的に扱えるようにした関数:確率質量関数(PMF Probability Mass Function)\n",
    "#・連続型確率分布\n",
    "# 連続型確率変数の確率分布\n",
    "# １本の線で描けるような分布になる\n",
    "#  この分布を数学的に扱えるようにした関数:確率密度関数(PDF Probability Density Function)\n",
    "\n",
    "#確率分布を扱う\n",
    "#stats.<確率分布>.<メソッド>\n",
    "#確率分布\n",
    "# norm\n",
    "# uniform\n",
    "# randint etc...\n",
    "#メソッド\n",
    "# rvs()\n",
    "# pdf()\n",
    "# cdf() etc...\n",
    "\n",
    "#-例-\n",
    "#サイコロの一様分布\n",
    "#一様分布からランダムにデータを生成する(確率変数の値を確率分布から作る)\n",
    "#使える確率分布は２つ\n",
    "# ・randint:飛び飛びの整数だけを取る(離散型)\n",
    "# ・uniform:連続した値を取る(連続型)\n",
    "#確率変数を求めるメソッド\n",
    "# rvs(random variates):確率変量。　確率変数の実際の値(サイコロで言えば、１や５などの、振って出た目のこと)\n",
    "#\n",
    "#randintを使う\n",
    "#stats.randint.rvs(low, high)\n",
    "#※lowからhigh-1までのランダムな整数を生成\n",
    "#引数\n",
    "# low:ここでは最小値の 1\n",
    "# high:ここでは6+1で 7\n",
    "stats.randint.rvs(1, 7)"
   ]
  },
  {
   "cell_type": "code",
   "execution_count": 8,
   "id": "7584c12d-f98c-499b-9818-811ff11fd047",
   "metadata": {},
   "outputs": [
    {
     "data": {
      "text/plain": [
       "4"
      ]
     },
     "execution_count": 8,
     "metadata": {},
     "output_type": "execute_result"
    }
   ],
   "source": [
    "#引数は確率分布の方に入れることもできる\n",
    "#stats.randint(low, high).rvs()\n",
    "#※1〜6の確率変量を持つ一様分布をrandint(low, high)で定義している\n",
    "stats.randint(1, 7).rvs()"
   ]
  },
  {
   "cell_type": "code",
   "execution_count": 6,
   "id": "e32cbb38-bbce-473b-826d-5d3e0045e13d",
   "metadata": {},
   "outputs": [
    {
     "data": {
      "text/plain": [
       "3.5"
      ]
     },
     "execution_count": 6,
     "metadata": {},
     "output_type": "execute_result"
    }
   ],
   "source": [
    "#rvs以外のメソッドの例\n",
    "#期待値\n",
    "#stats.randint.mean(low, high)\n",
    "#※平均したサイコロの目\n",
    "stats.randint.mean(1, 7)"
   ]
  },
  {
   "cell_type": "code",
   "execution_count": 2,
   "id": "dca51fcf-25d3-48f0-85f9-10bc12ea75cc",
   "metadata": {},
   "outputs": [
    {
     "data": {
      "text/plain": [
       "0.29552349687990387"
      ]
     },
     "execution_count": 2,
     "metadata": {},
     "output_type": "execute_result"
    }
   ],
   "source": [
    "#uniformを使う\n",
    "#stats.uniform.rvs(loc, scale)\n",
    "#※locからscaleまでのランダムな値(整数に限らない)を生成\n",
    "#引数\n",
    "# loc:始まりの値\n",
    "# scale:終わりの値\n",
    "stats.uniform.rvs(0, 1)"
   ]
  },
  {
   "cell_type": "code",
   "execution_count": 3,
   "id": "6e43a7e2-9136-467d-af53-3b9d82076966",
   "metadata": {},
   "outputs": [
    {
     "data": {
      "text/plain": [
       "0.6855319704287715"
      ]
     },
     "execution_count": 3,
     "metadata": {},
     "output_type": "execute_result"
    }
   ],
   "source": [
    "#引数は確率分布の方に入れることもできる\n",
    "#stats.uniform(loc, scale).rvs()\n",
    "stats.uniform(0, 1).rvs()"
   ]
  },
  {
   "cell_type": "markdown",
   "id": "ee1176f9-ef8f-42b0-8a4e-a5f28e701837",
   "metadata": {},
   "source": [
    "## 確率分布の描画"
   ]
  },
  {
   "cell_type": "code",
   "execution_count": 6,
   "id": "c44a689a-eca7-46ac-8b18-6c29ce87af9a",
   "metadata": {},
   "outputs": [
    {
     "data": {
      "text/plain": [
       "<matplotlib.collections.LineCollection at 0x404f2ee4f0>"
      ]
     },
     "execution_count": 6,
     "metadata": {},
     "output_type": "execute_result"
    },
    {
     "data": {
      "image/png": "[encoded data removed]",
      "text/plain": [
       "<Figure size 432x288 with 1 Axes>"
      ]
     },
     "metadata": {
      "needs_background": "light"
     },
     "output_type": "display_data"
    }
   ],
   "source": [
    "#一様分布を描画する\n",
    "#・離散型確率分布:stats.randint(low, high).pmf(x)\n",
    "#  PMF(Probability Mass Funciton):確率質量関数\n",
    "\n",
    "#-例-\n",
    "#サイコロの目が１である確率(どの目であっても全部同じ値になる)\n",
    "#x軸の値を作る(サイコロの目1〜6)\n",
    "x = np.arange(1, 7)\n",
    "#x軸の値を渡してy軸の値を取得する(全部1/6=0.166...)\n",
    "y = stats.randint(1, 7).pmf(x)\n",
    "\n",
    "#確率分布の描画\n",
    "#'o'を指定しないと横一直線になる(６つの点を横に結んでいる)\n",
    "#横一直線だと連続した値を取る様に見えるので、点を表示して飛び飛びの値を取ることを表す\n",
    "plt.plot(x, y, 'o')\n",
    "#下から点まで縦線を引く\n",
    "plt.vlines(x, 0, y)"
   ]
  },
  {
   "cell_type": "code",
   "execution_count": 5,
   "id": "d0b05c80-ab8b-4cfa-bf61-cb11b99cf87d",
   "metadata": {},
   "outputs": [
    {
     "data": {
      "text/plain": [
       "array([1, 2, 3, 4, 5, 6])"
      ]
     },
     "execution_count": 5,
     "metadata": {},
     "output_type": "execute_result"
    }
   ],
   "source": [
    "#x軸の値の確認\n",
    "x"
   ]
  },
  {
   "cell_type": "code",
   "execution_count": 6,
   "id": "1f1c3fc0-31df-42da-8a89-b4dc3cf635aa",
   "metadata": {},
   "outputs": [
    {
     "data": {
      "text/plain": [
       "array([0.16666667, 0.16666667, 0.16666667, 0.16666667, 0.16666667,\n",
       "       0.16666667])"
      ]
     },
     "execution_count": 6,
     "metadata": {},
     "output_type": "execute_result"
    }
   ],
   "source": [
    "#y軸の値の確認\n",
    "y"
   ]
  },
  {
   "cell_type": "code",
   "execution_count": 7,
   "id": "a6f107dc-2f7f-4177-8deb-fe5c7eaafde7",
   "metadata": {},
   "outputs": [
    {
     "data": {
      "text/plain": [
       "[<matplotlib.lines.Line2D at 0x404f43bca0>]"
      ]
     },
     "execution_count": 7,
     "metadata": {},
     "output_type": "execute_result"
    },
    {
     "data": {
      "image/png": "[encoded data removed]",
      "text/plain": [
       "<Figure size 432x288 with 1 Axes>"
      ]
     },
     "metadata": {
      "needs_background": "light"
     },
     "output_type": "display_data"
    }
   ],
   "source": [
    "#連続型確率分布:stats.uniform(loc, scale).pdf(x)\n",
    "#  PDF(Probablity Density Function):確率密度関数 \n",
    "\n",
    "#-例-\n",
    "#x軸の値:−2〜2に100個値を用意する\n",
    "x = np.linspace(-2, 2, 100)\n",
    "#y軸の値:0〜1の連続した値を返す\n",
    "y = stats.uniform(loc=0, scale=1).pdf(x)\n",
    "\n",
    "#確率分布の描画\n",
    "#連続した１本の線となる\n",
    "#この分布から生成されるデータは0~1のどこかの値。それを全て同じ確率で返してくれる(uniformという一様分布を指定したから)\n",
    "#連続型の場合、確率は面積で考える(全面積は1)\n",
    "plt.plot(x, y)"
   ]
  },
  {
   "cell_type": "markdown",
   "id": "6026aae0-3b34-49f7-a4f0-fed686c71e16",
   "metadata": {},
   "source": [
    "## 累積分布関数(CDF Cumulative Distribution Function)"
   ]
  },
  {
   "cell_type": "code",
   "execution_count": 3,
   "id": "a961ad68-3ee7-4d78-9877-cad4ada5ea4c",
   "metadata": {},
   "outputs": [
    {
     "data": {
      "text/plain": [
       "[<matplotlib.lines.Line2D at 0x404e996430>]"
      ]
     },
     "execution_count": 3,
     "metadata": {},
     "output_type": "execute_result"
    },
    {
     "data": {
      "image/png": "[encoded data removed]",
      "text/plain": [
       "<Figure size 432x288 with 1 Axes>"
      ]
     },
     "metadata": {
      "needs_background": "light"
     },
     "output_type": "display_data"
    }
   ],
   "source": [
    "#確率密度(PDF)と確率\n",
    "#・確率密度関数が描く面積が確率になる\n",
    "# 必ず区間を設けて、その区間内に入る確率という形で面積を求めて確率を計算する\n",
    "#・確率密度関数が描く全面積は1になる\n",
    "\n",
    "#累積分布関数(CDF)\n",
    "#・確率密度関数を負の最大限からある値(x)まで確率を積み上げた値を返す関数\n",
    "# 累積分布関数が返す値を見れば、その値の確率がわかる\n",
    "# 確率密度関数の面積をそのまま返す関数\n",
    "# \n",
    "#-例-\n",
    "# 確率密度関数\n",
    "#　　　　ランダムに成人男性を選んだ場合に、その人が160cm以下である確率を0.3と仮定する\n",
    "# 　　x:160\n",
    "#  面積(確率):0.3\n",
    "#  　　　　　　↓\n",
    "# 累積分布関数\n",
    "# 　　x:160\n",
    "#  y(縦軸の値):0.3\n",
    "\n",
    "#(正規分布の)確率密度関数→面(面積)\n",
    "#PDF:stats.norm.pdf(x)\n",
    "#x軸\n",
    "x = np.linspace(-3, 3, 100)\n",
    "#yの値(PDF)\n",
    "y = stats.norm.pdf(x)\n",
    "\n",
    "#(正規分布の)確率密度関数の描画\n",
    "plt.plot(x, y)"
   ]
  },
  {
   "cell_type": "code",
   "execution_count": 4,
   "id": "da604180-d505-4dbe-954e-60a42d5312b0",
   "metadata": {},
   "outputs": [
    {
     "data": {
      "text/plain": [
       "[<matplotlib.lines.Line2D at 0x404f3e54f0>]"
      ]
     },
     "execution_count": 4,
     "metadata": {},
     "output_type": "execute_result"
    },
    {
     "data": {
      "image/png": "[encoded data removed]",
      "text/plain": [
       "<Figure size 432x288 with 1 Axes>"
      ]
     },
     "metadata": {
      "needs_background": "light"
     },
     "output_type": "display_data"
    }
   ],
   "source": [
    "#累積分布関数→線\n",
    "#確率密度関数を負の無限大からある値(x)まで確率を積み上げた値を返す→そのx値における左側の面積を計算している\n",
    "#CDF:stats.norm.cdf(x)\n",
    "#x軸\n",
    "x = np.linspace(-3, 3, 100)\n",
    "#y軸(確率密度関数の全面積は1なので、1が最大)\n",
    "y = stats.norm.cdf(x)\n",
    "\n",
    "#累積分布関数の描画\n",
    "#※CDFを描画することで、複数の分布の差異を視覚的に理解できる\n",
    "plt.plot(x, y)"
   ]
  },
  {
   "cell_type": "code",
   "execution_count": 5,
   "id": "0ee67411-071d-4575-a6f5-773c0656187a",
   "metadata": {},
   "outputs": [
    {
     "data": {
      "text/plain": [
       "[<matplotlib.lines.Line2D at 0x404f5337c0>]"
      ]
     },
     "execution_count": 5,
     "metadata": {},
     "output_type": "execute_result"
    },
    {
     "data": {
      "image/png": "[encoded data removed]",
      "text/plain": [
       "<Figure size 432x288 with 1 Axes>"
      ]
     },
     "metadata": {
      "needs_background": "light"
     },
     "output_type": "display_data"
    }
   ],
   "source": [
    "#累積分布関数(CDF)の右側(1-CDF)→CDFの左右対称の線\n",
    "#確率密度関数にて、そのx値における右側の面積を計算している\n",
    "#SF(Survival Function):stats.norm.sf(x)\n",
    "#x軸\n",
    "x = np.linspace(-3, 3, 100)\n",
    "#y軸(確率密度関数の全面積は1なので、最大の1から下がっていく)\n",
    "y = stats.norm.sf(x)\n",
    "\n",
    "#SFの描画\n",
    "plt.plot(x, y)"
   ]
  },
  {
   "cell_type": "markdown",
   "id": "f64c3b87-93ca-4a39-815e-95e6d787c1df",
   "metadata": {},
   "source": [
    "## 正規分布(normal distribution)"
   ]
  },
  {
   "cell_type": "code",
   "execution_count": 4,
   "id": "aa5a0f31-5cf2-4bbe-8f19-94e92a8ce47d",
   "metadata": {},
   "outputs": [
    {
     "data": {
      "text/plain": [
       "[<matplotlib.lines.Line2D at 0x404fa61610>]"
      ]
     },
     "execution_count": 4,
     "metadata": {},
     "output_type": "execute_result"
    },
    {
     "data": {
      "image/png": "[encoded data removed]",
      "text/plain": [
       "<Figure size 432x288 with 1 Axes>"
      ]
     },
     "metadata": {
      "needs_background": "light"
     },
     "output_type": "display_data"
    }
   ],
   "source": [
    "#正規分布の特徴\n",
    "#・確率分布の１つ\n",
    "#・ガウス分布、ベルカーブとも呼ばれる\n",
    "#・最もよく使われる分布\n",
    "#・自然界の多くで見られる分布(身長、誤差 etc...)\n",
    "#・統計学の理論でもよく出てくる分布\n",
    "#・平均μと分散σ2だけで形状が決まる\n",
    "# 平均μのところに山の頂上がくる\n",
    "# 分散が大きければ横に広くなる\n",
    "# 分散が小さければ縦に細長くなる\n",
    "\n",
    "#stats.norm(loc, scale).<メソッド>\n",
    "#確率分布normの引数\n",
    "# loc:平均\n",
    "# scale:標準偏差σ※分散ではない\n",
    "#確率分布normのメソッド\n",
    "# .rvs():random variates(random variables) 確率変量　    分布から確率に沿った形でランダムに値を取得する\n",
    "# .pdf():probability density function      確率密度関数　 指定した値xに対する値y\n",
    "# .cdf():cumulative distribution function  累積分布関数 　指定した値xに対する値y\n",
    "# .sf():survival function                  1-累積分布関数(CDF)\n",
    "# .mean():平均\n",
    "# .var():分散\n",
    "# .std():標準偏差 etc...\n",
    "#下記の書き方のどちらでもOK\n",
    "#stats.norm.pdf(x, loc, scale)\n",
    "#stats.norm(loc, scale).pdf(x)\n",
    "#※locとscaleを何も指定しなかったら、平均0 標準偏差1の正規分布になる(標準正規分布)\n",
    "\n",
    "#-例-\n",
    "#複数の正規分布を一度に描画する\n",
    "#x\n",
    "x = np.linspace(-5, 15, 100)\n",
    "#y:平均10 標準偏差3\n",
    "y = stats.norm(loc=10, scale=3).pdf(x)\n",
    "#y2:平均8 標準偏差3\n",
    "y2 = stats.norm(loc=8, scale=3).pdf(x)\n",
    "#y3:平均8 標準偏差1※分散が小さくなって縦に細長いものになる\n",
    "y3 = stats.norm(loc=8, scale=1).pdf(x)\n",
    "#y4:平均0 標準偏差1(標準正規分布)\n",
    "y4 = stats.norm(loc=0, scale=1).pdf(x)\n",
    "\n",
    "#それぞれの分布を描画\n",
    "plt.plot(x, y)  #青\n",
    "plt.plot(x, y2) #黄\n",
    "plt.plot(x, y3) #緑\n",
    "plt.plot(x, y4) #赤"
   ]
  },
  {
   "cell_type": "code",
   "execution_count": 5,
   "id": "02fc53ac-dec2-4399-a21a-8ca8ea7cbe59",
   "metadata": {},
   "outputs": [
    {
     "data": {
      "text/plain": [
       "[<matplotlib.lines.Line2D at 0x404fe091c0>]"
      ]
     },
     "execution_count": 5,
     "metadata": {},
     "output_type": "execute_result"
    },
    {
     "data": {
      "image/png": "[encoded data removed]",
      "text/plain": [
       "<Figure size 432x288 with 1 Axes>"
      ]
     },
     "metadata": {
      "needs_background": "light"
     },
     "output_type": "display_data"
    }
   ],
   "source": [
    "#標準正規分布(standard normal distribution)\n",
    "#・平均0　分散1の正規分布(正規分布を標準化したもの)\n",
    "#・標準正規分布は全部同じ形をしている\n",
    "# どこにあるかという平均の部分\n",
    "# どれくらい尖っているかという分散の部分\n",
    "# が大事\n",
    "\n",
    "#デフォルトでは(=パラメータを何も指定しなければ)\n",
    "# 平均(loc)=0\n",
    "# 標準偏差(scale)=1\n",
    "#の正規分布になる→標準正規分布\n",
    "y = stats.norm().pdf(x)\n",
    "plt.plot(x, y)"
   ]
  },
  {
   "cell_type": "markdown",
   "id": "10428117-ffbe-48bb-8f42-a754706b96b6",
   "metadata": {},
   "source": [
    "## カーネル密度推定(KDE Kernel Density Estimation)"
   ]
  },
  {
   "cell_type": "code",
   "execution_count": 8,
   "id": "5fafc25c-af89-4f89-aba7-dba6f4a6b8e8",
   "metadata": {},
   "outputs": [
    {
     "data": {
      "text/plain": [
       "[<matplotlib.lines.Line2D at 0x404f7e8d90>]"
      ]
     },
     "execution_count": 8,
     "metadata": {},
     "output_type": "execute_result"
    },
    {
     "data": {
      "image/png": "[encoded data removed]",
      "text/plain": [
       "<Figure size 432x288 with 1 Axes>"
      ]
     },
     "metadata": {
      "needs_background": "light"
     },
     "output_type": "display_data"
    }
   ],
   "source": [
    "#カーネル密度推定の特徴\n",
    "#・観測した分布(手元にあるデータ)から、その背後にある確率密度関数(確率分布)を推定する\n",
    "# →連続型確率分布について使うもの\n",
    "\n",
    "#stats.gaussian_kde(dataset).<メソッド>\n",
    "#確率分布gaussian_kdeの引数\n",
    "# dataset:実際のデータのArray\n",
    "#確率分布gaussian_kdeのメソッド\n",
    "# .resample(x):KDE後の確率分布から新たなデータを取得する(リサンプルする)\n",
    "# .pdf(x)     :確率密度関数を計算する\n",
    "\n",
    "#-例-\n",
    "#KDEを描画する\n",
    "#x軸\n",
    "x = np.linspace(-3, 10, 100)\n",
    "#y:KDEの値\n",
    "y = stats.gaussian_kde([1, 1, 2, 2, 3, 4, 5]).pdf(x)\n",
    "\n",
    "#KDEの描画\n",
    "plt.plot(x, y)\n",
    "\n",
    "#結果\n",
    "#・xは2,3あたりに集中しているので、その辺りの確率が高くなっている\n",
    "#・データは[1, 1, 2, 2, 3, 4, 5]だが、KDEをすると余分に分布を取る\n",
    "#・推定した確率分布は実際に取得した↑のデータの背後にある分布\n",
    "# →今回たまたま1を取得したが、0.9を取得したかも知れないと考えると、0.9にも確率を持っている\n",
    "# →KDEを実行すると、必ずしも実際に得られたデータにだけ確率があるとは限らないので注意！"
   ]
  },
  {
   "cell_type": "code",
   "execution_count": 10,
   "id": "e07956f5-44bf-45cd-aeaa-43fd4095fb3a",
   "metadata": {},
   "outputs": [
    {
     "data": {
      "text/plain": [
       "[<matplotlib.lines.Line2D at 0x404fcc3430>]"
      ]
     },
     "execution_count": 10,
     "metadata": {},
     "output_type": "execute_result"
    },
    {
     "data": {
      "image/png": "[encoded data removed]",
      "text/plain": [
       "<Figure size 432x288 with 1 Axes>"
      ]
     },
     "metadata": {
      "needs_background": "light"
     },
     "output_type": "display_data"
    }
   ],
   "source": [
    "#-例-\n",
    "#tip列をKDEする\n",
    "\n",
    "#tipの確率分布を推定値で見る\n",
    "x = np.linspace(-3, 10, 100)\n",
    "#tipの分布に対してKDEする\n",
    "y = stats.gaussian_kde(df['tip']).pdf(x)\n",
    "#KDEを描画\n",
    "plt.plot(x, y)"
   ]
  },
  {
   "cell_type": "code",
   "execution_count": 18,
   "id": "49eebab7-a8b0-47a0-a581-1b4b417625f8",
   "metadata": {},
   "outputs": [
    {
     "data": {
      "text/plain": [
       "<seaborn.axisgrid.FacetGrid at 0x40514a50a0>"
      ]
     },
     "execution_count": 18,
     "metadata": {},
     "output_type": "execute_result"
    },
    {
     "data": {
      "image/png": "[encoded data removed]",
      "text/plain": [
       "<Figure size 360x360 with 1 Axes>"
      ]
     },
     "metadata": {
      "needs_background": "light"
     },
     "output_type": "display_data"
    }
   ],
   "source": [
    "#ヒストグラムとKDEを同時に描画する方法\n",
    "#sns.displot(a, kde=True)\n",
    "\n",
    "sns.displot(df['tip'], kde=True)\n",
    "#ヒストグラムも重要だが、より興味があるのはその標本の背後の母集団\n",
    "#なので、KDEも一緒に描画する"
   ]
  },
  {
   "cell_type": "code",
   "execution_count": 11,
   "id": "88179f71-2192-42f1-a118-38c6572cdc2c",
   "metadata": {},
   "outputs": [
    {
     "data": {
      "text/plain": [
       "array([[ 1.73326398,  3.22456359,  2.44465831,  4.24720583,  0.87904048,\n",
       "         2.16243629,  2.71749975, 10.8185202 ,  2.24404793,  2.67532224,\n",
       "         3.58900551,  2.19246575,  2.58668171,  2.78229302,  2.46161482,\n",
       "         3.68015961,  2.77241032,  1.47582539,  4.526099  ,  3.48909211,\n",
       "         2.03282069,  3.32927054,  1.9263588 ,  1.17884827,  6.25848552,\n",
       "         3.04558773,  4.92758124,  5.45094584,  4.03464543,  1.22340367,\n",
       "         3.27206816,  9.21162748,  2.60291827,  0.95706648,  1.60420673,\n",
       "         1.24345408,  2.4549864 ,  8.95410363,  3.25953739,  5.73812823,\n",
       "         3.01214792,  2.61989535,  1.30941014,  3.36080651,  4.86647586,\n",
       "         5.04239344,  2.5805852 ,  2.6931243 ,  1.58548589,  3.54083933,\n",
       "         1.4728733 ,  1.79549714,  0.88154339,  1.55051737,  2.22911303,\n",
       "         1.99101594,  1.65150814,  4.88042341,  2.60731619,  3.12402437,\n",
       "         2.32022743,  4.05485735,  1.67746408,  2.11754006,  3.13723068,\n",
       "         2.96431811,  4.18763387,  2.33421244,  1.78685723,  1.87359421,\n",
       "         2.65060952,  3.5168828 ,  4.71903916,  6.64287743,  3.12884321,\n",
       "         1.58203814,  2.13094023,  2.99426378,  3.73997392,  1.76203243,\n",
       "         1.25179848,  2.84187443,  4.22279358,  1.82754374,  3.16421284,\n",
       "         3.43683086,  1.82221756,  3.93263043,  5.07871218,  3.45037596,\n",
       "         2.15612787,  1.25976314,  3.36143642,  3.61091433,  3.10813501,\n",
       "         2.56021853,  3.36692567,  3.38882436,  4.33548668,  2.18059193,\n",
       "         1.6590112 ,  2.35710597, 10.78577961,  1.11478534,  2.45589793,\n",
       "         2.02676787,  2.25690062,  3.13021504,  3.10462642,  2.94458955,\n",
       "         1.12659656,  2.11709548,  2.79024373,  1.62218623,  3.70087043,\n",
       "         1.63524507,  3.75130285,  6.10132152,  2.13166984,  2.06754245,\n",
       "         4.79564627,  4.94483729,  1.0597163 ,  4.25691887,  3.64002417,\n",
       "         3.1522849 ,  3.80430775,  3.29987827,  3.40662479,  2.80687839,\n",
       "         1.69114919,  3.30401465,  4.20333335,  1.67845373,  5.33108465,\n",
       "         3.7651853 ,  3.42282914,  2.7037859 ,  4.31853462,  4.28127076,\n",
       "         1.5442251 ,  3.66428448,  1.71028223,  6.31925534,  2.21105395,\n",
       "         5.09831647,  2.46980096,  6.07626283,  6.38753547,  2.39568854,\n",
       "         1.61356817,  1.44716353,  5.09298517,  3.07614745,  2.66925815,\n",
       "         1.89045256,  2.41847815,  1.7321595 ,  2.78454351,  5.69413233,\n",
       "         3.39396739,  3.75391591,  3.05897186,  4.19465339,  8.65025238,\n",
       "         1.82540114,  1.8421753 ,  2.65647645,  1.9599861 ,  2.57666591,\n",
       "         5.4546112 ,  2.79777079,  1.39597365,  1.93608939,  3.09028491,\n",
       "         2.27158261,  2.24772623,  2.37037406,  6.13862881,  1.67842474,\n",
       "         3.74524744,  3.53513197,  1.48265024,  3.38192237,  2.25562976,\n",
       "         3.3462473 ,  2.44066864,  5.57798601,  3.6246714 ,  2.46270755,\n",
       "         3.73607317,  5.85767624,  4.18571024,  3.49895359,  2.41391853,\n",
       "         3.77114323,  3.70790198,  1.42581097,  1.45676119,  3.66272442,\n",
       "         4.39630541,  2.34402888,  5.39471491,  1.56082392,  3.45981403,\n",
       "         1.92786126,  4.99856312,  3.8463589 ,  0.98920429,  6.3183123 ,\n",
       "         5.22465942,  3.0922513 ,  1.43165183,  3.05757819,  1.72472601,\n",
       "         4.13646306,  2.31608475,  2.92743331,  2.81485271,  1.25421497,\n",
       "         3.77817225,  6.39986091,  2.16199828,  2.5793662 ,  5.54394412,\n",
       "         1.26334973,  0.82250459,  3.65931357,  1.93184237,  3.65088423,\n",
       "         3.73825943,  7.2569876 ,  3.77060635,  3.05497874,  2.76981457,\n",
       "         2.34703524,  4.38281509,  1.98690894,  2.49705846,  0.58377911,\n",
       "         4.86713822,  2.70119895,  1.92646146,  1.97862164]])"
      ]
     },
     "execution_count": 11,
     "metadata": {},
     "output_type": "execute_result"
    }
   ],
   "source": [
    "#リサンプルする\n",
    "#データを生み出してみる(この確率分布から再度標本を取る)\n",
    "\n",
    "#-例-\n",
    "resample_data = stats.gaussian_kde(df['tip']).resample()\n",
    "resample_data\n",
    "\n",
    "#ただし、KDEを実行するとマイナス値も入ることがあるので注意(実際に分布しているデータよりも広い範囲で確率をとることになるため)\n",
    "#-KDEの境界線がある場合(マイナス値になった、最大値を超えた等)の解決策-\n",
    "#境界線を超えた確率はミラーリングさせる\n"
   ]
  },
  {
   "cell_type": "markdown",
   "id": "c9ec61cf-1ed0-4af9-ba5e-e885579a9e5d",
   "metadata": {},
   "source": [
    "## 68-95-99.7ルール"
   ]
  },
  {
   "cell_type": "code",
   "execution_count": 2,
   "id": "e5b85710-e0eb-4aec-8a68-238132c59137",
   "metadata": {},
   "outputs": [
    {
     "name": "stdout",
     "output_type": "stream",
     "text": [
      "-- length check-- \n",
      "sanmples             len: 1000\n",
      "group1+group2+group3 len: 998\n",
      "    group1           len: 678\n",
      "    group2           len: 285\n",
      "    group3           len: 35\n",
      "\n",
      "\n",
      "-- 68-95-99.7 rule check-- \n",
      "check 68%   - group1/samples:                 67.80000000000001%\n",
      "check 95%   - (group1+group2)/samples:        96.3%\n",
      "check 99.7% - (group1+group2+group3)/samples: 99.8%\n"
     ]
    }
   ],
   "source": [
    "#平均μと分散σ2の正規分布におけるデータの分布のルール付け(正規分布の特徴)\n",
    "# μ ± σ (１標準偏差): 約68%\n",
    "# μ ± 2σ(2標準偏差): 約95%\n",
    "# μ ± 3σ(3標準偏差): 約99.7~100%\n",
    "\n",
    "#-例-\n",
    "#平均４、標準偏差3の正規分布からランダムに値を1000個取得し、\n",
    "#それぞれの割合が６８％,９５%,99.7%になるかを確認\n",
    "samples = [] #全部の値の配列\n",
    "group1 = []  #第１グループの配列\n",
    "group2 = []  #第2グループの配列\n",
    "group3 = []  #第3グループの配列\n",
    "lc = 4       #平均\n",
    "scl = 3      #標準偏差\n",
    "\n",
    "for i in range(1000):\n",
    "    #正規分布からランダムに値を取る\n",
    "    sample = stats.norm(loc=lc, scale=scl).rvs()\n",
    "    #取得した値は全て保持しておく\n",
    "    samples.append(sample)\n",
    "\n",
    "    #取得した値がどこに属するかを確認する\n",
    "    #第１グループ(68%)\n",
    "    if lc-scl < sample < lc+scl:\n",
    "        group1.append(sample)\n",
    "    #第2グループ(95%)\n",
    "    elif lc-2*scl < sample < lc+2*scl:\n",
    "        group2.append(sample)\n",
    "    #第3グループ(99.7~100%)\n",
    "    elif lc-3*scl < sample < lc+3*scl:\n",
    "        group3.append(sample)\n",
    "\n",
    "#結果表示\n",
    "print(\"-- length check-- \")\n",
    "print(\"sanmples             len: {}\".format(len(samples)))\n",
    "print(\"group1+group2+group3 len: {}\".format(len(group1)+len(group2)+len(group3)))\n",
    "print(\"    group1           len: {}\".format(len(group1)))\n",
    "print(\"    group2           len: {}\".format(len(group2)))\n",
    "print(\"    group3           len: {}\".format(len(group3)))\n",
    "print(\"\\n\")\n",
    "print(\"-- 68-95-99.7 rule check-- \")\n",
    "print(\"check 68%   - group1/samples:                 {}%\".format((len(group1)/len(samples)*100)))\n",
    "print(\"check 95%   - (group1+group2)/samples:        {}%\".format(((len(group1)+len(group2))/len(samples)) * 100))\n",
    "print(\"check 99.7% - (group1+group2+group3)/samples: {}%\".\n",
    "      format(((len(group1)+len(group2)+len(group3))/len(samples))*100))"
   ]
  },
  {
   "cell_type": "markdown",
   "id": "644bb67f-0b3d-40d7-a700-21c34563a9b9",
   "metadata": {},
   "source": [
    "## 標準化"
   ]
  },
  {
   "cell_type": "markdown",
   "id": "4df837ea-9f37-4dd1-b859-37bc771b7577",
   "metadata": {},
   "source": [
    "$\n",
    "z = \\frac{x_i - \\bar{x}}{s}\n",
    "$"
   ]
  },
  {
   "cell_type": "code",
   "execution_count": 7,
   "id": "c63680f2-344d-4d68-9941-628f0abfb03e",
   "metadata": {},
   "outputs": [],
   "source": [
    "#標準化とは\n",
    "#・平均を0、分散を1にすること(z得点)\n",
    "#・標準化することによって尺度を揃えることができ、複数のデータセットを比較することが可能となる\n",
    "#\n",
    "#標準化のやり方\n",
    "#・各値から平均を引き、標準偏差で割る\n",
    "#\n",
    "#　 これでなぜ平均0、分散1になるのか？\n",
    "#  それぞれの値を足し、データ数で割ると平均が求められる\n",
    "#  ↓\n",
    "#  平均が0になるためには、平均を引く\n",
    "#  \n",
    "#  それぞれの値と平均の偏差の２乗の平均をとって分散が求められる\n",
    "#  ↓\n",
    "#  分散を1にするには、1/分散をかける\n",
    "\n",
    "#偏差値(T-score)\n",
    "#・標準化を応用したもの\n",
    "#・平均を50、標準偏差を10にすること(T得点)\n",
    "#　　z得点x10+50\n",
    "\n",
    "#sklearn.prerpocessing.StandardScaler\n",
    "#・機械学習の前処理として実施されることが多い\n",
    "#・インスタンスを生成して使う\n",
    "scaler = StandardScaler()"
   ]
  },
  {
   "cell_type": "code",
   "execution_count": 5,
   "id": "e02c3de8-d872-423a-beb5-a9e353885f76",
   "metadata": {},
   "outputs": [
    {
     "data": {
      "text/plain": [
       "array([[-1.34164079,  0.12099577],\n",
       "       [-0.4472136 ,  1.50380456],\n",
       "       [ 0.4472136 , -1.26181302],\n",
       "       [ 1.34164079, -0.36298731]])"
      ]
     },
     "execution_count": 5,
     "metadata": {},
     "output_type": "execute_result"
    }
   ],
   "source": [
    "#scaler.fit_transform(data)\n",
    "#2次元のデータ(※)に対して標準化をする\n",
    "#※表形式のデータや、DataFrameに対してそのまま標準化することが多いため。1次元データだとエラーになる\n",
    "#  1次元のデータの場合は2次元に変換する\n",
    "#インスタンス\n",
    "# scaler(名前は任意)\n",
    "#引数\n",
    "# data：２次元のデータ\n",
    "scaler.fit_transform([[1, 30], [2, 50], [3, 10], [4,23]])"
   ]
  },
  {
   "cell_type": "code",
   "execution_count": 8,
   "id": "38c9bbd0-f5be-4acf-ac05-3f7e9976317a",
   "metadata": {},
   "outputs": [
    {
     "data": {
      "text/plain": [
       "array([[-1.66301817e+00],\n",
       "       [-4.28234299e-03],\n",
       "       [ 9.49146717e-02],\n",
       "       [-3.44925940e-01],\n",
       "       [-2.29624968e-01],\n",
       "       [ 4.17363756e-01],\n",
       "       [ 1.10337948e+00],\n",
       "       [-7.33936144e-01],\n",
       "       [-5.00163567e-01],\n",
       "       [ 9.47315739e-01],\n",
       "       [ 9.35535257e-02],\n",
       "       [-3.11727577e-01],\n",
       "       [-9.67838090e-01],\n",
       "       [ 3.24134057e-02],\n",
       "       [ 7.02885077e-01],\n",
       "       [ 3.42053237e-01],\n",
       "       [ 1.41511894e-02],\n",
       "       [ 1.09840651e+00],\n",
       "       [ 7.45627991e-01],\n",
       "       [ 2.33813456e-02],\n",
       "       [ 1.09728238e+00],\n",
       "       [-4.14587519e-01],\n",
       "       [-3.18225155e-01],\n",
       "       [ 5.16606793e-01],\n",
       "       [-5.88357399e-03],\n",
       "       [-4.82644844e-01],\n",
       "       [-1.83995336e-01],\n",
       "       [-5.24746516e-02],\n",
       "       [ 6.12895542e-01],\n",
       "       [-1.33408300e-01],\n",
       "       [-1.47179215e-01],\n",
       "       [-4.03019490e-01],\n",
       "       [ 6.30066304e-01],\n",
       "       [-6.95488521e-01],\n",
       "       [ 3.79214012e-01],\n",
       "       [-1.83383264e-01],\n",
       "       [-6.26420825e-01],\n",
       "       [ 3.36888626e-01],\n",
       "       [-6.10483210e-01],\n",
       "       [-1.48476102e-02],\n",
       "       [-3.47051274e-01],\n",
       "       [-2.51484529e-01],\n",
       "       [ 9.63290777e-01],\n",
       "       [-4.00987322e-01],\n",
       "       [ 3.84070953e-01],\n",
       "       [ 5.28570554e-02],\n",
       "       [ 1.05204148e+00],\n",
       "       [ 4.00062880e-01],\n",
       "       [-1.46026604e+00],\n",
       "       [ 9.01527935e-02],\n",
       "       [ 6.32672740e-01],\n",
       "       [ 1.50737567e+00],\n",
       "       [-1.87379754e-01],\n",
       "       [-6.33490804e-02],\n",
       "       [ 1.47570612e-01],\n",
       "       [ 3.16501160e-01],\n",
       "       [-1.34339804e+00],\n",
       "       [-1.70649970e+00],\n",
       "       [-6.92233716e-02],\n",
       "       [-3.50772542e-01],\n",
       "       [-4.26037703e-02],\n",
       "       [-2.62195159e-01],\n",
       "       [ 3.09625771e-01],\n",
       "       [ 7.34643039e-01],\n",
       "       [-1.75846534e-01],\n",
       "       [-6.44835090e-02],\n",
       "       [-1.74752140e-01],\n",
       "       [ 2.70613013e+00],\n",
       "       [-1.00817537e+00],\n",
       "       [-3.53784451e-01],\n",
       "       [ 5.07150927e-02],\n",
       "       [ 2.45202560e-01],\n",
       "       [-7.20300861e-01],\n",
       "       [ 6.06793973e-01],\n",
       "       [-1.87827745e-01],\n",
       "       [-6.86962166e-01],\n",
       "       [ 1.81673116e-01],\n",
       "       [-2.25503708e-01],\n",
       "       [-4.75698931e-01],\n",
       "       [-6.66905294e-02],\n",
       "       [-1.06348167e-01],\n",
       "       [ 7.10110461e-01],\n",
       "       [ 3.43336797e-01],\n",
       "       [-1.28042643e-01],\n",
       "       [-5.54068773e-01],\n",
       "       [-2.02919576e-01],\n",
       "       [-1.19950920e-01],\n",
       "       [ 9.51906867e-01],\n",
       "       [ 1.24606240e+00],\n",
       "       [-3.12167402e-01],\n",
       "       [-9.39295576e-01],\n",
       "       [-8.49568603e-02],\n",
       "       [ 2.15112759e-01],\n",
       "       [ 1.68470855e+00],\n",
       "       [-2.94443699e-01],\n",
       "       [-7.06401766e-01],\n",
       "       [-2.32579660e-01],\n",
       "       [-5.92553288e-01],\n",
       "       [-2.95559339e-01],\n",
       "       [-6.63156462e-01],\n",
       "       [ 9.75631384e-01],\n",
       "       [ 5.62061733e-01],\n",
       "       [-1.71245996e+00],\n",
       "       [-9.16211377e-02],\n",
       "       [ 5.61572178e-01],\n",
       "       [-8.86537688e-01],\n",
       "       [ 6.12711033e-01],\n",
       "       [ 1.53707264e-01],\n",
       "       [ 7.43889329e-01],\n",
       "       [ 1.94796080e+00],\n",
       "       [ 8.77536154e-01],\n",
       "       [-3.75269896e-01],\n",
       "       [-9.14450903e-01],\n",
       "       [-8.91443875e-01],\n",
       "       [-8.56662692e-02],\n",
       "       [ 6.79159437e-01],\n",
       "       [ 1.40986169e-01],\n",
       "       [-3.27457216e-01],\n",
       "       [-2.62386326e-01],\n",
       "       [-6.48763190e-01],\n",
       "       [ 6.03840260e-01],\n",
       "       [-5.84382083e-01],\n",
       "       [ 2.38124986e-01],\n",
       "       [-5.81009306e-01],\n",
       "       [ 6.74693487e-01],\n",
       "       [-3.25906246e-01],\n",
       "       [ 2.11763561e-01],\n",
       "       [-3.78387160e-01],\n",
       "       [ 2.45202560e-01],\n",
       "       [-1.07097023e+00],\n",
       "       [-1.34848847e+00],\n",
       "       [-3.47636667e-01],\n",
       "       [-4.35039313e-01],\n",
       "       [ 3.82226864e-02],\n",
       "       [ 2.81918791e-01],\n",
       "       [-2.28339078e-01],\n",
       "       [ 5.38308684e-01],\n",
       "       [-3.19291329e-01],\n",
       "       [-5.87438663e-01],\n",
       "       [ 7.90261058e-01],\n",
       "       [ 6.48775347e-01],\n",
       "       [ 5.66602723e-01],\n",
       "       [-6.46692075e-01],\n",
       "       [ 3.94446492e-01],\n",
       "       [-3.41522622e-01],\n",
       "       [ 3.09090836e-01],\n",
       "       [-1.44127377e+00],\n",
       "       [-3.85279543e-01],\n",
       "       [ 2.63984329e-01],\n",
       "       [ 1.73116196e+00],\n",
       "       [ 2.76969363e-01],\n",
       "       [-1.39131822e-01],\n",
       "       [-3.37019475e-02],\n",
       "       [-1.30172577e+00],\n",
       "       [-9.78543219e-01],\n",
       "       [ 1.86912180e-01],\n",
       "       [-9.35297952e-01],\n",
       "       [-1.77245714e-01],\n",
       "       [ 5.59814954e-01],\n",
       "       [-6.48383036e-01],\n",
       "       [ 3.26204458e-02],\n",
       "       [ 6.01667278e-01],\n",
       "       [-6.14008841e-01],\n",
       "       [-2.62195159e-01],\n",
       "       [ 1.72741873e-01],\n",
       "       [-3.09738706e-01],\n",
       "       [-8.68013801e-01],\n",
       "       [-3.09966611e-01],\n",
       "       [-1.43934483e-01],\n",
       "       [ 4.48655474e-01],\n",
       "       [ 5.90826656e-01],\n",
       "       [ 6.41064571e-01],\n",
       "       [ 9.01673417e+00],\n",
       "       [-1.00020739e+00],\n",
       "       [ 1.26355092e+00],\n",
       "       [-1.08740028e+00],\n",
       "       [-8.04114088e-01],\n",
       "       [-3.72144021e-01],\n",
       "       [ 4.19814574e+00],\n",
       "       [-9.56410951e-01],\n",
       "       [-8.95823260e-01],\n",
       "       [ 1.33517595e+00],\n",
       "       [-1.37209662e+00],\n",
       "       [ 1.96453862e+00],\n",
       "       [-1.42451552e+00],\n",
       "       [ 1.32672901e+00],\n",
       "       [ 1.09300556e-01],\n",
       "       [-1.56107458e+00],\n",
       "       [ 5.25619338e-01],\n",
       "       [ 2.02759875e-01],\n",
       "       [-1.06978792e+00],\n",
       "       [ 8.31982167e-01],\n",
       "       [-1.16147802e+00],\n",
       "       [-4.97344604e-01],\n",
       "       [ 1.32003277e+00],\n",
       "       [ 4.86876203e-01],\n",
       "       [ 5.35236429e-01],\n",
       "       [-7.35397381e-01],\n",
       "       [-1.14139106e-01],\n",
       "       [-2.09429617e-01],\n",
       "       [ 8.69393055e-01],\n",
       "       [-4.97446091e-02],\n",
       "       [-1.14139106e-01],\n",
       "       [-1.37226890e-01],\n",
       "       [ 5.58424250e-01],\n",
       "       [ 5.79382202e-01],\n",
       "       [-5.34216937e-01],\n",
       "       [-1.36747250e+00],\n",
       "       [-1.26602321e+00],\n",
       "       [ 2.29089621e-01],\n",
       "       [-1.54673887e+00],\n",
       "       [ 6.31732732e-01],\n",
       "       [ 4.17037552e-01],\n",
       "       [ 4.52726576e-01],\n",
       "       [ 1.14754500e+00],\n",
       "       [-1.23929567e+00],\n",
       "       [-8.89801138e-01],\n",
       "       [-5.14885121e-01],\n",
       "       [ 4.14195282e-01],\n",
       "       [-9.56258467e-01],\n",
       "       [ 3.30098196e-01],\n",
       "       [ 1.61635505e+00],\n",
       "       [ 1.03325376e+00],\n",
       "       [ 4.41894081e-01],\n",
       "       [-7.06645257e-01],\n",
       "       [-1.17242074e-01],\n",
       "       [ 6.13869725e-01],\n",
       "       [-2.31403218e-01],\n",
       "       [ 7.22213523e-01],\n",
       "       [-5.02136332e-01],\n",
       "       [-1.27166305e+00],\n",
       "       [ 4.98827559e-01],\n",
       "       [ 2.15248065e+00],\n",
       "       [-3.98909870e-01],\n",
       "       [ 5.31149320e-01],\n",
       "       [-6.01695617e-01],\n",
       "       [-1.33620357e+00],\n",
       "       [-2.05366292e+00],\n",
       "       [-4.99859091e-01],\n",
       "       [ 7.07572834e-01],\n",
       "       [-1.43106581e+00],\n",
       "       [-1.19087646e+00],\n",
       "       [-1.02709553e+00],\n",
       "       [-1.73622005e-02]])"
      ]
     },
     "execution_count": 8,
     "metadata": {},
     "output_type": "execute_result"
    }
   ],
   "source": [
    "#-例-\n",
    "#tip_rateをfit_transform()で標準化する\n",
    "#　df['tip_rate']:\n",
    "# これはSeries1つだけなので、NumpyArrayに変換してから標準化する必要がある\n",
    "# 　→valuesで一次元し、reshape()で二次元\n",
    "scaler.fit_transform(df['tip_rate'].values.reshape(-1, 1))"
   ]
  },
  {
   "cell_type": "code",
   "execution_count": 10,
   "id": "c6b31cff-a9b0-4bb0-bf5d-17ba5124d6c2",
   "metadata": {},
   "outputs": [
    {
     "data": {
      "text/plain": [
       "(244, 1)"
      ]
     },
     "execution_count": 10,
     "metadata": {},
     "output_type": "execute_result"
    }
   ],
   "source": [
    "#　df['tip_rate']のNumpyArrayへの変換確認\n",
    "df['tip_rate'].values.reshape(-1, 1).shape\n",
    "\n",
    "#結果:(244, 1)\n",
    "#  dfは244行のデータがあるので、↑だと１列244行のArrayに変換される\n",
    "#  行数は分からないことが多いので、−1を指定する。こうすることでデータの長さが取れる\n",
    "\n",
    "#reshape(-1, 2)\n",
    "#これだと２列122行"
   ]
  },
  {
   "cell_type": "code",
   "execution_count": 20,
   "id": "74a7c40d-5675-4bb7-bdb8-31c8980e762c",
   "metadata": {},
   "outputs": [
    {
     "data": {
      "text/plain": [
       "array([[-3.14711305e-01, -1.66301817e+00],\n",
       "       [-1.06323531e+00, -4.28234299e-03],\n",
       "       [ 1.37779900e-01,  9.49146717e-02],\n",
       "       [ 4.38315103e-01, -3.44925940e-01],\n",
       "       [ 5.40744704e-01, -2.29624968e-01],\n",
       "       [ 6.19536705e-01,  4.17363756e-01],\n",
       "       [-1.23995452e+00,  1.10337948e+00],\n",
       "       [ 7.98507107e-01, -7.33936144e-01],\n",
       "       [-5.34203307e-01, -5.00163567e-01],\n",
       "       [-5.63468908e-01,  9.47315739e-01],\n",
       "       [-1.07111451e+00,  9.35535257e-02],\n",
       "       [ 1.74175992e+00, -3.11727577e-01],\n",
       "       [-4.91430507e-01, -9.67838090e-01],\n",
       "       [-1.52624903e-01,  3.24134057e-02],\n",
       "       [-5.57840908e-01,  7.02885077e-01],\n",
       "       [ 2.01939101e-01,  3.42053237e-01],\n",
       "       [-1.06436091e+00,  1.41511894e-02],\n",
       "       [-3.93503306e-01,  1.09840651e+00],\n",
       "       [-3.16962505e-01,  7.45627991e-01],\n",
       "       [ 9.72582994e-02,  2.33813456e-02],\n",
       "       [-2.10030504e-01,  1.09728238e+00],\n",
       "       [ 5.67366990e-02, -4.14587519e-01],\n",
       "       [-4.52034507e-01, -3.18225155e-01],\n",
       "       [ 2.21000952e+00,  5.16606793e-01],\n",
       "       [ 3.83349840e-03, -5.88357399e-03],\n",
       "       [-2.22412104e-01, -4.82644844e-01],\n",
       "       [-7.22178510e-01, -1.83995336e-01],\n",
       "       [-7.98719310e-01, -5.24746516e-02],\n",
       "       [ 2.15446301e-01,  6.12895542e-01],\n",
       "       [-1.53017018e-02, -1.33408300e-01],\n",
       "       [-1.15215771e+00, -1.47179215e-01],\n",
       "       [-1.61629703e-01, -4.03019490e-01],\n",
       "       [-5.31952107e-01,  6.30066304e-01],\n",
       "       [ 1.01760699e-01, -6.95488521e-01],\n",
       "       [-2.25788904e-01,  3.79214012e-01],\n",
       "       [ 4.81087904e-01, -1.83383264e-01],\n",
       "       [-3.91252106e-01, -6.26420825e-01],\n",
       "       [-3.21464905e-01,  3.36888626e-01],\n",
       "       [-1.23359303e-01, -6.10483210e-01],\n",
       "       [ 1.29264551e+00, -1.48476102e-02],\n",
       "       [-4.21643306e-01, -3.47051274e-01],\n",
       "       [-2.61808105e-01, -2.51484529e-01],\n",
       "       [-6.58019309e-01,  9.63290777e-01],\n",
       "       [-1.13752491e+00, -4.00987322e-01],\n",
       "       [ 1.19471831e+00,  3.84070953e-01],\n",
       "       [-1.68383303e-01,  5.28570554e-02],\n",
       "       [ 2.75103101e-01,  1.05204148e+00],\n",
       "       [ 1.41983831e+00,  4.00062880e-01],\n",
       "       [ 9.86482309e-01, -1.46026604e+00],\n",
       "       [-1.96523304e-01,  9.01527935e-02],\n",
       "       [-8.15603311e-01,  6.32672740e-01],\n",
       "       [-1.06886331e+00,  1.50737567e+00],\n",
       "       [ 1.69110792e+00, -1.87379754e-01],\n",
       "       [-1.10825931e+00, -6.33490804e-02],\n",
       "       [ 6.49927905e-01,  1.47570612e-01],\n",
       "       [-3.33113020e-02,  3.16501160e-01],\n",
       "       [ 2.05129992e+00, -1.34339804e+00],\n",
       "       [ 7.45603907e-01, -1.70649970e+00],\n",
       "       [-9.61931312e-01, -6.92233716e-02],\n",
       "       [ 3.20616553e+00, -3.50772542e-01],\n",
       "       [ 5.67366990e-02, -4.26037703e-02],\n",
       "       [-6.72652109e-01, -2.62195159e-01],\n",
       "       [-9.86694512e-01,  3.09625771e-01],\n",
       "       [-1.68383303e-01,  7.34643039e-01],\n",
       "       [-2.47175304e-01, -1.75846534e-01],\n",
       "       [ 3.30990987e-02, -6.44835090e-02],\n",
       "       [-3.75493706e-01, -1.74752140e-01],\n",
       "       [-1.88154652e+00,  2.70613013e+00],\n",
       "       [ 4.99830989e-02, -1.00817537e+00],\n",
       "       [-5.37580108e-01, -3.53784451e-01],\n",
       "       [-8.74134511e-01,  5.07150927e-02],\n",
       "       [-3.05706505e-01,  2.45202560e-01],\n",
       "       [ 7.96255907e-01, -7.20300861e-01],\n",
       "       [ 6.18411105e-01,  6.06793973e-01],\n",
       "       [-5.69096908e-01, -1.87827745e-01],\n",
       "       [-1.04410011e+00, -6.86962166e-01],\n",
       "       [-2.10030504e-01,  1.81673116e-01],\n",
       "       [ 8.34526308e-01, -2.25503708e-01],\n",
       "       [ 3.34759902e-01, -4.75698931e-01],\n",
       "       [-2.80943305e-01, -6.66905294e-02],\n",
       "       [-3.89393021e-02, -1.06348167e-01],\n",
       "       [-3.51856105e-01,  7.10110461e-01],\n",
       "       [-1.09362651e+00,  3.43336797e-01],\n",
       "       [ 1.45135511e+00, -1.28042643e-01],\n",
       "       [-4.28396906e-01, -5.54068773e-01],\n",
       "       [ 1.69335912e+00, -2.02919576e-01],\n",
       "       [-7.60448910e-01, -1.19950920e-01],\n",
       "       [-1.69508903e-01,  9.51906867e-01],\n",
       "       [ 5.54251904e-01,  1.24606240e+00],\n",
       "       [ 1.54663900e-01, -3.12167402e-01],\n",
       "       [ 1.03375751e+00, -9.39295576e-01],\n",
       "       [ 3.04368702e-01, -8.49568603e-02],\n",
       "       [-1.57988572e+00,  2.15112759e-01],\n",
       "       [-3.90126506e-01,  1.68470855e+00],\n",
       "       [ 3.33634302e-01, -2.94443699e-01],\n",
       "       [ 2.29442952e+00, -7.06401766e-01],\n",
       "       [ 8.43531108e-01, -2.32579660e-01],\n",
       "       [-8.73008911e-01, -5.92553288e-01],\n",
       "       [ 1.37779900e-01, -2.95559339e-01],\n",
       "       [-8.24608111e-01, -6.63156462e-01],\n",
       "       [-9.49549712e-01,  9.75631384e-01],\n",
       "       [-4.95932907e-01,  5.62061733e-01],\n",
       "       [ 2.75930233e+00, -1.71245996e+00],\n",
       "       [ 2.96489502e-01, -9.16211377e-02],\n",
       "       [ 1.27649500e-01,  5.61572178e-01],\n",
       "       [-4.98184107e-01, -8.86537688e-01],\n",
       "       [ 7.92486992e-02,  6.12711033e-01],\n",
       "       [ 6.10531905e-01,  1.53707264e-01],\n",
       "       [-1.74011304e-01,  7.43889329e-01],\n",
       "       [-6.16372108e-01,  1.94796080e+00],\n",
       "       [-6.51265709e-01,  8.77536154e-01],\n",
       "       [-1.41104572e+00, -3.75269896e-01],\n",
       "       [ 2.05805352e+00, -9.14450903e-01],\n",
       "       [ 4.68706304e-01, -8.91443875e-01],\n",
       "       [ 6.66811906e-01, -8.56662692e-02],\n",
       "       [-2.78692105e-01,  6.79159437e-01],\n",
       "       [ 1.14181511e+00,  1.40986169e-01],\n",
       "       [-1.02834171e+00, -3.27457216e-01],\n",
       "       [-8.27984911e-01, -2.62386326e-01],\n",
       "       [ 4.83339104e-01, -6.48763190e-01],\n",
       "       [-9.11279312e-01,  6.03840260e-01],\n",
       "       [-7.16550509e-01, -5.84382083e-01],\n",
       "       [-6.22000108e-01,  2.38124986e-01],\n",
       "       [-4.31773706e-01, -5.81009306e-01],\n",
       "       [-8.22356911e-01,  6.74693487e-01],\n",
       "       [ 1.12718231e+00, -3.25906246e-01],\n",
       "       [-1.26809452e+00,  2.11763561e-01],\n",
       "       [-5.92734508e-01, -3.78387160e-01],\n",
       "       [-9.46172912e-01,  2.45202560e-01],\n",
       "       [ 3.41513502e-01, -1.07097023e+00],\n",
       "       [-7.94609025e-02, -1.34848847e+00],\n",
       "       [ 5.44854990e-02, -3.47636667e-01],\n",
       "       [-9.69810512e-01, -4.35039313e-01],\n",
       "       [-8.47120111e-01,  3.82226864e-02],\n",
       "       [-1.71760104e-01,  2.81918791e-01],\n",
       "       [-1.26922012e+00, -2.28339078e-01],\n",
       "       [-1.06436091e+00,  5.38308684e-01],\n",
       "       [-6.34381709e-01, -3.19291329e-01],\n",
       "       [-4.26145706e-01, -5.87438663e-01],\n",
       "       [-7.45816110e-01,  7.90261058e-01],\n",
       "       [-2.60682504e-01,  6.48775347e-01],\n",
       "       [ 1.63370232e+00,  5.66602723e-01],\n",
       "       [ 2.40924072e+00, -6.46692075e-01],\n",
       "       [ 8.17642307e-01,  3.94446492e-01],\n",
       "       [-3.77744906e-01, -3.41522622e-01],\n",
       "       [-1.28722972e+00,  3.09090836e-01],\n",
       "       [-1.28987303e-01, -1.44127377e+00],\n",
       "       [-8.91018511e-01, -3.85279543e-01],\n",
       "       [-1.12626891e+00,  2.63984329e-01],\n",
       "       [-1.38178012e+00,  1.73116196e+00],\n",
       "       [-6.43386509e-01,  2.76969363e-01],\n",
       "       [-7.49192910e-01, -1.39131822e-01],\n",
       "       [-2.84320105e-01, -3.37019475e-02],\n",
       "       [ 5.36242304e-01, -1.30172577e+00],\n",
       "       [-1.79450166e-03, -9.78543219e-01],\n",
       "       [ 1.13281031e+00,  1.86912180e-01],\n",
       "       [ 3.19490953e+00, -9.35297952e-01],\n",
       "       [ 5.86894305e-01, -1.77245714e-01],\n",
       "       [-7.19927310e-01,  5.59814954e-01],\n",
       "       [-3.70991306e-01, -6.48383036e-01],\n",
       "       [ 1.92934300e-01,  3.26204458e-02],\n",
       "       [-8.02096110e-01,  6.01667278e-01],\n",
       "       [-4.02508106e-01, -6.14008841e-01],\n",
       "       [-6.72652109e-01, -2.62195159e-01],\n",
       "       [-2.56180104e-01,  1.72741873e-01],\n",
       "       [ 5.32865504e-01, -3.09738706e-01],\n",
       "       [ 1.09639900e-01, -8.68013801e-01],\n",
       "       [ 1.34217191e+00, -3.09966611e-01],\n",
       "       [-1.03509531e+00, -1.43934483e-01],\n",
       "       [-1.03059291e+00,  4.48655474e-01],\n",
       "       [ 3.49206794e+00,  5.90826656e-01],\n",
       "       [-4.47532107e-01,  6.41064571e-01],\n",
       "       [-1.41104572e+00,  9.01673417e+00],\n",
       "       [ 1.35793031e+00, -1.00020739e+00],\n",
       "       [-3.33846505e-01,  1.26355092e+00],\n",
       "       [ 1.47611831e+00, -1.08740028e+00],\n",
       "       [-2.13407304e-01, -8.04114088e-01],\n",
       "       [-5.97236908e-01, -3.72144021e-01],\n",
       "       [-1.14652971e+00,  4.19814574e+00],\n",
       "       [ 1.67084712e+00, -9.56410951e-01],\n",
       "       [ 1.67309832e+00, -8.95823260e-01],\n",
       "       [ 3.98919103e-01,  1.33517595e+00],\n",
       "       [ 2.87749033e+00, -1.37209662e+00],\n",
       "       [ 3.80909503e-01,  1.96453862e+00],\n",
       "       [ 2.33720232e+00, -1.42451552e+00],\n",
       "       [ 1.01760699e-01,  1.32672901e+00],\n",
       "       [ 1.25398300e-01,  1.09300556e-01],\n",
       "       [ 1.20147191e+00, -1.56107458e+00],\n",
       "       [-1.84141704e-01,  5.25619338e-01],\n",
       "       [ 3.73030302e-01,  2.02759875e-01],\n",
       "       [-4.61039307e-01, -1.06978792e+00],\n",
       "       [ 2.70789839e-03,  8.31982167e-01],\n",
       "       [ 9.74100709e-01, -1.16147802e+00],\n",
       "       [-4.84676907e-01, -4.97344604e-01],\n",
       "       [-3.60860906e-01,  1.32003277e+00],\n",
       "       [-1.37615212e+00,  4.86876203e-01],\n",
       "       [-1.06323531e+00,  5.35236429e-01],\n",
       "       [ 2.62535593e+00, -7.35397381e-01],\n",
       "       [-7.63825710e-01, -1.14139106e-01],\n",
       "       [-7.06420109e-01, -2.09429617e-01],\n",
       "       [-1.21108103e-01,  8.69393055e-01],\n",
       "       [-7.93091310e-01, -4.97446091e-02],\n",
       "       [-7.63825710e-01, -1.14139106e-01],\n",
       "       [-3.81121706e-01, -1.37226890e-01],\n",
       "       [ 8.37510993e-02,  5.58424250e-01],\n",
       "       [-3.73242506e-01,  5.79382202e-01],\n",
       "       [ 7.65864707e-01, -5.34216937e-01],\n",
       "       [ 2.13234312e+00, -1.36747250e+00],\n",
       "       [ 5.04725504e-01, -1.26602321e+00],\n",
       "       [-7.90840110e-01,  2.29089621e-01],\n",
       "       [ 1.15644791e+00, -1.54673887e+00],\n",
       "       [ 6.87072706e-01,  6.31732732e-01],\n",
       "       [ 3.21291913e+00,  4.17037552e-01],\n",
       "       [-7.33434510e-01,  4.52726576e-01],\n",
       "       [ 9.43709509e-01,  1.14754500e+00],\n",
       "       [-7.75081710e-01, -1.23929567e+00],\n",
       "       [ 9.41458309e-01, -8.89801138e-01],\n",
       "       [-9.22535312e-01, -5.14885121e-01],\n",
       "       [-1.35589132e+00,  4.14195282e-01],\n",
       "       [ 1.16545271e+00, -9.56258467e-01],\n",
       "       [-8.58376111e-01,  3.30098196e-01],\n",
       "       [-7.16550509e-01,  1.61635505e+00],\n",
       "       [-1.26134092e+00,  1.03325376e+00],\n",
       "       [-4.28396906e-01,  4.41894081e-01],\n",
       "       [-7.16550509e-01, -7.06645257e-01],\n",
       "       [-3.95754506e-01, -1.17242074e-01],\n",
       "       [-1.09137531e+00,  6.13869725e-01],\n",
       "       [ 7.47462992e-02, -2.31403218e-01],\n",
       "       [-7.32308910e-01,  7.22213523e-01],\n",
       "       [ 2.62721501e-01, -5.02136332e-01],\n",
       "       [ 4.75459904e-01, -1.27166305e+00],\n",
       "       [-4.61039307e-01,  4.98827559e-01],\n",
       "       [-9.20284112e-01,  2.15248065e+00],\n",
       "       [-1.01483451e+00, -3.98909870e-01],\n",
       "       [-4.79048907e-01,  5.31149320e-01],\n",
       "       [-1.09362651e+00, -6.01695617e-01],\n",
       "       [-8.08849711e-01, -1.33620357e+00],\n",
       "       [ 1.46823911e+00, -2.05366292e+00],\n",
       "       [ 1.80591912e+00, -4.99859091e-01],\n",
       "       [ 1.04051111e+00,  7.07572834e-01],\n",
       "       [ 8.32275107e-01, -1.43106581e+00],\n",
       "       [ 3.24629502e-01, -1.19087646e+00],\n",
       "       [-2.21286504e-01, -1.02709553e+00],\n",
       "       [-1.13228903e-01, -1.73622005e-02]])"
      ]
     },
     "execution_count": 20,
     "metadata": {},
     "output_type": "execute_result"
    }
   ],
   "source": [
    "#実際に標準化するときは1つのデータセットだけではなく、複数のデータに対して標準化することが多い\n",
    "#\n",
    "#-例-\n",
    "#total_billとtip_rateの標準化\n",
    "#total_billとtip_rateですでに2次元なので、reshapeする必要はない\n",
    "scaler.fit_transform(df[['total_bill', 'tip_rate']])"
   ]
  },
  {
   "cell_type": "code",
   "execution_count": 12,
   "id": "9633243d-d48d-4bae-b7e9-369d9dfd228e",
   "metadata": {},
   "outputs": [
    {
     "data": {
      "text/plain": [
       "array([[ 33.36981828],\n",
       "       [ 49.95717657],\n",
       "       [ 50.94914672],\n",
       "       [ 46.5507406 ],\n",
       "       [ 47.70375032],\n",
       "       [ 54.17363756],\n",
       "       [ 61.03379478],\n",
       "       [ 42.66063856],\n",
       "       [ 44.99836433],\n",
       "       [ 59.47315739],\n",
       "       [ 50.93553526],\n",
       "       [ 46.88272423],\n",
       "       [ 40.3216191 ],\n",
       "       [ 50.32413406],\n",
       "       [ 57.02885077],\n",
       "       [ 53.42053237],\n",
       "       [ 50.14151189],\n",
       "       [ 60.98406513],\n",
       "       [ 57.45627991],\n",
       "       [ 50.23381346],\n",
       "       [ 60.97282376],\n",
       "       [ 45.85412481],\n",
       "       [ 46.81774845],\n",
       "       [ 55.16606793],\n",
       "       [ 49.94116426],\n",
       "       [ 45.17355156],\n",
       "       [ 48.16004664],\n",
       "       [ 49.47525348],\n",
       "       [ 56.12895542],\n",
       "       [ 48.665917  ],\n",
       "       [ 48.52820785],\n",
       "       [ 45.9698051 ],\n",
       "       [ 56.30066304],\n",
       "       [ 43.04511479],\n",
       "       [ 53.79214012],\n",
       "       [ 48.16616736],\n",
       "       [ 43.73579175],\n",
       "       [ 53.36888626],\n",
       "       [ 43.8951679 ],\n",
       "       [ 49.8515239 ],\n",
       "       [ 46.52948726],\n",
       "       [ 47.48515471],\n",
       "       [ 59.63290777],\n",
       "       [ 45.99012678],\n",
       "       [ 53.84070953],\n",
       "       [ 50.52857055],\n",
       "       [ 60.52041476],\n",
       "       [ 54.0006288 ],\n",
       "       [ 35.3973396 ],\n",
       "       [ 50.90152794],\n",
       "       [ 56.3267274 ],\n",
       "       [ 65.07375667],\n",
       "       [ 48.12620246],\n",
       "       [ 49.3665092 ],\n",
       "       [ 51.47570612],\n",
       "       [ 53.1650116 ],\n",
       "       [ 36.56601957],\n",
       "       [ 32.93500302],\n",
       "       [ 49.30776628],\n",
       "       [ 46.49227458],\n",
       "       [ 49.5739623 ],\n",
       "       [ 47.37804841],\n",
       "       [ 53.09625771],\n",
       "       [ 57.34643039],\n",
       "       [ 48.24153466],\n",
       "       [ 49.35516491],\n",
       "       [ 48.2524786 ],\n",
       "       [ 77.06130127],\n",
       "       [ 39.91824625],\n",
       "       [ 46.46215549],\n",
       "       [ 50.50715093],\n",
       "       [ 52.4520256 ],\n",
       "       [ 42.79699139],\n",
       "       [ 56.06793973],\n",
       "       [ 48.12172255],\n",
       "       [ 43.13037834],\n",
       "       [ 51.81673116],\n",
       "       [ 47.74496292],\n",
       "       [ 45.24301069],\n",
       "       [ 49.33309471],\n",
       "       [ 48.93651833],\n",
       "       [ 57.10110461],\n",
       "       [ 53.43336797],\n",
       "       [ 48.71957357],\n",
       "       [ 44.45931227],\n",
       "       [ 47.97080424],\n",
       "       [ 48.8004908 ],\n",
       "       [ 59.51906867],\n",
       "       [ 62.46062397],\n",
       "       [ 46.87832598],\n",
       "       [ 40.60704424],\n",
       "       [ 49.1504314 ],\n",
       "       [ 52.15112759],\n",
       "       [ 66.84708553],\n",
       "       [ 47.05556301],\n",
       "       [ 42.93598234],\n",
       "       [ 47.6742034 ],\n",
       "       [ 44.07446712],\n",
       "       [ 47.04440661],\n",
       "       [ 43.36843538],\n",
       "       [ 59.75631384],\n",
       "       [ 55.62061733],\n",
       "       [ 32.87540045],\n",
       "       [ 49.08378862],\n",
       "       [ 55.61572178],\n",
       "       [ 41.13462312],\n",
       "       [ 56.12711033],\n",
       "       [ 51.53707264],\n",
       "       [ 57.43889329],\n",
       "       [ 69.479608  ],\n",
       "       [ 58.77536154],\n",
       "       [ 46.24730104],\n",
       "       [ 40.85549097],\n",
       "       [ 41.08556125],\n",
       "       [ 49.14333731],\n",
       "       [ 56.79159437],\n",
       "       [ 51.40986169],\n",
       "       [ 46.72542784],\n",
       "       [ 47.37613674],\n",
       "       [ 43.5123681 ],\n",
       "       [ 56.0384026 ],\n",
       "       [ 44.15617917],\n",
       "       [ 52.38124986],\n",
       "       [ 44.18990694],\n",
       "       [ 56.74693487],\n",
       "       [ 46.74093754],\n",
       "       [ 52.11763561],\n",
       "       [ 46.2161284 ],\n",
       "       [ 52.4520256 ],\n",
       "       [ 39.29029772],\n",
       "       [ 36.51511527],\n",
       "       [ 46.52363333],\n",
       "       [ 45.64960687],\n",
       "       [ 50.38222686],\n",
       "       [ 52.81918791],\n",
       "       [ 47.71660922],\n",
       "       [ 55.38308684],\n",
       "       [ 46.80708671],\n",
       "       [ 44.12561337],\n",
       "       [ 57.90261058],\n",
       "       [ 56.48775347],\n",
       "       [ 55.66602723],\n",
       "       [ 43.53307925],\n",
       "       [ 53.94446492],\n",
       "       [ 46.58477378],\n",
       "       [ 53.09090836],\n",
       "       [ 35.5872623 ],\n",
       "       [ 46.14720457],\n",
       "       [ 52.63984329],\n",
       "       [ 67.31161959],\n",
       "       [ 52.76969363],\n",
       "       [ 48.60868178],\n",
       "       [ 49.66298053],\n",
       "       [ 36.98274227],\n",
       "       [ 40.21456781],\n",
       "       [ 51.8691218 ],\n",
       "       [ 40.64702048],\n",
       "       [ 48.22754286],\n",
       "       [ 55.59814954],\n",
       "       [ 43.51616964],\n",
       "       [ 50.32620446],\n",
       "       [ 56.01667278],\n",
       "       [ 43.85991159],\n",
       "       [ 47.37804841],\n",
       "       [ 51.72741873],\n",
       "       [ 46.90261294],\n",
       "       [ 41.31986199],\n",
       "       [ 46.90033389],\n",
       "       [ 48.56065517],\n",
       "       [ 54.48655474],\n",
       "       [ 55.90826656],\n",
       "       [ 56.41064571],\n",
       "       [140.16734169],\n",
       "       [ 39.99792609],\n",
       "       [ 62.63550921],\n",
       "       [ 39.12599719],\n",
       "       [ 41.95885912],\n",
       "       [ 46.27855979],\n",
       "       [ 91.98145738],\n",
       "       [ 40.43589049],\n",
       "       [ 41.0417674 ],\n",
       "       [ 63.35175951],\n",
       "       [ 36.27903382],\n",
       "       [ 69.64538616],\n",
       "       [ 35.75484482],\n",
       "       [ 63.26729012],\n",
       "       [ 51.09300556],\n",
       "       [ 34.38925415],\n",
       "       [ 55.25619338],\n",
       "       [ 52.02759875],\n",
       "       [ 39.30212077],\n",
       "       [ 58.31982167],\n",
       "       [ 38.38521979],\n",
       "       [ 45.02655396],\n",
       "       [ 63.20032769],\n",
       "       [ 54.86876203],\n",
       "       [ 55.35236429],\n",
       "       [ 42.64602619],\n",
       "       [ 48.85860894],\n",
       "       [ 47.90570383],\n",
       "       [ 58.69393055],\n",
       "       [ 49.50255391],\n",
       "       [ 48.85860894],\n",
       "       [ 48.6277311 ],\n",
       "       [ 55.5842425 ],\n",
       "       [ 55.79382202],\n",
       "       [ 44.65783063],\n",
       "       [ 36.32527496],\n",
       "       [ 37.33976793],\n",
       "       [ 52.29089621],\n",
       "       [ 34.53261128],\n",
       "       [ 56.31732732],\n",
       "       [ 54.17037552],\n",
       "       [ 54.52726576],\n",
       "       [ 61.47545002],\n",
       "       [ 37.60704326],\n",
       "       [ 41.10198862],\n",
       "       [ 44.85114879],\n",
       "       [ 54.14195282],\n",
       "       [ 40.43741533],\n",
       "       [ 53.30098196],\n",
       "       [ 66.16355048],\n",
       "       [ 60.33253757],\n",
       "       [ 54.41894081],\n",
       "       [ 42.93354743],\n",
       "       [ 48.82757926],\n",
       "       [ 56.13869725],\n",
       "       [ 47.68596782],\n",
       "       [ 57.22213523],\n",
       "       [ 44.97863668],\n",
       "       [ 37.28336948],\n",
       "       [ 54.98827559],\n",
       "       [ 71.52480645],\n",
       "       [ 46.0109013 ],\n",
       "       [ 55.3114932 ],\n",
       "       [ 43.98304383],\n",
       "       [ 36.63796431],\n",
       "       [ 29.46337075],\n",
       "       [ 45.00140909],\n",
       "       [ 57.07572834],\n",
       "       [ 35.68934191],\n",
       "       [ 38.09123541],\n",
       "       [ 39.72904473],\n",
       "       [ 49.826378  ]])"
      ]
     },
     "execution_count": 12,
     "metadata": {},
     "output_type": "execute_result"
    }
   ],
   "source": [
    "#偏差値を求める場合(標準化した値に10をかけて５０を足す)\n",
    "scaled = scaler.fit_transform(df['tip_rate'].values.reshape(-1, 1))\n",
    "scaled * 10 + 50"
   ]
  },
  {
   "cell_type": "markdown",
   "id": "620c3777-4165-43d0-9428-86e9f35fc21c",
   "metadata": {},
   "source": [
    "## 二項分布(Binomial distribution)"
   ]
  },
  {
   "cell_type": "markdown",
   "id": "1d6f9270-b086-456a-b72a-f0b4bad204da",
   "metadata": {},
   "source": [
    "$\n",
    "P(x) = _nC_xp^xq^{n-x} = \\frac{n!}{x!(n-x)!}p^xq^{n-x}\n",
    "$"
   ]
  },
  {
   "cell_type": "code",
   "execution_count": 14,
   "id": "b861f6f8-384c-47e9-bb2e-e6b69adf7307",
   "metadata": {},
   "outputs": [
    {
     "data": {
      "text/plain": [
       "<matplotlib.collections.LineCollection at 0x404fdf1d30>"
      ]
     },
     "execution_count": 14,
     "metadata": {},
     "output_type": "execute_result"
    },
    {
     "data": {
      "image/png": "[encoded data removed]",
      "text/plain": [
       "<Figure size 432x288 with 1 Axes>"
      ]
     },
     "metadata": {
      "needs_background": "light"
     },
     "output_type": "display_data"
    }
   ],
   "source": [
    "#二項分布の特徴\n",
    "#・様々な確率分布の基礎となる分布\n",
    "#・正規分布も二項分布を発展させたもの\n",
    "#・ある観察や試行を複数回行った時にある事象が起こる回数が従う確率分布\n",
    "#　　例\n",
    "#  サイコロを３回投げて２がn回出る確率(n!/x!(n-x)!)が従う確率分布\n",
    "#    ０回: 5/6 ^3 = 125/216\n",
    "#    1回: 3*(1/6)(5/6)^2 = 75/216 ※１回目に出る、２回目に出る、３回目に出る　３パターンあるので3をかける\n",
    "#    2回: 3*(1/6)^2(5/6) = 15/216\n",
    "#    ３回: 1/6 ^3 = 1/216\n",
    "#  コインを１０回投げて表がn回出る確率が従う確率分布　etc・・・\n",
    "\n",
    "#二項分布を描画する\n",
    "#試行回数x回と確率pで決まる\n",
    "#stats.binom(n, p).<メソッド>\n",
    "#確率分布の引数\n",
    "# n:試行回数(サイコロを３回投げる)\n",
    "# p:確率(サイコロの目で２が出る確率1/6)\n",
    "#binomのメソッド\n",
    "# pmf(x):probability mass function 確率質量関数。離散型(飛び飛びの値)の確率分布\n",
    "\n",
    "#-例-\n",
    "#サイコロの目の二項分布を描画する\n",
    "n = 3   #試行回数(サイコロを投げた回数)\n",
    "p = 1/6 #確率(サイコロの目の確率)\n",
    "\n",
    "#xの値(離散型)を作る\n",
    "x = np.arange(n + 1)\n",
    "#二項分布(xに対する確率)\n",
    "y = stats.binom(n, p).pmf(x)\n",
    "\n",
    "#二項分布を描画する\n",
    "#離散型の確率分布を描きたいので、点と点を線で結ばない\n",
    "plt.plot(x, y, 'o')\n",
    "#点とx軸の間に線を引く\n",
    "plt.vlines(x, 0, y)"
   ]
  },
  {
   "cell_type": "markdown",
   "id": "45a2cd10-6a8b-4447-9bf5-28c0f2519dd9",
   "metadata": {},
   "source": [
    "## 二項分布→正規分布"
   ]
  },
  {
   "cell_type": "code",
   "execution_count": 4,
   "id": "97c859dd-caa8-41db-ba81-fe70c558765d",
   "metadata": {},
   "outputs": [
    {
     "data": {
      "text/plain": [
       "[<matplotlib.lines.Line2D at 0x40508218e0>]"
      ]
     },
     "execution_count": 4,
     "metadata": {},
     "output_type": "execute_result"
    },
    {
     "data": {
      "image/png": "[encoded data removed]",
      "text/plain": [
       "<Figure size 432x288 with 1 Axes>"
      ]
     },
     "metadata": {
      "needs_background": "light"
     },
     "output_type": "display_data"
    }
   ],
   "source": [
    "#二項分布と正規分布\n",
    "#・二項分布のn(試行回数とか)を無限大にした分布は正規分布に近似する\n",
    "# npを一定にしてnを無限大にした場合はポワソン分布に近似する\n",
    "#　　例\n",
    "#  サイコロを100回投げて２がn回出る確率\n",
    "#    ０回出る確率より１回出る確率のほうが大きい\n",
    "#    1回出る確率より2回出る確率のほうが大きい\n",
    "#    2回出る確率より3回出る確率のほうが大きい\n",
    "#    ・・・\n",
    "#    →最も確率が高いのは、100x1/6=１７回あたり\n",
    "#    　　ここを越すと確率が下がっていく\n",
    "#   \n",
    "#   →イメージすると、正規分布っぽくなりそう\n",
    "#    平均np、分散npqの正規分布に近似できる ※q = 1-p\n",
    "\n",
    "#-例-\n",
    "#二項分布が正規分布に近似することをサイコロの目の確率で確認する\n",
    "n = 100 #サイコロを投げた回数(平均)\n",
    "p = 1/6 #サイコロの目の確率(確率)\n",
    "\n",
    "#xの値(離散型)を作る\n",
    "x = np.arange(n+1)\n",
    "#二項分布\n",
    "y = stats.binom(n, p).pmf(x)\n",
    "\n",
    "#描画する(点を打つ)\n",
    "plt.plot(x, y, 'o')\n",
    "\n",
    "#結果\n",
    "# 正規分布の形となっている\n",
    "# 17あたりの確率が最も高いことがわかる"
   ]
  },
  {
   "cell_type": "code",
   "execution_count": 6,
   "id": "8e8c1f18-6652-4921-af79-b45eae3eb175",
   "metadata": {},
   "outputs": [
    {
     "data": {
      "text/plain": [
       "16.666666666666664"
      ]
     },
     "execution_count": 6,
     "metadata": {},
     "output_type": "execute_result"
    }
   ],
   "source": [
    "#平均npの確認 100x1/6\n",
    "stats.binom(n, p).mean()"
   ]
  },
  {
   "cell_type": "code",
   "execution_count": 10,
   "id": "04935224-f395-47fd-a7d4-098298b3141d",
   "metadata": {},
   "outputs": [
    {
     "data": {
      "text/plain": [
       "16.666666666666664"
      ]
     },
     "execution_count": 10,
     "metadata": {},
     "output_type": "execute_result"
    }
   ],
   "source": [
    "n*p"
   ]
  },
  {
   "cell_type": "code",
   "execution_count": 9,
   "id": "304ef311-d1c1-4ac3-867d-99597293ef60",
   "metadata": {},
   "outputs": [
    {
     "data": {
      "text/plain": [
       "13.888888888888888"
      ]
     },
     "execution_count": 9,
     "metadata": {},
     "output_type": "execute_result"
    }
   ],
   "source": [
    "#分散npqの確認 100x1/6x5/6\n",
    "stats.binom(n, p).var()"
   ]
  },
  {
   "cell_type": "code",
   "execution_count": 11,
   "id": "4cae3662-6075-42f5-bc2f-cf234cb7d145",
   "metadata": {},
   "outputs": [
    {
     "data": {
      "text/plain": [
       "13.888888888888888"
      ]
     },
     "execution_count": 11,
     "metadata": {},
     "output_type": "execute_result"
    }
   ],
   "source": [
    "n*p*(1-p)"
   ]
  },
  {
   "cell_type": "code",
   "execution_count": 12,
   "id": "42608a3f-5457-429a-a447-853c1eb0eae5",
   "metadata": {},
   "outputs": [
    {
     "data": {
      "text/plain": [
       "[<matplotlib.lines.Line2D at 0x4050bcb3d0>]"
      ]
     },
     "execution_count": 12,
     "metadata": {},
     "output_type": "execute_result"
    },
    {
     "data": {
      "image/png": "[encoded data removed]",
      "text/plain": [
       "<Figure size 432x288 with 1 Axes>"
      ]
     },
     "metadata": {
      "needs_background": "light"
     },
     "output_type": "display_data"
    }
   ],
   "source": [
    "#-例-\n",
    "#nを大きくすると、平均np、分散npqの正規分布に近似すること確認する\n",
    "#平均np、分散npqの正規分布を同じx軸を使って描画してみる\n",
    "\n",
    "#正規分布は連続型確率分布\n",
    "#pdf:確率密度関数\n",
    "#※qは設定されていないので、1-p\n",
    "y2 = stats.norm(n*p, np.sqrt(n*p*(1-p))).pdf(x)\n",
    "\n",
    "#描画\n",
    "plt.plot(x, y2)\n",
    "#二項分布を重ねる\n",
    "plt.plot(x, y, 'o') "
   ]
  },
  {
   "cell_type": "code",
   "execution_count": null,
   "id": "41dd0fcb-b60b-4aef-9fcc-9e4b6fc84580",
   "metadata": {},
   "outputs": [],
   "source": []
  }
 ],
 "metadata": {
  "kernelspec": {
   "display_name": "Python 3",
   "language": "python",
   "name": "python3"
  },
  "language_info": {
   "codemirror_mode": {
    "name": "ipython",
    "version": 3
   },
   "file_extension": ".py",
   "mimetype": "text/x-python",
   "name": "python",
   "nbconvert_exporter": "python",
   "pygments_lexer": "ipython3",
   "version": "3.8.8"
  }
 },
 "nbformat": 4,
 "nbformat_minor": 5
}
