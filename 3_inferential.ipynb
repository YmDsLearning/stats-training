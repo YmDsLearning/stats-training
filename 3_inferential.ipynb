{
 "cells": [
  {
   "cell_type": "markdown",
   "id": "f5aafc61-abda-45fc-912b-080b6b552e22",
   "metadata": {},
   "source": [
    "# 推測統計(inferential statistics　標本から母集団の特徴を推測)"
   ]
  },
  {
   "cell_type": "markdown",
   "id": "18eaec18-380a-4836-8a38-6bb596f1bdc3",
   "metadata": {},
   "source": [
    "#### データ準備"
   ]
  },
  {
   "cell_type": "code",
   "execution_count": 1,
   "id": "9d9dcacb-0460-4c4d-8c17-e04864385f38",
   "metadata": {},
   "outputs": [
    {
     "data": {
      "text/html": [
       "<div>\n",
       "<style scoped>\n",
       "    .dataframe tbody tr th:only-of-type {\n",
       "        vertical-align: middle;\n",
       "    }\n",
       "\n",
       "    .dataframe tbody tr th {\n",
       "        vertical-align: top;\n",
       "    }\n",
       "\n",
       "    .dataframe thead th {\n",
       "        text-align: right;\n",
       "    }\n",
       "</style>\n",
       "<table border=\"1\" class=\"dataframe\">\n",
       "  <thead>\n",
       "    <tr style=\"text-align: right;\">\n",
       "      <th></th>\n",
       "      <th>total_bill</th>\n",
       "      <th>tip</th>\n",
       "      <th>sex</th>\n",
       "      <th>smoker</th>\n",
       "      <th>day</th>\n",
       "      <th>time</th>\n",
       "      <th>size</th>\n",
       "      <th>tip_rate</th>\n",
       "    </tr>\n",
       "  </thead>\n",
       "  <tbody>\n",
       "    <tr>\n",
       "      <th>0</th>\n",
       "      <td>16.99</td>\n",
       "      <td>1.01</td>\n",
       "      <td>Female</td>\n",
       "      <td>No</td>\n",
       "      <td>Sun</td>\n",
       "      <td>Dinner</td>\n",
       "      <td>2</td>\n",
       "      <td>0.059447</td>\n",
       "    </tr>\n",
       "    <tr>\n",
       "      <th>1</th>\n",
       "      <td>10.34</td>\n",
       "      <td>1.66</td>\n",
       "      <td>Male</td>\n",
       "      <td>No</td>\n",
       "      <td>Sun</td>\n",
       "      <td>Dinner</td>\n",
       "      <td>3</td>\n",
       "      <td>0.160542</td>\n",
       "    </tr>\n",
       "    <tr>\n",
       "      <th>2</th>\n",
       "      <td>21.01</td>\n",
       "      <td>3.50</td>\n",
       "      <td>Male</td>\n",
       "      <td>No</td>\n",
       "      <td>Sun</td>\n",
       "      <td>Dinner</td>\n",
       "      <td>3</td>\n",
       "      <td>0.166587</td>\n",
       "    </tr>\n",
       "    <tr>\n",
       "      <th>3</th>\n",
       "      <td>23.68</td>\n",
       "      <td>3.31</td>\n",
       "      <td>Male</td>\n",
       "      <td>No</td>\n",
       "      <td>Sun</td>\n",
       "      <td>Dinner</td>\n",
       "      <td>2</td>\n",
       "      <td>0.139780</td>\n",
       "    </tr>\n",
       "    <tr>\n",
       "      <th>4</th>\n",
       "      <td>24.59</td>\n",
       "      <td>3.61</td>\n",
       "      <td>Female</td>\n",
       "      <td>No</td>\n",
       "      <td>Sun</td>\n",
       "      <td>Dinner</td>\n",
       "      <td>4</td>\n",
       "      <td>0.146808</td>\n",
       "    </tr>\n",
       "    <tr>\n",
       "      <th>...</th>\n",
       "      <td>...</td>\n",
       "      <td>...</td>\n",
       "      <td>...</td>\n",
       "      <td>...</td>\n",
       "      <td>...</td>\n",
       "      <td>...</td>\n",
       "      <td>...</td>\n",
       "      <td>...</td>\n",
       "    </tr>\n",
       "    <tr>\n",
       "      <th>239</th>\n",
       "      <td>29.03</td>\n",
       "      <td>5.92</td>\n",
       "      <td>Male</td>\n",
       "      <td>No</td>\n",
       "      <td>Sat</td>\n",
       "      <td>Dinner</td>\n",
       "      <td>3</td>\n",
       "      <td>0.203927</td>\n",
       "    </tr>\n",
       "    <tr>\n",
       "      <th>240</th>\n",
       "      <td>27.18</td>\n",
       "      <td>2.00</td>\n",
       "      <td>Female</td>\n",
       "      <td>Yes</td>\n",
       "      <td>Sat</td>\n",
       "      <td>Dinner</td>\n",
       "      <td>2</td>\n",
       "      <td>0.073584</td>\n",
       "    </tr>\n",
       "    <tr>\n",
       "      <th>241</th>\n",
       "      <td>22.67</td>\n",
       "      <td>2.00</td>\n",
       "      <td>Male</td>\n",
       "      <td>Yes</td>\n",
       "      <td>Sat</td>\n",
       "      <td>Dinner</td>\n",
       "      <td>2</td>\n",
       "      <td>0.088222</td>\n",
       "    </tr>\n",
       "    <tr>\n",
       "      <th>242</th>\n",
       "      <td>17.82</td>\n",
       "      <td>1.75</td>\n",
       "      <td>Male</td>\n",
       "      <td>No</td>\n",
       "      <td>Sat</td>\n",
       "      <td>Dinner</td>\n",
       "      <td>2</td>\n",
       "      <td>0.098204</td>\n",
       "    </tr>\n",
       "    <tr>\n",
       "      <th>243</th>\n",
       "      <td>18.78</td>\n",
       "      <td>3.00</td>\n",
       "      <td>Female</td>\n",
       "      <td>No</td>\n",
       "      <td>Thur</td>\n",
       "      <td>Dinner</td>\n",
       "      <td>2</td>\n",
       "      <td>0.159744</td>\n",
       "    </tr>\n",
       "  </tbody>\n",
       "</table>\n",
       "<p>244 rows × 8 columns</p>\n",
       "</div>"
      ],
      "text/plain": [
       "     total_bill   tip     sex smoker   day    time  size  tip_rate\n",
       "0         16.99  1.01  Female     No   Sun  Dinner     2  0.059447\n",
       "1         10.34  1.66    Male     No   Sun  Dinner     3  0.160542\n",
       "2         21.01  3.50    Male     No   Sun  Dinner     3  0.166587\n",
       "3         23.68  3.31    Male     No   Sun  Dinner     2  0.139780\n",
       "4         24.59  3.61  Female     No   Sun  Dinner     4  0.146808\n",
       "..          ...   ...     ...    ...   ...     ...   ...       ...\n",
       "239       29.03  5.92    Male     No   Sat  Dinner     3  0.203927\n",
       "240       27.18  2.00  Female    Yes   Sat  Dinner     2  0.073584\n",
       "241       22.67  2.00    Male    Yes   Sat  Dinner     2  0.088222\n",
       "242       17.82  1.75    Male     No   Sat  Dinner     2  0.098204\n",
       "243       18.78  3.00  Female     No  Thur  Dinner     2  0.159744\n",
       "\n",
       "[244 rows x 8 columns]"
      ]
     },
     "execution_count": 1,
     "metadata": {},
     "output_type": "execute_result"
    }
   ],
   "source": [
    "import seaborn as sns\n",
    "import pandas as pd\n",
    "import numpy as np\n",
    "from scipy import stats\n",
    "from sklearn.preprocessing import StandardScaler\n",
    "import matplotlib.pyplot as plt\n",
    "%matplotlib inline\n",
    "from statsmodels.stats.proportion import proportions_ztest\n",
    "from statsmodels.api import qqplot\n",
    "from statsmodels.stats.power import TTestIndPower\n",
    "#tips.csvのロード\n",
    "df = sns.load_dataset('tips')\n",
    "#合計に対してチップが占める割合のカラム\"tip_rate\"を追加する\n",
    "df['tip_rate'] = df['tip'] / df['total_bill']\n",
    "df"
   ]
  },
  {
   "cell_type": "markdown",
   "id": "ee7a98f2-74f5-4030-9a9a-5f87dc48852e",
   "metadata": {},
   "source": [
    "## 平均の標本分布"
   ]
  },
  {
   "cell_type": "markdown",
   "id": "8bce7762-f0c2-4877-aafd-a42b1cd2998c",
   "metadata": {},
   "source": [
    "$\n",
    "Z = \\frac{x_i - \\bar{x}}{s}\n",
    "$"
   ]
  },
  {
   "cell_type": "code",
   "execution_count": 3,
   "id": "5573a27d-559b-4657-97a0-a9c061e2044d",
   "metadata": {},
   "outputs": [],
   "source": [
    "#推測統計\n",
    "#・標本から母集団のデータの特徴を推測する\n",
    "# →標本と母集団の設定が不適切であれば、その後のロジックが全て破綻するので、慎重に行う必要がある\n",
    "\n",
    "#母集団と標本\n",
    "#・基本は母集団から無作為抽出で標本を作成する\n",
    "#・完全にランダムにするのは困難なので、ある程度ランダムになるように努力する\n",
    "#・すでに標本がある場合、無理のない範囲の母集団を設定する\n",
    "\n",
    "#標本統計量と母数\n",
    "#・統計量：分布の特徴を表す値(平均、標準偏差など)\n",
    "#・標本統計量：標本から計算された統計量\n",
    "#・母数：母集団の統計量(推測統計で推測したい値)\n",
    "\n",
    "#標本分布(sample distribution)\n",
    "#・標本の中身は確率的に変動する\n",
    "# 全国の成人男性をランダムに抽出して各標本の身長の平均を取る場合、\n",
    "#　　１回目の抽出の1000人の平均と２回目の1000人の平均は違うはず\n",
    "# (標本は重ならないはずなので、標本の中身が違う)\n",
    "#・標本統計量も同様に確率的に変動する値＝確率変数\n",
    "# 標本自体が変動するから、標本統計量も変動する\n",
    "#・標本分布：標本統計量が従う確率分布\n",
    "#         その標本統計量がどれくらいの確率で得られるのか？\n",
    "#         →確率分布のどのあたりに位置するのか\n",
    "#          よく出てくる値なのか、滅多に出てこない値なのか\n",
    "#・標本分布は「ある標本の中の分布」ではないことに注意する\n",
    "#　　標本平均が背後に持つ確率分布のこと\n",
    "#　　理論上の分布である\n",
    "\n",
    "#推定量(estimator)\n",
    "#・母数の推定に使う標本統計量\n",
    "#　　標本平均値　ー　母平均\n",
    "#　　標本比率　ー　母比率\n",
    "#　　標本相関係数　ー　母相関係数\n",
    "# ※標本分散、標本標準偏差は母分散および母標準偏差には使えない(もっとふさわしいものがある→不偏分散)\n",
    "#・推定値：実際の値\n",
    "\n",
    "#不偏性(unbiasedness)\n",
    "#・推定量が\"平均的に\"母数と一致する場合、その推定量は「不偏性がある」という\n",
    "# もし不偏性がある推定量と不偏性がない推定量があった場合、不偏性があるほうが推定量として適している\n",
    "#・不偏推定量(unbiased estimator):不偏性がある推定量\n",
    "#・確率の文脈では平均のことを期待値という\n",
    "#\n",
    "#-例-\n",
    "#標本の平均値の期待値は母平均に一致する\n",
    "#・大量に標本を取って標本平均を計算したら、その標本平均は母平均に近づく\n",
    "#　　→平均の標本分布の平均＝母平均\n",
    "\n",
    "#平均の標本分布\n",
    "#・平均の標本分布の平均は母平均と同じμになる\n",
    "#・平均の標本分布の分散は母分散をnで割った値σ2/nになる\n",
    "# n：標本の大きさ(標本の中にどれくらいのデータがあるか)\n",
    "# nが大きくなればなるほど平均の標本分布のばらつきは小さくなって分散も小さくなる\n",
    "# →標本の大きさをたくさん取れば、毎回計算される標本平均は母平均μに近づく\n",
    "#  n＝無限、母集団の数と同じ、と考えることもできる\n",
    "\n",
    "#-例-\n",
    "#データセットを母集団と見立てて50個の標本を１００回抽出した時の標本平均値の分布(平均と分散)\n",
    "sampled_means =[] #標本平均のリスト\n",
    "sampled_num = 50  #抽出する標本の個数\n",
    "sampled_cnt = 100 #抽出回数\n",
    "column = 'tip'    #カラム名\n",
    "\n",
    "for i in range(sampled_cnt):\n",
    "    #標本抽出\n",
    "    sampled_df = df.sample(sampled_num)\n",
    "    \n",
    "    #標本の平均\n",
    "    sampled_mean = sampled_df[column].mean()\n",
    "    #リストに追加\n",
    "    sampled_means.append(sampled_mean)"
   ]
  },
  {
   "cell_type": "code",
   "execution_count": 6,
   "id": "5347fe00-c724-4ab1-8989-79ad21ed865f",
   "metadata": {},
   "outputs": [
    {
     "data": {
      "text/plain": [
       "100"
      ]
     },
     "execution_count": 6,
     "metadata": {},
     "output_type": "execute_result"
    }
   ],
   "source": [
    "#100個の標本が抽出できたか確認\n",
    "len(sampled_means)"
   ]
  },
  {
   "cell_type": "code",
   "execution_count": 4,
   "id": "873b4f2f-8859-4904-ba11-1c6e630942f0",
   "metadata": {},
   "outputs": [
    {
     "data": {
      "text/plain": [
       "[3.0016000000000003,\n",
       " 3.249600000000001,\n",
       " 3.0942000000000003,\n",
       " 2.8648000000000002,\n",
       " 3.1078,\n",
       " 3.0931999999999995,\n",
       " 2.8432000000000013,\n",
       " 3.0334,\n",
       " 3.0584,\n",
       " 2.97,\n",
       " 3.007200000000001,\n",
       " 2.7464,\n",
       " 2.8376000000000006,\n",
       " 3.2343999999999995,\n",
       " 3.0822000000000003,\n",
       " 3.0324,\n",
       " 2.9402000000000004,\n",
       " 3.0023999999999997,\n",
       " 2.7823999999999995,\n",
       " 3.0258000000000003,\n",
       " 3.0148,\n",
       " 2.737600000000001,\n",
       " 3.0822,\n",
       " 2.8944,\n",
       " 3.1346000000000003,\n",
       " 2.7288000000000006,\n",
       " 2.7154000000000003,\n",
       " 3.2245999999999992,\n",
       " 3.1513999999999998,\n",
       " 3.0156,\n",
       " 3.0416,\n",
       " 2.8341999999999996,\n",
       " 2.887,\n",
       " 2.9375999999999993,\n",
       " 3.1212000000000004,\n",
       " 2.7407999999999992,\n",
       " 2.9610000000000003,\n",
       " 2.9575999999999993,\n",
       " 2.9317999999999995,\n",
       " 3.0976000000000004,\n",
       " 2.8489999999999993,\n",
       " 2.855399999999999,\n",
       " 3.0014000000000003,\n",
       " 2.7782,\n",
       " 2.881,\n",
       " 3.127,\n",
       " 2.636999999999999,\n",
       " 2.702,\n",
       " 2.8813999999999997,\n",
       " 2.7510000000000003,\n",
       " 2.9194000000000004,\n",
       " 3.276,\n",
       " 2.8882000000000003,\n",
       " 2.8678,\n",
       " 2.785,\n",
       " 3.020400000000001,\n",
       " 2.8198000000000003,\n",
       " 2.9791999999999996,\n",
       " 3.1715999999999993,\n",
       " 3.2483999999999993,\n",
       " 3.0225999999999997,\n",
       " 2.9478000000000004,\n",
       " 3.013000000000001,\n",
       " 3.0608000000000004,\n",
       " 2.8752000000000004,\n",
       " 3.1198,\n",
       " 3.100799999999999,\n",
       " 3.1731999999999996,\n",
       " 2.9368,\n",
       " 2.8462,\n",
       " 3.3443999999999994,\n",
       " 2.8977999999999993,\n",
       " 2.7296000000000005,\n",
       " 3.2481999999999998,\n",
       " 2.8894,\n",
       " 2.942599999999999,\n",
       " 2.9866,\n",
       " 2.6927999999999996,\n",
       " 2.9137999999999993,\n",
       " 3.01,\n",
       " 2.7963999999999998,\n",
       " 3.0622,\n",
       " 3.0408,\n",
       " 3.1343999999999994,\n",
       " 2.9539999999999993,\n",
       " 2.7806000000000006,\n",
       " 3.2634000000000007,\n",
       " 2.7558000000000002,\n",
       " 2.8346,\n",
       " 3.2886,\n",
       " 2.9061999999999997,\n",
       " 3.1087999999999996,\n",
       " 2.9159999999999995,\n",
       " 2.8542,\n",
       " 3.0054,\n",
       " 3.0828,\n",
       " 2.93,\n",
       " 3.2494000000000005,\n",
       " 2.9166000000000003,\n",
       " 2.9934000000000003]"
      ]
     },
     "execution_count": 4,
     "metadata": {},
     "output_type": "execute_result"
    }
   ],
   "source": [
    "sampled_means"
   ]
  },
  {
   "cell_type": "code",
   "execution_count": 5,
   "id": "479a23cf-4b5e-445c-b81d-bf3377f7658c",
   "metadata": {},
   "outputs": [
    {
     "data": {
      "text/plain": [
       "<seaborn.axisgrid.FacetGrid at 0x4030670670>"
      ]
     },
     "execution_count": 5,
     "metadata": {},
     "output_type": "execute_result"
    },
    {
     "data": {
      "image/png": "[encoded data removed]",
      "text/plain": [
       "<Figure size 360x360 with 1 Axes>"
      ]
     },
     "metadata": {
      "needs_background": "light"
     },
     "output_type": "display_data"
    }
   ],
   "source": [
    "#ヒストグラム\n",
    "#※標本分布ではないが、標本分布にかなり近い分布になる→ループの回数を増やせばより標本分布に近づく\n",
    "sns.displot(sampled_means)"
   ]
  },
  {
   "cell_type": "code",
   "execution_count": 7,
   "id": "0854ae74-6ca6-45af-9a3d-028e4a17f94c",
   "metadata": {},
   "outputs": [
    {
     "data": {
      "text/plain": [
       "2.9728120000000002"
      ]
     },
     "execution_count": 7,
     "metadata": {},
     "output_type": "execute_result"
    }
   ],
   "source": [
    "#標本の平均の確認\n",
    "np.mean(sampled_means)"
   ]
  },
  {
   "cell_type": "code",
   "execution_count": 15,
   "id": "f89bed90-1a8c-4b41-ba0e-8fdf9c912c67",
   "metadata": {},
   "outputs": [
    {
     "data": {
      "text/plain": [
       "2.9982786885245902"
      ]
     },
     "execution_count": 15,
     "metadata": {},
     "output_type": "execute_result"
    }
   ],
   "source": [
    "#母集団の平均(母平均)\n",
    "#標本の平均が母平均からどれくらい離れているかを確認→かなり近い\n",
    "df[column].mean()"
   ]
  },
  {
   "cell_type": "code",
   "execution_count": 17,
   "id": "2fe4dc51-6480-4578-8f64-f82e5fa3a7f7",
   "metadata": {},
   "outputs": [
    {
     "data": {
      "text/plain": [
       "0.03250390887600002"
      ]
     },
     "execution_count": 17,
     "metadata": {},
     "output_type": "execute_result"
    }
   ],
   "source": [
    "#標本の分散\n",
    "np.var(sampled_means)"
   ]
  },
  {
   "cell_type": "code",
   "execution_count": 19,
   "id": "70c0ea85-47a1-4864-813b-43749cc49e41",
   "metadata": {},
   "outputs": [
    {
     "data": {
      "text/plain": [
       "0.03813217024993285"
      ]
     },
     "execution_count": 19,
     "metadata": {},
     "output_type": "execute_result"
    }
   ],
   "source": [
    "#母集団の分散(母分散σ2)/n\n",
    "np.var(df[column])/sampled_num"
   ]
  },
  {
   "cell_type": "markdown",
   "id": "544b86c7-ff1f-49ac-8949-770ebc903a30",
   "metadata": {},
   "source": [
    "## 不偏分散(unbiased variance)"
   ]
  },
  {
   "cell_type": "markdown",
   "id": "f4a8c995-2761-4aa1-9123-ba68281389dd",
   "metadata": {},
   "source": [
    "$\n",
    "s'^2 = \\frac{1}{n - 1} \\sum_{i = 1}^n {(x_i - \\overline{x})^2}\\\\\n",
    "分散\\\\\n",
    "s^2 = \\frac{1}{n} \\sum_{i = 1}^n {(x_i - \\overline{x})^2}\n",
    "$"
   ]
  },
  {
   "cell_type": "code",
   "execution_count": 6,
   "id": "4a91e971-ab01-4a72-b9fa-55fd87faa7d5",
   "metadata": {},
   "outputs": [
    {
     "data": {
      "text/plain": [
       "1.914454638062471"
      ]
     },
     "execution_count": 6,
     "metadata": {},
     "output_type": "execute_result"
    }
   ],
   "source": [
    "#不偏性：平均的にその母数に一致する統計量\n",
    "\n",
    "#不偏分散\n",
    "#・母分散の不偏推定量\n",
    "# 平均μ分散σ2の母集団からn個の標本を無限回取る\n",
    "#　　　↓\n",
    "# 不偏分散を計算してみる\n",
    "#　　　↓\n",
    "#　　不偏分散の標本分布の平均は母集団の分散σ2と一致する(不偏性の定理)\n",
    "#　　※普通の分散の標本分布を取ると、その平均は母集団の分散にはならない→普通の分散には不偏性はない\n",
    "#・分散の式において、n-1で割った値※nで割った値ではない！\n",
    "#・通常の標本分散をs2で表し、不偏分散をs'2で表す\n",
    "#\n",
    "#なぜn-1で割るのか？\n",
    "#分散を掲載する際に母平均μの代わりに標本平均を使っている\n",
    "#　　　↓\n",
    "#標本平均を使うことによって、分散が過小評価されてしまう\n",
    "#　　　↓\n",
    "#過小評価してしまった分散にn/n-1(1よりちょっと大きい値)をかけることで補正する(つまり、nではなくてn-1で割る)\n",
    "#※公式の1/(n-1)を自由度と呼ぶこともある\n",
    "\n",
    "#-例-\n",
    "#scipyのメソッドでもnumpyのメソッドでも求めることができる\n",
    "#scipyのメソッド\n",
    "#stats.tvar(a)\n",
    "stats.tvar(df['tip'])"
   ]
  },
  {
   "cell_type": "code",
   "execution_count": 4,
   "id": "300b5927-2776-4360-aa72-65b71a309937",
   "metadata": {},
   "outputs": [
    {
     "data": {
      "text/plain": [
       "1.9066085124966428"
      ]
     },
     "execution_count": 4,
     "metadata": {},
     "output_type": "execute_result"
    }
   ],
   "source": [
    "#普通の分散\n",
    "#※不偏分散よりも少し小さくなっていることを確認\n",
    "np.var(df['tip'])"
   ]
  },
  {
   "cell_type": "code",
   "execution_count": 12,
   "id": "bee8890e-3043-4d34-8716-4e3872716195",
   "metadata": {},
   "outputs": [
    {
     "data": {
      "text/plain": [
       "1.9144546380624725"
      ]
     },
     "execution_count": 12,
     "metadata": {},
     "output_type": "execute_result"
    }
   ],
   "source": [
    "#numpyのメソッド\n",
    "#np.var(a, ddof=1)\n",
    "# ddof(delta degree of freedom):自由度のデルタ(変量。自由度の差分。微少差分)。不偏分散の場合は１指定\n",
    "np.var(df['tip'], ddof=1)"
   ]
  },
  {
   "cell_type": "code",
   "execution_count": 2,
   "id": "b29e429f-0b9f-429f-a9ef-3b9241326283",
   "metadata": {},
   "outputs": [
    {
     "data": {
      "text/plain": [
       "1.3836381890011822"
      ]
     },
     "execution_count": 2,
     "metadata": {},
     "output_type": "execute_result"
    }
   ],
   "source": [
    "#不偏分散の平方根 ※不偏標準偏差ではないので注意\n",
    "#scipyのメソッドでもnumpyのメソッドでも求めることができる\n",
    "#1.np.sqrt(a)\n",
    "#2.stats.tstd(a)\n",
    "#3.np.std(a, ddof=1)\n",
    "\n",
    "#1.numpyで分散の平方根を求める\n",
    "np.sqrt(stats.tvar(df['tip']))"
   ]
  },
  {
   "cell_type": "code",
   "execution_count": 8,
   "id": "f1e4b3cd-97f3-4c18-a09c-2bf3ae285954",
   "metadata": {},
   "outputs": [
    {
     "data": {
      "text/plain": [
       "1.3836381890011822"
      ]
     },
     "execution_count": 8,
     "metadata": {},
     "output_type": "execute_result"
    }
   ],
   "source": [
    "#2.scipyのメソッド\n",
    "stats.tstd(df['tip'])"
   ]
  },
  {
   "cell_type": "code",
   "execution_count": 9,
   "id": "82a6b6de-ef21-4e95-abe6-b72e38d4d15d",
   "metadata": {},
   "outputs": [
    {
     "data": {
      "text/plain": [
       "1.3807999538298958"
      ]
     },
     "execution_count": 9,
     "metadata": {},
     "output_type": "execute_result"
    }
   ],
   "source": [
    "#普通の分散の平方根\n",
    "np.std(df['tip'])"
   ]
  },
  {
   "cell_type": "code",
   "execution_count": 10,
   "id": "a81be9ed-4ab7-4a46-adc1-33d8c60d79a6",
   "metadata": {},
   "outputs": [
    {
     "data": {
      "text/plain": [
       "1.3836381890011826"
      ]
     },
     "execution_count": 10,
     "metadata": {},
     "output_type": "execute_result"
    }
   ],
   "source": [
    "#3.numpyのメソッド\n",
    "#ddofを1に指定すると不偏分散の平方根が求められる\n",
    "np.std(df['tip'], ddof=1)"
   ]
  },
  {
   "cell_type": "markdown",
   "id": "40aff0fe-56db-4250-b239-71a4e81c4ae4",
   "metadata": {},
   "source": [
    "## 不偏分散の不偏性"
   ]
  },
  {
   "cell_type": "code",
   "execution_count": 4,
   "id": "6295e5bc-a792-4569-a293-0fb7bd9137c1",
   "metadata": {},
   "outputs": [],
   "source": [
    "#不偏分散の平方根の不偏性\n",
    "#標本標準偏差は母標準偏差の推定量には使えない(分散が過小評価されているから)\n",
    "#　　　↓\n",
    "#不偏分散の平方根s'を母集団の標準偏差σの推定量として使う\n",
    "#※ただし、不偏分散の平方根s'は不偏性を持っていないので注意\n",
    "#  s'の標本分布の平均はσにはならない\n",
    "#・不偏分散の平方根は母集団の標準偏差σの「不偏」推定量にはならない\n",
    "#・不偏分散の平方根を「不偏標準偏差」と呼ぶのは間違い。「不偏分散の平方根」という\n",
    "\n",
    "#-例-\n",
    "#データセットを母集団と見立てて50個の標本を１００回抽出した時の標本の分散と不偏分散の平均を確認する\n",
    "#※不偏分散の平均は母集団の分散σ2に近くなるはず\n",
    "sampled_vars =[]  #標本の分散のリスト\n",
    "sampled_tvars =[] #標本の不偏分散のリスト\n",
    "sampled_num = 50  #抽出する標本の個数\n",
    "sampled_cnt = 100 #抽出回数\n",
    "column = 'tip'    #カラム名\n",
    "\n",
    "for i in range(sampled_cnt):\n",
    "    #標本抽出\n",
    "    sampled_df = df.sample(sampled_num)\n",
    "    \n",
    "    #標本の分散\n",
    "    sampled_var = np.var(sampled_df[column])\n",
    "    #不偏分散\n",
    "    sampled_tvar = stats.tvar(df[column])\n",
    "\n",
    "    #リストに追加\n",
    "    sampled_vars.append(sampled_var)\n",
    "    sampled_tvars.append(sampled_tvar)"
   ]
  },
  {
   "cell_type": "code",
   "execution_count": 8,
   "id": "45b3cdbd-80ea-4c52-86bd-e9863bca7645",
   "metadata": {},
   "outputs": [
    {
     "data": {
      "text/plain": [
       "1.9144546380624705"
      ]
     },
     "execution_count": 8,
     "metadata": {},
     "output_type": "execute_result"
    }
   ],
   "source": [
    "#標本の不偏分散の平均が母分散と近くなっているかを確認\n",
    "#※回数を多くすればするほど標本の不偏分散は母分散に近づく\n",
    "#標本の不偏分散の平均\n",
    "np.mean(sampled_tvars)"
   ]
  },
  {
   "cell_type": "code",
   "execution_count": 7,
   "id": "86fed01b-bdfa-4c6a-b237-62e576a8ba37",
   "metadata": {},
   "outputs": [
    {
     "data": {
      "text/plain": [
       "1.9066085124966428"
      ]
     },
     "execution_count": 7,
     "metadata": {},
     "output_type": "execute_result"
    }
   ],
   "source": [
    "#母集団の分散(母分散)\n",
    "#→不偏分散の平均と近い値になっている\n",
    "np.var(df[column])"
   ]
  },
  {
   "cell_type": "code",
   "execution_count": 21,
   "id": "2b02cdb0-0f77-4f61-b17c-49d5a259d59f",
   "metadata": {
    "tags": []
   },
   "outputs": [
    {
     "data": {
      "text/plain": [
       "1.8032076899999998"
      ]
     },
     "execution_count": 21,
     "metadata": {},
     "output_type": "execute_result"
    }
   ],
   "source": [
    "#標本の分散の平均\n",
    "#→不偏分散の平均よりも値が小さい\n",
    "np.mean(sampled_vars)"
   ]
  },
  {
   "cell_type": "markdown",
   "id": "80425b06-1acb-4c35-994b-894213d03e8b",
   "metadata": {},
   "source": [
    "## 比率の区間推定"
   ]
  },
  {
   "cell_type": "code",
   "execution_count": 2,
   "id": "436f57fa-689e-402a-8172-ce9e8fb51bbc",
   "metadata": {},
   "outputs": [
    {
     "data": {
      "text/plain": [
       "(570.0, 630.0)"
      ]
     },
     "execution_count": 2,
     "metadata": {},
     "output_type": "execute_result"
    }
   ],
   "source": [
    "#推測統計\n",
    "#・統計学を学ぶ一番のモチベーション\n",
    "#・統計学において最も重要な分野の一つ\n",
    "#・大きく分けて「推定」と「検定」がある\n",
    "# １．推定\n",
    "#　　　・母集団から標本を抽出し、その標本から統計量を計算して母集団の特定値、母数を推定する\n",
    "# 2.検定\n",
    "#　　 ・2つの標本があるとして、それぞれの背後の母集団の平均、比率、分散等の統計量は同じなのか？を検定する\n",
    "# 　・その標本の母集団は正規分布と言えるか？をテストしたりする\n",
    "\n",
    "#1.推定\n",
    "#・点推定と区間推定がある(基本的な考え方はどちらも同じ)\n",
    "#　　点推定\n",
    "#　　・バシッと1つの値で推定　「母数は⚪︎⚪︎だ！」\n",
    "#　　区間推定\n",
    "#　　・区間を持って推定　「母数は⚪︎⚪︎〜xxの間かな」\n",
    "#　　※普通、推定といったら区間推定を指す\n",
    "\n",
    "#比率の区間推定\n",
    "#・標本の(カテゴリ変数の)比率の値から母集団の比率の値を推定する\n",
    "#・実際に比率の区間推定が応用されている例は多い(選挙速報、内閣支持率、視聴率etc...)\n",
    "#\n",
    "# 区間推定とは\n",
    "# ・母数の値を区間を持って推定する(例:母比率は0.5〜0.7)\n",
    "# ・区間と共に確度をつける(例:95%の確度で母比率は0.5〜0.7)\n",
    "# →この区間を信頼区間(CI:confidence interval)という(例:95%の信頼区間で母比率は0.5〜0.7)\n",
    "#  標本をとるうちに、真の母数の比率を含まない区間も出てくる\n",
    "#  95%の信頼区間の場合、「100回中5回くらいしか間違わない」ことを意味する\n",
    "#  ※確度の話であり、確率のことではないので注意→「95%の確率で母数がこの区間にある」とは言わない\n",
    "\n",
    "#区間推定のやり方\n",
    "#1.標本を無作為抽出する(もし標本がすでにあったら、無理のない範囲で母集団を設定する)\n",
    "#2.標本から推定量(標本比率)を計算する→点推定はこの時点で完了\n",
    "# 　　標本比率60%の場合\n",
    "# 　　　　　　この値がどれくらいの確率で得られるかを考える　　\n",
    "# 　　　　　　本来はもっと低い値なのにたまたま高い値が出たのか\n",
    "# 　　　　　　それなりに妥当な数字なのか...\n",
    "# 　　　　　　→標本比率自体は確率変数と見ることができ、その背後には確率分布があり、それを標本分布という\n",
    "# 　　　　　　　　比率の標本分布がどのようなものになるかを考える\n",
    "#3.信頼区間を設定する\n",
    "# 　　信頼区間は95%で設定するのが一般的\n",
    "#4.推定量(ここでは比率)の標本分布を求める\n",
    "# 　比率の標本分布\n",
    "# 　・二項分布から考えることができる\n",
    "# 　　　ある観察や試行を複数回行った場合にある事象が起こる回数が従う確率分布\n",
    "# ・(nが十分大きければ)比率の標本分布は平均p、分散pq/nの正規分布になる\n",
    "# 　→nやpによって分布の形状が変わって扱いづらいので、標準化して標準正規分布で考える\n",
    "#5.信頼区間の値を標本分布から算出する\n",
    "# 　標準正規分布が95%区間で取りうる値\n",
    "#  比率の標本分布を標準化し、標準正規分布を計算する\n",
    "# 　　→ −1.96〜1.96の区間になる母比率pを算出する\n",
    "# 　 ※−1.96〜1.96という値を使うために標準化した\n",
    "\n",
    "#比率の区間推定を求める\n",
    "#※binomなので、やっていることは二項分布\n",
    "#stats.binom.interval(alpha, n, p)\n",
    "#引数\n",
    "# alpha:信頼区間(例えば95%だったら0.95)\n",
    "# n:標本の大きさ\n",
    "# p:標本の比率\n",
    "#戻り値\n",
    "# 数(タプルの形式)※比率ではないので注意！\n",
    "\n",
    "#-例-\n",
    "#1000人に世論調査した時の標本比率60%、信頼区間９5%で区間推定すると母比率はどうなるか\n",
    "stats.binom.interval(0.95, 1000, 0.6)\n",
    "\n",
    "#結果\n",
    "#　戻り値は(570, 630)、つまり1000人中570〜630人\n",
    "#　1000人中、570〜630人が95%の区間\n",
    "# →95%の信頼区間で、母比率は57%から63%である言える"
   ]
  },
  {
   "cell_type": "code",
   "execution_count": 3,
   "id": "949f9247-9478-4fd5-a73d-f3db87b29232",
   "metadata": {},
   "outputs": [
    {
     "data": {
      "text/plain": [
       "(560.0, 640.0)"
      ]
     },
     "execution_count": 3,
     "metadata": {},
     "output_type": "execute_result"
    }
   ],
   "source": [
    "#信頼区間が99%だったら？（１００回中１回くらいしか間違わないという事なので、かなり厳しめ）\n",
    "#　→95%の信頼区間で、母比率は56%から64%であると言える\n",
    "stats.binom.interval(0.99, 1000, 0.6)"
   ]
  },
  {
   "cell_type": "code",
   "execution_count": 11,
   "id": "89078a33-df5a-43e4-b251-9a8b540f4a9f",
   "metadata": {},
   "outputs": [],
   "source": [
    "#-例-\n",
    "#データセット(tips.csv)を母集団と見立てて50個の標本比率から母比率を区間推定する\n",
    "#これを１００回繰り返し、何回正しく推定できるか(母比率がその区間の中にちゃんと入っているか)をみる(信頼区間95%)\n",
    "#男性客の比率を区間推定する\n",
    "sampled_num = 50  #抽出する標本の個数\n",
    "sampled_cnt = 100 #抽出回数\n",
    "alpha = 0.95      #信頼区間\n",
    "results = []      #結果のリスト\n",
    "\n",
    "#母比率の計算(母集団の男性の比率)\n",
    "population_male_ratio = len(df[df['sex'] == 'Male'])/len(df)\n",
    "\n",
    "for _ in range(sampled_cnt): #\"_\"は使用しないということを表す\n",
    "    #標本抽出\n",
    "    sampled_df = df.sample(sampled_num)\n",
    "    #標本(男性)の比率\n",
    "    male_ratio = len(sampled_df[sampled_df['sex']=='Male'])/sampled_num\n",
    "    \n",
    "    #比率の区間推定\n",
    "    #信頼区間(alpha):95%\n",
    "    #n(標本の大きさ):ここでは抽出した標本の数\n",
    "    #p(標本の比率):ここでは上記で計算した男性の比率\n",
    "    #戻り値1:信頼区間95%の男性の最小数\n",
    "    #戻り値2:信頼区間95%の男性の最大数\n",
    "    min_num, max_num = stats.binom.interval(alpha, sampled_num, male_ratio)\n",
    "    #比率に計算する\n",
    "    min_ratio = min_num/sampled_num\n",
    "    max_ratio = max_num/sampled_num\n",
    "\n",
    "    #それぞれの比率が母比率の中に入っているかどうかを確認する\n",
    "    correct = min_ratio < population_male_ratio < max_ratio\n",
    "    results.append({'min': min_ratio, 'max':max_ratio, 'correct':correct})"
   ]
  },
  {
   "cell_type": "code",
   "execution_count": 12,
   "id": "2ea4f806-be31-4aee-91d8-d133a8d57f4d",
   "metadata": {},
   "outputs": [
    {
     "data": {
      "text/plain": [
       "0.6434426229508197"
      ]
     },
     "execution_count": 12,
     "metadata": {},
     "output_type": "execute_result"
    }
   ],
   "source": [
    "#母比率の計算(母集団の男性の比率)\n",
    "len(df[df['sex'] == 'Male'])/len(df)"
   ]
  },
  {
   "cell_type": "code",
   "execution_count": 13,
   "id": "cbb573c1-f9c9-4772-bd85-baac683255e2",
   "metadata": {},
   "outputs": [
    {
     "data": {
      "text/plain": [
       "True     96\n",
       "False     4\n",
       "Name: correct, dtype: int64"
      ]
     },
     "execution_count": 13,
     "metadata": {},
     "output_type": "execute_result"
    }
   ],
   "source": [
    "#結果\n",
    "#わかりやすいようにDataFrameにする\n",
    "result_df = pd.DataFrame(results)\n",
    "#correctの割合がどうなっているかを確認する\n",
    "result_df['correct'].value_counts()"
   ]
  },
  {
   "cell_type": "code",
   "execution_count": 14,
   "id": "5b4e054d-4259-44b9-ade6-0ee004e476ee",
   "metadata": {},
   "outputs": [
    {
     "data": {
      "text/html": [
       "<div>\n",
       "<style scoped>\n",
       "    .dataframe tbody tr th:only-of-type {\n",
       "        vertical-align: middle;\n",
       "    }\n",
       "\n",
       "    .dataframe tbody tr th {\n",
       "        vertical-align: top;\n",
       "    }\n",
       "\n",
       "    .dataframe thead th {\n",
       "        text-align: right;\n",
       "    }\n",
       "</style>\n",
       "<table border=\"1\" class=\"dataframe\">\n",
       "  <thead>\n",
       "    <tr style=\"text-align: right;\">\n",
       "      <th></th>\n",
       "      <th>min</th>\n",
       "      <th>max</th>\n",
       "      <th>correct</th>\n",
       "    </tr>\n",
       "  </thead>\n",
       "  <tbody>\n",
       "    <tr>\n",
       "      <th>0</th>\n",
       "      <td>0.46</td>\n",
       "      <td>0.74</td>\n",
       "      <td>True</td>\n",
       "    </tr>\n",
       "    <tr>\n",
       "      <th>1</th>\n",
       "      <td>0.52</td>\n",
       "      <td>0.78</td>\n",
       "      <td>True</td>\n",
       "    </tr>\n",
       "    <tr>\n",
       "      <th>2</th>\n",
       "      <td>0.44</td>\n",
       "      <td>0.72</td>\n",
       "      <td>True</td>\n",
       "    </tr>\n",
       "    <tr>\n",
       "      <th>3</th>\n",
       "      <td>0.54</td>\n",
       "      <td>0.80</td>\n",
       "      <td>True</td>\n",
       "    </tr>\n",
       "    <tr>\n",
       "      <th>4</th>\n",
       "      <td>0.46</td>\n",
       "      <td>0.74</td>\n",
       "      <td>True</td>\n",
       "    </tr>\n",
       "    <tr>\n",
       "      <th>...</th>\n",
       "      <td>...</td>\n",
       "      <td>...</td>\n",
       "      <td>...</td>\n",
       "    </tr>\n",
       "    <tr>\n",
       "      <th>95</th>\n",
       "      <td>0.40</td>\n",
       "      <td>0.68</td>\n",
       "      <td>True</td>\n",
       "    </tr>\n",
       "    <tr>\n",
       "      <th>96</th>\n",
       "      <td>0.50</td>\n",
       "      <td>0.76</td>\n",
       "      <td>True</td>\n",
       "    </tr>\n",
       "    <tr>\n",
       "      <th>97</th>\n",
       "      <td>0.46</td>\n",
       "      <td>0.74</td>\n",
       "      <td>True</td>\n",
       "    </tr>\n",
       "    <tr>\n",
       "      <th>98</th>\n",
       "      <td>0.64</td>\n",
       "      <td>0.88</td>\n",
       "      <td>True</td>\n",
       "    </tr>\n",
       "    <tr>\n",
       "      <th>99</th>\n",
       "      <td>0.48</td>\n",
       "      <td>0.76</td>\n",
       "      <td>True</td>\n",
       "    </tr>\n",
       "  </tbody>\n",
       "</table>\n",
       "<p>100 rows × 3 columns</p>\n",
       "</div>"
      ],
      "text/plain": [
       "     min   max  correct\n",
       "0   0.46  0.74     True\n",
       "1   0.52  0.78     True\n",
       "2   0.44  0.72     True\n",
       "3   0.54  0.80     True\n",
       "4   0.46  0.74     True\n",
       "..   ...   ...      ...\n",
       "95  0.40  0.68     True\n",
       "96  0.50  0.76     True\n",
       "97  0.46  0.74     True\n",
       "98  0.64  0.88     True\n",
       "99  0.48  0.76     True\n",
       "\n",
       "[100 rows x 3 columns]"
      ]
     },
     "execution_count": 14,
     "metadata": {},
     "output_type": "execute_result"
    }
   ],
   "source": [
    "#結果のリストの表示\n",
    "result_df"
   ]
  },
  {
   "cell_type": "markdown",
   "id": "e497219b-8932-4671-9b1f-610b3915e199",
   "metadata": {},
   "source": [
    "## 平均値の区間推定(Z分布)"
   ]
  },
  {
   "cell_type": "code",
   "execution_count": 21,
   "id": "efacf7b0-33a9-49a3-aded-e260f4f3a8fa",
   "metadata": {},
   "outputs": [],
   "source": [
    "#平均値の区間推定\n",
    "#・統計量は標本平均\n",
    "#・標本の平均値から母集団の平均値を推定する\n",
    "#・実際に平均値の区間推定が応用されている例は多い(平均身長、平均体重、平均年収etc・・・)\n",
    "\n",
    "#平均値の区間推定のやり方\n",
    "#1.標本を無作為抽出する(もし標本がすでにあったら、無理のない範囲で母集団を設定する)\n",
    "#2.標本から推定量(標本平均)を計算する→点推定はこの時点で完了\n",
    "#3.信頼区間を設定する\n",
    "# 　　信頼区間は95%で設定するのが一般的\n",
    "#4.推定量(ここでは平均)の標本分布を求める\n",
    "# 　平均の標本分布\n",
    "#　　・平均の標本分布の平均は母平均と同じμになる\n",
    "#　　・平均の標本分布の分散は母分散をnで割った値σ2/nになる\n",
    "#　　→ここまでだと、どんな形状の分布になるかはわかない。正規分布になるとは限らない\n",
    "#　　・母集団が正規分布であれば、平均の標本分布は正規分布になる\n",
    "#\n",
    "#　　・母集団が正規分布ではなかったら？\n",
    "#　　　→母集団が正規分布でなくても、標本のサイズが大きければ標本分布は正規分布に近似できる\n",
    "#　　　　中心極限定理\n",
    "#　　　　※標本は最低でも5個くらいは取る\n",
    "#　　　→基本的には平均の標本分布を正規分布と仮定して平均の区間推定をする\n",
    "#5.信頼区間の値を標本分布から算出する\n",
    "#　　標準正規分布が95%区間(−1.96〜1.96)で取りうる値\n",
    "#　　　　平均の標本分布を標準化し、標準正規分布を計算する\n",
    "#  → −1.96〜1.96という値を使うために標準化した\n",
    "#　　　　・母集団の標準偏差σは未知なので、不偏分散s'2の平方根s'で代用する\n",
    "# 　　　　→z分布(平均の標準正規分布)にはちょっと歪みが出る(t分布)\n",
    "\n",
    "#正規分布を使って平均の区間推定をする\n",
    "#stats.norm.interval(alpha, loc, scale)\n",
    "#引数\n",
    "# alpha:信頼区間(例えば95%だったら0.95)\n",
    "# loc:標本平均\n",
    "# scale:標本分布の標準偏差(σが不明の場合は、標本の不偏分散の平方根s'/√n)\n",
    "#戻り値\n",
    "# 数(タプルの形式)※比率ではないので注意！\n",
    "\n",
    "#-例-\n",
    "#データセット(tips.csv)を母集団と見立てて50個の標本平均から正規分布を使って母平均を区間推定する\n",
    "#それを１００回繰り返し、何回正しく推定できるかを見る(信頼区間は95%)\n",
    "#tipのカラムの平均値を区間推定する\n",
    "sampled_num = 50  #抽出する標本の個数\n",
    "sampled_cnt = 100 #抽出回数\n",
    "alpha = 0.95      #信頼区間\n",
    "column = 'tip'    #カラム名\n",
    "results = []      #結果のリスト\n",
    "\n",
    "#母平均の計算\n",
    "population_mean = df[column].mean()\n",
    "\n",
    "for _ in range(sampled_cnt): #\"_\"は使用しないということを表す\n",
    "    #標本抽出\n",
    "    sampled_df = df.sample(sampled_num)\n",
    "    #標本の平均\n",
    "    sampled_mean = sampled_df[column].mean()\n",
    "    #標本の不偏分散\n",
    "    sampled_var = stats.tvar(sampled_df[column])\n",
    "\n",
    "    #平均の区間推定\n",
    "    #信頼区間(alpha):95%\n",
    "    #loc(標本平均):抽出した標本の平均\n",
    "    #scale(標本分布の標準偏差):σが不明なので、標本の不偏分散(S')のルート/標本の数\n",
    "    #戻り値1:信頼区間95%の下限\n",
    "    #戻り値2:信頼区間95%の上限\n",
    "    min_val, max_val = stats.norm.interval(alpha, sampled_mean, np.sqrt(sampled_var/sampled_num))\n",
    "    \n",
    "    #母平均が２つの値の間にあるかどうかを確認する\n",
    "    correct = min_val < population_mean < max_val\n",
    "    results.append({'min': min_val, 'max':max_val, 'correct':correct})"
   ]
  },
  {
   "cell_type": "code",
   "execution_count": 3,
   "id": "0395318c-911a-4a41-ac8a-afffed473ca1",
   "metadata": {},
   "outputs": [
    {
     "data": {
      "text/plain": [
       "2.9982786885245902"
      ]
     },
     "execution_count": 3,
     "metadata": {},
     "output_type": "execute_result"
    }
   ],
   "source": [
    "#母平均の確認\n",
    "population_mean"
   ]
  },
  {
   "cell_type": "code",
   "execution_count": 4,
   "id": "da47f28f-93b4-4382-8383-64bdfc047693",
   "metadata": {},
   "outputs": [
    {
     "data": {
      "text/plain": [
       "True     93\n",
       "False     7\n",
       "Name: correct, dtype: int64"
      ]
     },
     "execution_count": 4,
     "metadata": {},
     "output_type": "execute_result"
    }
   ],
   "source": [
    "#結果\n",
    "#わかりやすいようにDataFrameにする\n",
    "result_df = pd.DataFrame(results)\n",
    "#Falseの数を数える\n",
    "result_df['correct'].value_counts()"
   ]
  },
  {
   "cell_type": "code",
   "execution_count": 5,
   "id": "99e2da9c-47c9-4b3f-bcb0-50888c7083c1",
   "metadata": {},
   "outputs": [
    {
     "data": {
      "text/html": [
       "<div>\n",
       "<style scoped>\n",
       "    .dataframe tbody tr th:only-of-type {\n",
       "        vertical-align: middle;\n",
       "    }\n",
       "\n",
       "    .dataframe tbody tr th {\n",
       "        vertical-align: top;\n",
       "    }\n",
       "\n",
       "    .dataframe thead th {\n",
       "        text-align: right;\n",
       "    }\n",
       "</style>\n",
       "<table border=\"1\" class=\"dataframe\">\n",
       "  <thead>\n",
       "    <tr style=\"text-align: right;\">\n",
       "      <th></th>\n",
       "      <th>min</th>\n",
       "      <th>max</th>\n",
       "      <th>correct</th>\n",
       "    </tr>\n",
       "  </thead>\n",
       "  <tbody>\n",
       "    <tr>\n",
       "      <th>0</th>\n",
       "      <td>2.559613</td>\n",
       "      <td>3.174387</td>\n",
       "      <td>True</td>\n",
       "    </tr>\n",
       "    <tr>\n",
       "      <th>1</th>\n",
       "      <td>2.256952</td>\n",
       "      <td>2.891848</td>\n",
       "      <td>False</td>\n",
       "    </tr>\n",
       "    <tr>\n",
       "      <th>2</th>\n",
       "      <td>2.524347</td>\n",
       "      <td>3.192053</td>\n",
       "      <td>True</td>\n",
       "    </tr>\n",
       "    <tr>\n",
       "      <th>3</th>\n",
       "      <td>2.705591</td>\n",
       "      <td>3.664809</td>\n",
       "      <td>True</td>\n",
       "    </tr>\n",
       "    <tr>\n",
       "      <th>4</th>\n",
       "      <td>2.381699</td>\n",
       "      <td>2.971501</td>\n",
       "      <td>False</td>\n",
       "    </tr>\n",
       "    <tr>\n",
       "      <th>...</th>\n",
       "      <td>...</td>\n",
       "      <td>...</td>\n",
       "      <td>...</td>\n",
       "    </tr>\n",
       "    <tr>\n",
       "      <th>95</th>\n",
       "      <td>2.425988</td>\n",
       "      <td>3.028812</td>\n",
       "      <td>True</td>\n",
       "    </tr>\n",
       "    <tr>\n",
       "      <th>96</th>\n",
       "      <td>2.825605</td>\n",
       "      <td>3.649995</td>\n",
       "      <td>True</td>\n",
       "    </tr>\n",
       "    <tr>\n",
       "      <th>97</th>\n",
       "      <td>2.563500</td>\n",
       "      <td>3.500500</td>\n",
       "      <td>True</td>\n",
       "    </tr>\n",
       "    <tr>\n",
       "      <th>98</th>\n",
       "      <td>2.585732</td>\n",
       "      <td>3.350268</td>\n",
       "      <td>True</td>\n",
       "    </tr>\n",
       "    <tr>\n",
       "      <th>99</th>\n",
       "      <td>2.528952</td>\n",
       "      <td>3.427048</td>\n",
       "      <td>True</td>\n",
       "    </tr>\n",
       "  </tbody>\n",
       "</table>\n",
       "<p>100 rows × 3 columns</p>\n",
       "</div>"
      ],
      "text/plain": [
       "         min       max  correct\n",
       "0   2.559613  3.174387     True\n",
       "1   2.256952  2.891848    False\n",
       "2   2.524347  3.192053     True\n",
       "3   2.705591  3.664809     True\n",
       "4   2.381699  2.971501    False\n",
       "..       ...       ...      ...\n",
       "95  2.425988  3.028812     True\n",
       "96  2.825605  3.649995     True\n",
       "97  2.563500  3.500500     True\n",
       "98  2.585732  3.350268     True\n",
       "99  2.528952  3.427048     True\n",
       "\n",
       "[100 rows x 3 columns]"
      ]
     },
     "execution_count": 5,
     "metadata": {},
     "output_type": "execute_result"
    }
   ],
   "source": [
    "result_df"
   ]
  },
  {
   "cell_type": "markdown",
   "id": "9e8c89d4-47e9-4847-be23-2a9aca401b6b",
   "metadata": {},
   "source": [
    "## t分布(student t distribution)"
   ]
  },
  {
   "cell_type": "code",
   "execution_count": 20,
   "id": "2d6f26fa-983f-4d8a-8815-ffda859f3073",
   "metadata": {},
   "outputs": [
    {
     "data": {
      "text/plain": [
       "<matplotlib.legend.Legend at 0x404f82dac0>"
      ]
     },
     "execution_count": 20,
     "metadata": {},
     "output_type": "execute_result"
    },
    {
     "data": {
      "image/png": "[encoded data removed]",
      "text/plain": [
       "<Figure size 432x288 with 1 Axes>"
      ]
     },
     "metadata": {
      "needs_background": "light"
     },
     "output_type": "display_data"
    }
   ],
   "source": [
    "#t分布\n",
    "#・母標準偏差σの代わりに不偏分散s'2の平方根s'を代用することで変形した分布\n",
    "#・95%区間が−1.96~1.96ではなくなる\n",
    "# 95%区間が−1.96~1.96となるのは、あくまでも標準正規分布のお話\n",
    "#・1つの決まった形にはならない\n",
    "#・自由度(degree of freedom)n-1をパラメータにとる\n",
    "#・標準正規分布に比べ、裾野が広くなる\n",
    "# =同じ信頼区間で取りうる値が広くなる\n",
    "# 　　−1.96~1.96の面積が９５％にならない\n",
    "# 　　自由度2だと-4.3~4.3\n",
    "# =推定が曖昧になる\n",
    "# 　　自由度99だと−1.98~1.98※これだと標準正規分布に近いので、z分布でも良い\n",
    "#・n(標本のサイズ。抽出した標本の数)を大きくすると標準正規分布に近づく\n",
    "# nが十分に大きければ(大体30)、標準正規分布に近似可能\n",
    "# nが大きくなると裾野が狭くなり、推定区間も狭くなる\n",
    "# 　　自由度2だとnは3なので、標本は3個\n",
    "# 　　自由度29だとnは30なので、標本は30個\n",
    "\n",
    "#t分布を扱う\n",
    "#stats.t(df).<メソッド>\n",
    "#確率分布tの引数\n",
    "# df(degree of freedom):自由度\n",
    "#メソッド\n",
    "# rvs()\n",
    "# pdf()\n",
    "# cdf() etc...\n",
    "\n",
    "#-例-\n",
    "#自由度1,6,11のt分布と標準正規分布が実際にどういうグラフになるかを見る\n",
    "#pdf:確率密度関数\n",
    "\n",
    "#x軸\n",
    "x = np.linspace(-3, 3, 100)\n",
    "#標準正規分布(normにパラメータを指定しなければ、平均0分散1の標準正規分布となる)\n",
    "z = stats.norm.pdf(x)\n",
    "#t分布(自由度１,6,11)\n",
    "for dof in range(1, 12, 5):\n",
    "    t = stats.t(dof).pdf(x)\n",
    "    #t分布の描画\n",
    "    plt.plot(x, t, label=f\"t dist(dof={dof})\")\n",
    "\n",
    "#標準正規分布の描画\n",
    "plt.plot(x, z, label=\"std norm\", linewidth=3)\n",
    "#凡例\n",
    "plt.legend()"
   ]
  },
  {
   "cell_type": "markdown",
   "id": "25afa702-bcb4-40bb-ac91-c6996be90b38",
   "metadata": {},
   "source": [
    "## 平均値の区間推定(t分布)"
   ]
  },
  {
   "cell_type": "code",
   "execution_count": 18,
   "id": "0059d29f-8a91-40f9-bfbc-9a1e50ec6303",
   "metadata": {},
   "outputs": [
    {
     "name": "stdout",
     "output_type": "stream",
     "text": [
      "-population mean-\n",
      " population_mean: 2.9982786885245902\n",
      "-sample mean-\n",
      " sampled_mean   : 3.0518\n",
      "-std norm-\n",
      " min_val_norm   : 2.6783936336378784\n",
      " max_val_norm   : 3.4252063663621217\n",
      "-t dist-\n",
      " min_val_t      : 2.251587613859439\n",
      " max_val_t      : 3.852012386140561\n"
     ]
    }
   ],
   "source": [
    "#-例-\n",
    "#データセット(tips.csv)を母集団と見立てて50個の標本平均から\n",
    "#正規分布を使った母平均の区間推定と\n",
    "#t分布を使った母平均の区間推定で\n",
    "#結果がどう異なるかを見る(信頼区間は95%)\n",
    "\n",
    "sampled_num = 50 #抽出する標本の個数\n",
    "alpha = 0.95     #信頼区間\n",
    "column = 'tip'   #カラム名\n",
    "\n",
    "#母平均の計算\n",
    "population_mean = df[column].mean()\n",
    "\n",
    "#標本抽出\n",
    "sampled_df = df.sample(sampled_num)\n",
    "#標本の平均\n",
    "sampled_mean = sampled_df[column].mean()\n",
    "#標本の不偏分散\n",
    "sampled_var = stats.tvar(sampled_df[column])\n",
    "\n",
    "#平均の区間推定(正規分布)\n",
    "#信頼区間(alpha):95%\n",
    "#loc(標本平均):標本の平均\n",
    "#scale(標本分布の標準偏差):標本の不偏分散(S')のルート\n",
    "#戻り値1:信頼区間95%の下限\n",
    "#戻り値2:信頼区間95%の上限\n",
    "min_val_norm, max_val_norm = stats.norm.interval(alpha, sampled_mean, np.sqrt(sampled_var/sampled_num))\n",
    "\n",
    "#t分布\n",
    "#信頼区間(alpha):95%\n",
    "#loc(標本平均):\n",
    "#scale(標本分布の標準偏差):標本の不偏分散(S')のルート\n",
    "#df(自由度):標本の数-1\n",
    "#戻り値1:信頼区間95%の下限\n",
    "#戻り値2:信頼区間95%の上限\n",
    "min_val_t, max_val_t = stats.t.interval(alpha, loc=sampled_mean, scale=np.sqrt(sampled_var/sampled_num), df=(sampled_mean-1))\n",
    "\n",
    "print(\"-population mean-\")\n",
    "print(\" population_mean: {}\".format(population_mean))\n",
    "print(\"-sample mean-\")\n",
    "print(\" sampled_mean   : {}\".format(sampled_mean))\n",
    "print(\"-std norm-\")\n",
    "print(\" min_val_norm   : {}\".format(min_val_norm))\n",
    "print(\" max_val_norm   : {}\".format(max_val_norm))\n",
    "print(\"-t dist-\")\n",
    "print(\" min_val_t      : {}\".format(min_val_t))\n",
    "print(\" max_val_t      : {}\".format(max_val_t))\n",
    "\n",
    "#結果\n",
    "# t分布を使った区間推定の方が正規分布を使った区間推定より値の幅が広くなっている"
   ]
  },
  {
   "cell_type": "markdown",
   "id": "baf911d0-4adc-40b1-973f-de6a30d63f21",
   "metadata": {},
   "source": [
    "## 比率差の検定(Z-test)"
   ]
  },
  {
   "cell_type": "code",
   "execution_count": 3,
   "id": "39de55e6-f5a3-4b48-9513-cc45299d44f5",
   "metadata": {},
   "outputs": [
    {
     "data": {
      "text/plain": [
       "(-0.3840618481549573, 0.35046630388746547)"
      ]
     },
     "execution_count": 3,
     "metadata": {},
     "output_type": "execute_result"
    }
   ],
   "source": [
    "#統計的仮設検定\n",
    "#・統計的に仮説が正しいかを確かめる\n",
    "# ある標本2つがある場合、それらの標本の背後にある母集団の平均が同じかどうかを統計的に見ることができる\n",
    "# それらの数値はたまたま出てきたものなのか、統計的に正しいのかどうか・・・\n",
    "#・意思決定を左右する重要な役割を果たす\n",
    "\n",
    "#帰無仮説(null hypothesis)と対立仮説(alternative hypothesis)\n",
    "#・仮説を立てて、その仮説が統計的に成立すると言えるかを検証する\n",
    "#・正しくなければ仮説を棄却し、反対の仮説を成立させる\n",
    "# 通常、「差がない」方を帰無仮説とし、それを棄却することを狙う\n",
    "# →「差がある」にはさまざまなケースがあるため\n",
    "# 　　「差がない」という1つの仮説を否定すれば、「差がある」ことを言うことができる\n",
    "\n",
    "#統計的仮設検定の流れ\n",
    "#1.帰無仮説と対立仮説を立てる\n",
    "#2.帰無仮説が正しいと仮定のもと、標本観察を行う(標本統計量を計算する)\n",
    "#  帰無仮説が正しくないのなら、途中で矛盾が起きるはず\n",
    "#3.標本観察の結果、帰無仮説を否定できるかを確認する(否定した場合、対立仮説が成立する)\n",
    "#  「差はない」との仮定のもと、それはどれくらいの確率で起こるのか？を統計的に見ていく\n",
    "\n",
    "#比率差の検定＝Z検定\n",
    "#・2群の比率に差があるかを検定する\n",
    "#・ただし、あくまでも母数に差があるかを検定している\n",
    "\n",
    "#比率差の検定＝Z検定の帰無仮説と対立仮説\n",
    "#-例-\n",
    "#自社のサイトにおいて、新しい施策をしたことによりクリック率が上がったかどうかを確かめたい(A/Bテスト)\n",
    "# 従来施策のクリック率：p1\n",
    "# 新施策のクリック率：p2\n",
    "#\n",
    "#1.帰無仮説と対立仮説を立てる\n",
    "#帰無仮説：差はない(p1=p2) ←棄却することを狙っている\n",
    "#対立仮説：従来施策のクリック率より新施策のクリック率の方が高い(p1<p2)\n",
    "#　　※「差がある」には3つのパターンがある\n",
    "#　　  p1≠p2:両側検定\n",
    "#　　  p1<p2:片側検定\n",
    "#　　  p1>p2:片側検定\n",
    "#\n",
    "#2.帰無仮説が正しいと仮定のもと、標本観察を行う(標本統計量を計算する)\n",
    "# ・2つの標本から比率を計算し、比率の差がどのような標本分布になるかを考える\n",
    "# ・帰無仮説を正しいとした場合、得られた比率の差がどれくらいの確率で得られるかを考える\n",
    "#  帰無仮説が正しいとした場合の比率の差の標本分布がどのようなものになるか\n",
    "#\n",
    "#  クリック率:従x1=30回 新x2=33回\n",
    "#  閲覧率:　　　従n1 　　　　　　　　　　新n2 ※n1=n2=1000回とする\n",
    "#  標本比率:従x1/n1　　　　　新x2/n2\n",
    "#  →今回は比率の差について考える。確率的に変動する値なので、確率変数\n",
    "#    x1/n1　- x2/n2\n",
    "#   この確率変数がどういう確率分布に従うのか→比率の差の標本分布\n",
    "#    よく得られる値なら、帰無仮説は正しいそう\n",
    "#    滅多に得られない値なら、帰無仮説は間違っているのでは\n",
    "#\n",
    "#3.標本観察の結果、帰無仮説を否定できるかを確認する(否定した場合、対立仮説が成立する)\n",
    "# ・比率の差の標本分布を考える\n",
    "#  →それぞれの比率の標本分布の平均の差と分散の和になる\n",
    "#\n",
    "#  比率の標本分布\n",
    "#        従            新\n",
    "#   比率:x1/n1        x2/n2\n",
    "#   平均:p1           p2\n",
    "#   分散:p1q1/n1      p2q2/n2 ※q=1-p\n",
    "#\n",
    "#  比率差(x1/n1　- x2/n2)の標本分布\n",
    "#   平均:p1 - p2\n",
    "#   分散:p1q1/n1 + p2q2/n2 ※q=1-p\n",
    "#\n",
    "#  ※独立している確率変数の差の分散は、それぞれの分散の和(取る値が増える→ばらつきが大きくなるため)\n",
    "#\n",
    "# ・帰無仮説(p1=p2)が正しい場合の比率差の標本分布\n",
    "#  比率差(x1/n1　- x2/n2)の標本分布は平均p1 - p2、分散p1q1/n1 + p2q2/n2の正規分布\n",
    "#  帰無仮説が正しいとすると、平均=p1-p2=0あたりの値が取れるはず\n",
    "#  →比率差(x1/n1　- x2/n2)がどれくらいの確率で得られるのかを考える\n",
    "#   標本分布に対してどの位置にある値なのか\n",
    "#   →帰無仮説を棄却する(どこからどこまでだったら帰無仮説は正しく、どこからなら間違っているのか)境目を決める必要がある＝有意水準\n",
    "#  \n",
    "# ・有意水準(α: significance level)\n",
    "#  ・帰無仮説を正しいとすると、滅多に起きない確率の基準\n",
    "#  ・通常 α=.05 or .01\n",
    "#   CIの逆。「１００回のうち５回間違える」の９５回がCI,5回がα\n",
    "#  ・検定統計量が有意水準以下の確率で得られた場合、帰無仮説を棄却する\n",
    "#  ・帰無仮説が棄却された時、「統計的に有意である/有意差がある」という\n",
    "#\n",
    "#  ・両側検定(差があることにだけ興味がある)\n",
    "#   有意水準5%(下限2.5% 上限2.5%)\n",
    "#  ・片側検定(上側)(差があることにだけ興味がある)\n",
    "#   有意水準5%(上限5%)\n",
    "#  ・片側検定(下側)(差があることにだけ興味がある)\n",
    "#   有意水準5%(下限5%)\n",
    "#   ※今回の対立仮説(p1<p2)はp1-p2が負の大きい値になればOKなので、下側\n",
    "#\n",
    "#  →正規分布で5%のラインがどこなのかわからない\n",
    "#   →標準化する\n",
    "#\n",
    "# ・比率の差の標本分布の標準化\n",
    "#  標準化することで、棄却域の値を標準正規分布から取ることができる\n",
    "#  ※標準化後の有意水準5%\n",
    "#    両側検定の場合の棄却域:-1.96以下、1.96以上\n",
    "#    片側検定(上側)の場合の棄却域:1.64\n",
    "#    片側検定(下側)の場合の棄却域:-1.64\n",
    "#  →母集団の比率pが必要だが不明なので、推定値p^を考える\n",
    "#\n",
    "# ・母集団の比率pの推定値p^を計算する\n",
    "#  2つの標本を合わせた比率を母比率pの推定値p^とする\n",
    "#   p^ = (x1+x2)/(n1+n2)\n",
    "#   今回の例だと、n1=n2=1000, x1=30, x2=33 なので\n",
    "#   p^ = (30+33)/(1000+1000) = 63/2000\n",
    "#\n",
    "# ・比率差を標準化した検定統計量zを計算し、棄却域に入るかをみる\n",
    "#  z = -0.38\n",
    "# →棄却域には入らない値なので、帰無仮説を棄却できない(有意差があるとは言えない)\n",
    "#  zはどのくらいの確率で得られる値なのか？→p値\n",
    "\n",
    "#p値(probability)\n",
    "#・帰無仮説が正しいとしたときに、その検定統計量が得られる確率\n",
    "# 今回なら、z=-0.38が得られる確率\n",
    "# 分布の−0.38の位置から左側の面積をみる(下側の片側検定だったので)\n",
    "#・帰無仮説が正しいとき、p値の確率でこの結果が起こりうる\n",
    "#・p<有意水準α(5%の場合-1.64)のとき帰無仮説を棄却できる\n",
    "\n",
    "#検定の結果パターン\n",
    "#・帰無仮説を棄却できた場合※仮設検定はこちらのパターンを想定して実施する場合がほとんど\n",
    "# 有意差がある\n",
    "# ↓\n",
    "# 差があると言える\n",
    "# ↓\n",
    "# (成立させたかった)対立仮説は成立する ※「差がある」と言える\n",
    "# \n",
    "#・帰無仮説を棄却できなかった場合\n",
    "# 有意差がない\n",
    "# ↓\n",
    "# 差がないことを否定できない\n",
    "# ↓\n",
    "# 対立仮説は成立しない ※「差がない」＝「値が同じ」とは必ずしも言えない\n",
    "\n",
    "#比率差の検定をする\n",
    "#statsmodels.stats.proportion.proportions_ztest(count, nobs, alternative)\n",
    "#statsmodels:scipyのstatsモジュールの拡張版のようなもの\n",
    "#引数\n",
    "#　　　　count:標本の中で実際に観察できた数(リスト)\n",
    "#　　　　nobs(the number of observations):観察した数＝標本の大きさ(リスト)\n",
    "#　　　　alternative:成立させたい対立仮説 'two-sided'(両側検定),'smaller'(片側検定(下側検定)),'larger'(片側検定(上側検定)) ('smaller':p1<p2, 'larger':p1>p2)\n",
    "#戻り値\n",
    "#  zstat:検定統計量\n",
    "#  p-value:p値\n",
    "#\n",
    "#※比率差の検定は最終的にはZ分布(標準正規分布)を使うため\n",
    "#  Pythonを使う場合、基本的にp値を求めて、そのp値が有意水準を下回るかどうかを見る\n",
    "\n",
    "#-例-\n",
    "#自社のWebサイトにおいて、新しい施策をしたことによりクリック率が上がったかどうかを確認する\n",
    "#有意水準:0.05\n",
    "#count 観察数\n",
    "#  施策前の標本のクリック率(x1):30\n",
    "#  施策後の標本のクリック率(x2):33\n",
    "#nobs 標本の大きさ\n",
    "#  施策前の標本の閲覧数(n1):1000\n",
    "#  施策後の標本の閲覧数(n2):1000\n",
    "#alternative 対立仮説\n",
    "#  下側検定をしたい→smaller\n",
    "proportions_ztest([30, 33], [1000, 1000], alternative='smaller')\n",
    "\n",
    "#結果\n",
    "#  p値(第２戻り値):0.35→有意水準0.05より大きいので、帰無仮説を棄却できない"
   ]
  },
  {
   "cell_type": "markdown",
   "id": "4a61e255-736e-4f6a-a72b-f68e102b8bdd",
   "metadata": {},
   "source": [
    "## 連関の検定(カイ二乗検定)"
   ]
  },
  {
   "cell_type": "code",
   "execution_count": 6,
   "id": "3068140f-bd49-4b16-a239-564a04c9f32f",
   "metadata": {},
   "outputs": [
    {
     "data": {
      "text/plain": [
       "(24.107142857142858,\n",
       " 9.112167294252327e-07,\n",
       " 1,\n",
       " array([[ 6., 14.],\n",
       "        [24., 56.]]))"
      ]
     },
     "execution_count": 6,
     "metadata": {},
     "output_type": "execute_result"
    }
   ],
   "source": [
    "#連関の検定\n",
    "#・2つのカテゴリー変数間に連関があるかを検定する\n",
    "# 最終的にカイ二乗値を使うのでカイ二乗検定という\n",
    "#・背後にある母集団には連関があると言えるのか？を検定する\n",
    "# カテゴリ変数なので、片側検定はない。よって、下記の仮説となる\n",
    "#  帰無仮説：連関がない(＝独立)\n",
    "#  対立仮説：連関がある(＝独立していない)\n",
    "#\n",
    "#帰無仮説を仮定したときに、カテゴリ変数間のカイ二乗値(χ2)がどれくらいの確率で得られるかを考える\n",
    "# -例-\n",
    "# 　　　　　　　　　　　　　　　　　　　　　　　            飲酒\n",
    "# 　　　　　　　　　　　　　　　　　　　　　　する                 しない\n",
    "# 喫煙 する　　　　　　 (15-6)**2/6=13.5   (5-14)**2/14=5.78\n",
    "#      しない　 (15-24)**2/24=3.38 (65-56)**2/56=1.45\n",
    "# →総和(カイ二乗値)\n",
    "#  13.5+5.78+3.38+1.45 = 24.11\n",
    "#\n",
    "# 独立しているのならカイ二乗値χ2は0になるはず(観測度数も期待度数も同じ値になるはずだから)\n",
    "# →24.11がどのくらいの確率で得られるか？ → カイ二乗分布に従う\n",
    "\n",
    "#カイ二乗分布\n",
    "#・χ2値が従う確率分布\n",
    "#・自由度(degree of freedom)を唯一のパラメータとする分布\n",
    "# 自由度=(a-1)(b-1) ※a行b列の分割表\n",
    "#  例\n",
    "#   2x2の分割表の場合、(2-1)(2-1)=1\n",
    "#   自由度1のカイ二乗分布を見れば良い\n",
    "#\n",
    "# ※自由度とは\n",
    "#   自由に値を決められる数のこと\n",
    "#   a個の値があれば、a-1個の値を自由に決められる(最後の1つは自動的に決まる)\n",
    "#   行と列で、それぞれ同様に自由に決められる数があるので、全体の自由度は(a-1)(b-1)\n",
    "#\n",
    "#カイ二乗分布におけるp値の求め方\n",
    "#・帰無仮説が正しいとした場合の標本から計算されたカイ二乗が得られる確率\n",
    "#・２変数が独立しの関係にある場合は χ2=0 となり、この時 p=1(つまり100%)\n",
    "#・カイ二乗分布の右から確率を累積した値\n",
    "# 常に上側の棄却域しかないので、分布のある位置から右側の面積\n",
    "# 自由度1のカイ二乗分布の有意水準5% χ2=3.841\n",
    "#\n",
    "#標本から計算したカイ二乗が棄却域に入るかをみる\n",
    "#・標本からカイ二乗を計算して、カイ二乗分布でどれくらいの確率で得られるかを計算する\n",
    "#・棄却域に入らなければ2つの変数に連関があるとは言えない\n",
    "#・棄却域に入れば2つの変数に連関がある(独立ではない)と言える\n",
    "\n",
    "#カイ二乗検定を行う\n",
    "#※連関の講座で使用したメソッド\n",
    "#chi2, p, dof, ex = stats.chi2_contingency(obs, correction=False)\n",
    "#引数\n",
    "#  obs:観測度数(の分割表)\n",
    "#  correction:イェイツの修正(基本的にFalseにする)\n",
    "#戻り値\n",
    "#  chi2:カイ二乗\n",
    "#  p:p値\n",
    "#  dof(degree of freedom):自由度\n",
    "#  ex(expected frequency):期待度数(の分割表)　「連関がなかったらこの分割表はこういうふうになる」ということ\n",
    "\n",
    "#-例-\n",
    "#下記の変数間に連関はあるか？\n",
    "#              飲酒       計\n",
    "#           する   しない\n",
    "#喫煙 する    15     5     20    →[15, 5]\n",
    "#    しない   15    65     80    →[15, 65]\n",
    "#       計   30    70    100\n",
    "#\n",
    "#有意水準:0.05\n",
    "obs=[[15, 5], [15, 65]]\n",
    "stats.chi2_contingency(obs, correction=False)\n",
    "\n",
    "#結果\n",
    "#  p値(第２戻り値 ほぼ0)は有意水準0.05よりかなり小さい→連関がある\n",
    "\n",
    "#イェイツの修正(Yates's crrection)\n",
    "#・カイ二乗検定に修正を加えたもの\n",
    "#・p値が高くなる(本当は連関があるのにないと結論する確率が高くなる)\n",
    "#・用途は限定的"
   ]
  },
  {
   "cell_type": "markdown",
   "id": "9e976055-5d0c-4444-b03f-0f37539be691",
   "metadata": {},
   "source": [
    "## カイ二乗検定と比率差の検定（Z検定）"
   ]
  },
  {
   "cell_type": "code",
   "execution_count": 10,
   "id": "034947ae-2fe6-4f1c-b046-b87d58bacf51",
   "metadata": {},
   "outputs": [],
   "source": [
    "#カイ二乗検定と比率の差の検定(Z検定)\n",
    "#・自由度1のカイ二乗検定は比率差の検定と同じ\n",
    "#・カイ二乗検定の場合は、対立仮説が「比率差あり」しかできないことに注意\n",
    "\n",
    "#-例-\n",
    "#自由度1のカイ二乗検定とZ検定が同じ結果になることを確認する\n",
    "#データセット(tip.csv)を母集団と見立てて標本を２つ作り、それぞれの標本の比率の差を検定する。\n",
    "#カイ二乗検定及びZ検定を行い、p値が同じになることを確認する。\n",
    "#比率はDinnerの比率を見る\n",
    "\n",
    "sample_num = 50         #抽出する標本の個数\n",
    "sample_column = 'time'  #カラム名\n",
    "ratio_column = 'Dinner' #'tip'の中の値\n",
    "\n",
    "#比率の差の検定なので、標本を2つ作る\n",
    "#抽出した標本のtipカラムにある'Dinner'の数\n",
    "#1つ目\n",
    "sample_df_1st = df.sample(sample_num)\n",
    "count_1st = sample_df_1st[sample_column].value_counts()[ratio_column]\n",
    "#２つ目\n",
    "sample_df_2nd = df.sample(sample_num)\n",
    "count_2nd = sample_df_2nd[sample_column].value_counts()[ratio_column]"
   ]
  },
  {
   "cell_type": "code",
   "execution_count": 11,
   "id": "05a09d1e-0720-479a-98c1-b1116fc348cb",
   "metadata": {},
   "outputs": [
    {
     "data": {
      "text/plain": [
       "(0.5455447255899813, 0.5853789284609613)"
      ]
     },
     "execution_count": 11,
     "metadata": {},
     "output_type": "execute_result"
    }
   ],
   "source": [
    "#Z検定\n",
    "# count:それぞれの'Dinner'の数\n",
    "# nobs:採取した標本の数(ここではどちらも50)\n",
    "# alternative:two-sided(差があるかどうかを見たいので両側検定)\n",
    "proportions_ztest([count_1st, count_2nd], [sample_num, sample_num], alternative='two-sided')\n",
    "\n",
    "#結果\n",
    "#  p値が有意水準0.05より大きいので、帰無仮説が棄却されない"
   ]
  },
  {
   "cell_type": "code",
   "execution_count": 13,
   "id": "e9faeaf7-6555-43fe-a081-f5dcd9be005e",
   "metadata": {},
   "outputs": [
    {
     "data": {
      "text/plain": [
       "(0.2976190476190476,\n",
       " 0.5853789284609614,\n",
       " 1,\n",
       " array([[42.,  8.],\n",
       "        [42.,  8.]]))"
      ]
     },
     "execution_count": 13,
     "metadata": {},
     "output_type": "execute_result"
    }
   ],
   "source": [
    "#カイ二乗検定\n",
    "#カイ二乗検定の分割表を作成\n",
    "#value_counts()でカラムから値を取り、valuesでNumpy Arrayにする\n",
    "freq_1st = sample_df_1st[sample_column].value_counts().values\n",
    "freq_2nd = sample_df_2nd[sample_column].value_counts().values\n",
    "\n",
    "# obs:分割表のarray\n",
    "stats.chi2_contingency([freq_1st, freq_2nd], correction=False)\n",
    "\n",
    "#結果\n",
    "# カイ二乗検定とZ検定でp値は同じになっている"
   ]
  },
  {
   "cell_type": "markdown",
   "id": "aee26e73-f83d-4d28-bbaa-830301d04ae1",
   "metadata": {},
   "source": [
    "## t検定(平均値差の検定)"
   ]
  },
  {
   "cell_type": "code",
   "execution_count": 19,
   "id": "db541d05-fbea-46d8-af83-afbac98a0e82",
   "metadata": {},
   "outputs": [
    {
     "name": "stdout",
     "output_type": "stream",
     "text": [
      "- Male tip_rate -\n",
      "    mean: 0.15765054700429748\n",
      "variance: 0.004169445577529407\n",
      "- Female tip_rate -\n",
      "    mean: 0.16649073632892475\n",
      "variance: 0.0028433004255488206\n"
     ]
    }
   ],
   "source": [
    "#平均値差の検定\n",
    "#・最もよく出てくる検定\n",
    "#・あるグループの平均を比較したときにその平均値に差があるかどうかを検定する\n",
    "#・t分布を使うので一般にt検定と呼ばれている\n",
    "#・平均値差の検定には「対応がない」ものと「対応がある」ものがある\n",
    "# 一般的に単に「平均値差の検定」という場合には「対応がない」方を指している\n",
    "#  ・対応がある\n",
    "#   同じ標本に対して何かの施策をし、その前後で値を比べる\n",
    "#  ・対応がない\n",
    "#   2つの標本において、それぞれのデータが対応していない\n",
    "#   全く別の標本2つの平均値の差を検定する\n",
    "#・対応なしと対応ありでは検定する対象が異なる\n",
    "\n",
    "#対応なしの平均値差の検定\n",
    "#・大標本か小標本かで使用する分布が異なる(ツールなどを用いる場合は基本的にt分布を使う)\n",
    "# ・大標本の場合→比率の差の検定と同じく、最終的には標準正規分布を使う(Z検定)※あくまでも近似\n",
    "# ・小標本の場合\n",
    "#  母集団をチェックする\n",
    "#  母集団が正規分布でない場合→ノンパラメトリック検定\n",
    "#  母集団が正規分布である場合(パラメトリック検定)\n",
    "#   等分散(２群の分散が等しい)である場合→スチューデントのt検定※一般にt検定と言われたらこれを指す\n",
    "#   等分散(２群の分散が等しい)でない場合→ウェルチのt検定\n",
    "\n",
    "#t検定のやり方\n",
    "#・帰無仮説と対立仮説は比率の差の検定と同様(成立させたい仮説を対立仮説とする)\n",
    "#・平均値差の標本分布を考える\n",
    "# 例\n",
    "#  母集団1(平均:μ1 標準偏差:σ1)→標本1(平均:x1 個数:n1)\n",
    "#  母集団2(平均:μ2 標準偏差:σ2)→標本2(平均:x2 個数:n2)\n",
    "#  平均値差:x1 - x2\n",
    "#\n",
    "# 得られた平均値差がどのような確率で得られるかを考える\n",
    "# →帰無仮説が正しいとした場合の平均の差の標本分布がどのようなものになるか\n",
    "#\n",
    "#→まずはx1、x2の標本分布を考える\n",
    "\n",
    "#平均値差の標本分布(大標本の場合 Z検定)\n",
    "#・それぞれの平均の標本分布の平均の差と分散の和になる\n",
    "# 比率の差の時と同じ\n",
    "#・母集団1,2の分散(母分散)は未知なので不偏分散で代用する\n",
    "# 大標本の場合はこれでも問題なく正規分布に近似できる\n",
    "#平均値差の標本分布の標準化(大標本の場合)\n",
    "#・標準化することで棄却域を標準正規分布から取ることができる(z分布)\n",
    "# 有意水準5%の両側検定の場合、棄却域は-1.96以下1.96以上\n",
    "\n",
    "#平均値差の標本分布(小標本の場合)\n",
    "#ステューデントのt検定\n",
    "#・下記の条件を全て満たす場合に統計検定量はt分布になる\n",
    "# ・母集団が正規分布\n",
    "# ・２つの母集団の分散が等しい(等分散)\n",
    "# →等分散の値をどう推定するか？\n",
    "#・2つの母集団に共通している分散σ2の推定値(σ^2)\n",
    "#　　2つの標本の全データ(n1+n2)における平均からの偏差の２乗和を全体の自由度((n1-1)+(n2-1))で割ったものを使う\n",
    "#・標本分布を標準化するとt分布になる\n",
    "#\n",
    "#ウェルチのt検定\n",
    "#・t分布を使用する\n",
    "#・等分散性をいう必要がないので使いやすい\n",
    "#・統計検定量の指揮は大標本の際のzと同じ\n",
    "# n1とn2が十分に大きければ、標準正規分布に近似でき、結局Z検定になる\n",
    "\n",
    "#t検定を実施する\n",
    "#※通常、t検定は標本が小さい場合は正規分布であることを想定する\n",
    "#・スチューデントのt検定(正規分布かつ等分散)\n",
    "#・ウェルチのt検定(正規分布、等分散とは言えない。標本が十分に大きければz検定に近似する)\n",
    "# →どちらも同じメソッドを使う(等分散を担保しなくていい分、ウェルチのt検定の方が使い勝手は良いので、pythonではこちらを使うことが多い)\n",
    "#stats.ttest_ind(a, b, equal_var)\n",
    "#※ind=independent\n",
    "#  独立した２群の平均値差の検定\n",
    "#引数\n",
    "#  a:１つ目のデータセット\n",
    "#  b:２つ目のデータセット\n",
    "#  equal_var: 等分散。True=スチューデントのt検定(デフォルト)/False=ウェルチのt検定\n",
    "#  alternative: 対立仮説。'two-sided'(デフォルト), 'less','greater'\n",
    "#戻り値\n",
    "#  第１:t値(検定統計量)\n",
    "#  第2:p値\n",
    "\n",
    "#-例-\n",
    "#データセット(tip.csv)を標本と見立て、スチューデントのt検定とウェルチのt検定で男女のチップ率の平均の差を検定する\n",
    "#データセットの作成\n",
    "tip_male = df[df['sex'] == 'Male']['tip_rate']     #男性のチップ率\n",
    "tip_female = df[df['sex'] == 'Female']['tip_rate'] #女性のチップ率\n",
    "\n",
    "#平均と分散の確認\n",
    "#男性\n",
    "print(\"- Male tip_rate -\")\n",
    "print(\"    mean: {}\".format(np.mean(tip_male)))\n",
    "print(\"variance: {}\".format(np.var(tip_male)))\n",
    "#女性\n",
    "print(\"- Female tip_rate -\")\n",
    "print(\"    mean: {}\".format(np.mean(tip_female)))\n",
    "print(\"variance: {}\".format(np.var(tip_female)))\n",
    "#※分散は「等分散である」と言うにはちょっと微妙な差ではある"
   ]
  },
  {
   "cell_type": "code",
   "execution_count": 12,
   "id": "3873d216-816e-498e-a16f-d1d9e4c08d6f",
   "metadata": {},
   "outputs": [
    {
     "data": {
      "text/plain": [
       "Ttest_indResult(statistic=-1.0833972270477996, pvalue=0.2797103849605489)"
      ]
     },
     "execution_count": 12,
     "metadata": {},
     "output_type": "execute_result"
    }
   ],
   "source": [
    "#スチューデントのt検定\n",
    "# equal_var=True※デフォルトなので省略\n",
    "# alternative='two-sided'※デフォルトなので省略。差が見たいだけなのでこれでOK\n",
    "stats.ttest_ind(tip_male, tip_female)\n",
    "\n",
    "#結果\n",
    "# p値は有意水準0.05よりも上の値なので、MaleとFemaleのチップ率に有意差はない"
   ]
  },
  {
   "cell_type": "code",
   "execution_count": 18,
   "id": "5dabbd62-e5cb-4b78-9495-b9038f1dd271",
   "metadata": {},
   "outputs": [
    {
     "data": {
      "text/plain": [
       "Ttest_indResult(statistic=-1.1432770167349968, pvalue=0.2542456188927583)"
      ]
     },
     "execution_count": 18,
     "metadata": {},
     "output_type": "execute_result"
    }
   ],
   "source": [
    "#ウェルチのt検定\n",
    "#※Pythonでウェルチのt検定を使う理由\n",
    "#  ・今回のように標本が大きい\n",
    "#  ・大標本の時にはZ検定に近似する\n",
    "#  ・等分散性をいう必要がない\n",
    "stats.ttest_ind(tip_male, tip_female, equal_var=False)\n",
    "\n",
    "#結果\n",
    "# t値は棄却位置に入らない。帰無仮説が正しいとしても25%の確率で今回の結果は起こりうる"
   ]
  },
  {
   "cell_type": "code",
   "execution_count": 15,
   "id": "33dd4310-2efa-467c-97e4-7260f4fc9f3a",
   "metadata": {},
   "outputs": [
    {
     "data": {
      "text/plain": [
       "<seaborn.axisgrid.FacetGrid at 0x40554bfbe0>"
      ]
     },
     "execution_count": 15,
     "metadata": {},
     "output_type": "execute_result"
    },
    {
     "data": {
      "image/png": "[encoded data removed]",
      "text/plain": [
       "<Figure size 360x360 with 1 Axes>"
      ]
     },
     "metadata": {
      "needs_background": "light"
     },
     "output_type": "display_data"
    }
   ],
   "source": [
    "#※データの分布も一緒に確認する癖をつける\n",
    "#ヒストグラムを描画する\n",
    "#男性のチップ率 →正規分布のように見えるが、本当にそうかはわからない(Q-Qプロット)\n",
    "sns.displot(tip_male)"
   ]
  },
  {
   "cell_type": "code",
   "execution_count": 11,
   "id": "fcac1fb8-066e-46c7-bd0b-4d34c3ad5f0c",
   "metadata": {},
   "outputs": [
    {
     "data": {
      "text/plain": [
       "<seaborn.axisgrid.FacetGrid at 0x40303e2610>"
      ]
     },
     "execution_count": 11,
     "metadata": {},
     "output_type": "execute_result"
    },
    {
     "data": {
      "image/png": "[encoded data removed]",
      "text/plain": [
       "<Figure size 360x360 with 1 Axes>"
      ]
     },
     "metadata": {
      "needs_background": "light"
     },
     "output_type": "display_data"
    }
   ],
   "source": [
    "#女性のチップ率\n",
    "sns.displot(tip_female)"
   ]
  },
  {
   "cell_type": "code",
   "execution_count": 16,
   "id": "9f3ef6e9-2e41-4846-8572-9d593137d122",
   "metadata": {},
   "outputs": [
    {
     "data": {
      "text/plain": [
       "<AxesSubplot:xlabel='sex', ylabel='tip_rate'>"
      ]
     },
     "execution_count": 16,
     "metadata": {},
     "output_type": "execute_result"
    },
    {
     "data": {
      "image/png": "[encoded data removed]",
      "text/plain": [
       "<Figure size 432x288 with 1 Axes>"
      ]
     },
     "metadata": {
      "needs_background": "light"
     },
     "output_type": "display_data"
    }
   ],
   "source": [
    "#ヒストグラムでは図が別になって比較しづらいので箱ひげ図を描画する\n",
    "sns.boxplot(data=df, x='sex', y='tip_rate')"
   ]
  },
  {
   "cell_type": "markdown",
   "id": "8f20e530-fd4f-473a-8a48-2c476bd6dd88",
   "metadata": {},
   "source": [
    "## Q-Qプロット"
   ]
  },
  {
   "cell_type": "code",
   "execution_count": 30,
   "id": "9b9e9f41-f83f-4281-af24-9a9322c4cb25",
   "metadata": {},
   "outputs": [
    {
     "data": {
      "image/png": "[encoded data removed]",
      "text/plain": [
       "<Figure size 432x288 with 1 Axes>"
      ]
     },
     "metadata": {
      "needs_background": "light"
     },
     "output_type": "display_data"
    }
   ],
   "source": [
    "#正規性と等分散性の検定\n",
    "#・小標本の場合、「正規分布かどうか」と「等分散かどうか」の2つを確認する必要がある\n",
    "# シャピロ-ウィルク検定:正規性の検定。母集団が正規分布かどうかの検定\n",
    "# F検定：2つの母集団の分散が等しいかどうかの検定\n",
    "#※検定の前に検定を行うことを正しくないという指摘もある(検定の多重性)\n",
    "\n",
    "#シャピロ-ウィルク検定\n",
    "#・正規性の検定\n",
    "#・得られた標本が正規分布からの標本なのかどうか→母集団が正規分布かどうか(たいていの検定は正規分布であることが前提となっているので)\n",
    "#・仮説\n",
    "# 帰無仮説:母集団が正規分布に従う(観測分布と正規分布に差がない) ←今までと違って、棄却することを狙っていない\n",
    "# 対立仮説:母集団が正規分布に従わない\n",
    "# ※正し、帰無仮説を棄却できなかったからといって「＝正規分布である」と結論づけることは、必ずしもできるわけではない\n",
    "\n",
    "#Q-Qプロット(Quantile-Quantileプロット) quantile:分位数(データを区切るということ)\n",
    "#・QQプロットでも可\n",
    "#・シャピロウィルク検定はQ-Qプロットを使った検定\n",
    "#・得られたデータが理論上の分布(例えば正規分布)にどれくらい近しいかを視覚的に確認できる\n",
    "# 正規分布との比較\n",
    "# Q-Qプロットを使用することで、正規分布とどれくらい近いか/離れているかがわかる\n",
    "# 点が直線に近ければ、観測データは理論分布に近い\n",
    "\n",
    "#Q-Qプロットを描画する\n",
    "#※デフォルトだと標準正規分布との比較の描画\n",
    "#statsmodels.api.qqplot(data, line='r')\n",
    "#引数\n",
    "#  data:データセット\n",
    "#  line:'r'=regression(回帰)\n",
    "#  dist:理論分布(デフォルトは標準正規分布)\n",
    "#戻り値\n",
    "#  matplotlibのfigure\n",
    "#注意\n",
    "#  qqplotの関数内で１回描画、戻り値でもう一つ、計2個のプロットが描画される\n",
    "\n",
    "#-例-\n",
    "#データセット(tips.csv)の男女のtip_rateをQ-Qプロットする(標準正規分布との比較)\n",
    "#データセットの作成\n",
    "tipr_male = df[df['sex'] == 'Male']['tip_rate']     #男性のチップ率\n",
    "tipr_female = df[df['sex'] == 'Female']['tip_rate'] #女性のチップ率\n",
    "\n",
    "#tipr_maleのQ-Qプロット(標準正規分布)\n",
    "#※2個のプロットが描画されるので、戻り値のみ描画するようにする\n",
    "fig = qqplot(tipr_male, line='r')\n",
    "\n",
    "#結果\n",
    "# 直線に近くなっている→正規分布に近いと言える"
   ]
  },
  {
   "cell_type": "code",
   "execution_count": 22,
   "id": "cc5b0035-60ea-46b1-b906-7ccc623c0a6d",
   "metadata": {},
   "outputs": [
    {
     "data": {
      "image/png": "[encoded data removed]",
      "text/plain": [
       "<Figure size 432x288 with 1 Axes>"
      ]
     },
     "metadata": {
      "needs_background": "light"
     },
     "output_type": "display_data"
    }
   ],
   "source": [
    "#違う正規分布(tipr_maleの平均と不偏分散の平方根)でQ-Qプロットする\n",
    "fig = qqplot(tipr_male, \n",
    "             line='r', \n",
    "             dist=stats.norm(loc=np.mean(tipr_male), scale=np.sqrt(stats.tvar(tipr_male))))"
   ]
  },
  {
   "cell_type": "code",
   "execution_count": 23,
   "id": "5f5b9866-1697-40ac-a589-9989e870d8ea",
   "metadata": {},
   "outputs": [
    {
     "data": {
      "image/png": "[encoded data removed]",
      "text/plain": [
       "<Figure size 432x288 with 1 Axes>"
      ]
     },
     "metadata": {
      "needs_background": "light"
     },
     "output_type": "display_data"
    }
   ],
   "source": [
    "#tipr_femaleのQ-Qプロット(標準正規分布)\n",
    "fig = qqplot(tipr_female, line='r')\n",
    "\n",
    "#結果\n",
    "# 正規分布から少し逸脱していそう(多分外れ値を除外すれば近くなりそう)"
   ]
  },
  {
   "cell_type": "code",
   "execution_count": 24,
   "id": "2e7056e7-3031-40d6-99d0-b48984cc068d",
   "metadata": {},
   "outputs": [
    {
     "data": {
      "image/png": "[encoded data removed]",
      "text/plain": [
       "<Figure size 432x288 with 1 Axes>"
      ]
     },
     "metadata": {
      "needs_background": "light"
     },
     "output_type": "display_data"
    }
   ],
   "source": [
    "#違う正規分布(tipr_femaleの平均と不偏分散の平方根)でQ-Qプロットする\n",
    "fig = qqplot(tipr_female, \n",
    "             line='r', \n",
    "             dist=stats.norm(loc=np.mean(tipr_female), scale=np.sqrt(stats.tvar(tipr_female))))"
   ]
  },
  {
   "cell_type": "markdown",
   "id": "9a472f4b-b2c5-4b24-a1a3-a82ea42a6641",
   "metadata": {},
   "source": [
    "## シャピロ-ウィルク検定"
   ]
  },
  {
   "cell_type": "code",
   "execution_count": 25,
   "id": "0dee378c-9ae7-4f12-9687-c98fefb66903",
   "metadata": {},
   "outputs": [
    {
     "data": {
      "text/plain": [
       "ShapiroResult(statistic=0.7447847127914429, pvalue=3.2243281107541917e-15)"
      ]
     },
     "execution_count": 25,
     "metadata": {},
     "output_type": "execute_result"
    }
   ],
   "source": [
    "#・Q-Qプロットと併せて使う\n",
    "#・Q-Qプロットにおいて、どれくらい直線からずれているかを検定する\n",
    "#・標本の順序統計量(得られた標本を小さい順に並べたもの)と正規分布の順序統計量の期待値の相関を検定統計量にする\n",
    "#・背後のロジックは大変複雑なので、下記をおさえる：\n",
    "# 帰無仮説がなんなのか\n",
    "# 帰無仮説を棄却するとはどういうことなのか\n",
    "\n",
    "#シャピロ-ウィルク検定をする\n",
    "#データxに正規性があるかを検定する\n",
    "#stats.shapiro(x)\n",
    "#引数\n",
    "#  x:正規性を確認したいデータ(Array)\n",
    "#戻り値\n",
    "#  第１:検定統計量\n",
    "#  第２:p値→ここを見て、帰無仮説が棄却できるかどうかを判定する\n",
    "#注意\n",
    "#  外れ値に注意する。外れ値は正規分布から絶対に取ってこれないデータになってしまうので検定の結果p値がものすごく小さいものになってしまう\n",
    "\n",
    "#-例-\n",
    "#データセット(tip.csv)の男女のtip_rateに正規性があるかを検定する\n",
    "#データセットの作成\n",
    "tipr_male = df[df['sex'] == 'Male']['tip_rate']     #男性のチップ率\n",
    "tipr_female = df[df['sex'] == 'Female']['tip_rate'] #女性のチップ率\n",
    "\n",
    "#シャピロ-ウィルク検定(男性)\n",
    "stats.shapiro(tipr_male)\n",
    "\n",
    "#結果\n",
    "#  p値は非常に小さい(0.05以下)→母集団と正規分布に差がない=母集団は正規分布であるという帰無仮説が棄却できる\n",
    "#  つまり、このデータtipr_maleは正規分布からのデータではない(実は外れ値のせい)"
   ]
  },
  {
   "cell_type": "code",
   "execution_count": 26,
   "id": "67a24686-2a63-450f-95b5-b1df51ecd102",
   "metadata": {},
   "outputs": [
    {
     "data": {
      "text/plain": [
       "ShapiroResult(statistic=0.8982974290847778, pvalue=4.717996489489451e-06)"
      ]
     },
     "execution_count": 26,
     "metadata": {},
     "output_type": "execute_result"
    }
   ],
   "source": [
    "#シャピロ-ウィルク検定(女性)\n",
    "stats.shapiro(tipr_female)\n",
    "\n",
    "#結果\n",
    "#  男性と同じくp値は非常に小さい→このデータtipr_femaleは正規分布からのデータではない"
   ]
  },
  {
   "cell_type": "code",
   "execution_count": 41,
   "id": "35f7c6ec-d7ed-4147-b45c-ba082d4cdc86",
   "metadata": {},
   "outputs": [
    {
     "data": {
      "text/plain": [
       "ShapiroResult(statistic=0.9931070804595947, pvalue=0.6644759774208069)"
      ]
     },
     "execution_count": 41,
     "metadata": {},
     "output_type": "execute_result"
    }
   ],
   "source": [
    "#上記の結論は、外れ値があるため\n",
    "#外れ値を除いたらどうなるか？\n",
    "#男性のデータ\n",
    "stats.shapiro(np.sort(tipr_male)[:-1])\n",
    "\n",
    "#結果\n",
    "#  p値はかなり大きくなり、帰無仮説を棄却できなくなる=正規分布である事を否定できない"
   ]
  },
  {
   "cell_type": "code",
   "execution_count": 43,
   "id": "23d7da29-8427-44f8-9e3f-8f9518d9318b",
   "metadata": {},
   "outputs": [
    {
     "data": {
      "text/plain": [
       "ShapiroResult(statistic=0.9696651697158813, pvalue=0.04252713546156883)"
      ]
     },
     "execution_count": 43,
     "metadata": {},
     "output_type": "execute_result"
    }
   ],
   "source": [
    "#女性のデータ(外れ値は２つ)\n",
    "stats.shapiro(np.sort(tipr_female)[:-2])\n",
    "\n",
    "#結果\n",
    "#  p値は0.05を下回る→シャピロ-ウィルク検定では帰無仮説は棄却できない=正規分布からの標本とは言えない"
   ]
  },
  {
   "cell_type": "markdown",
   "id": "e9c1f791-8197-46bf-9bc9-a0a8d94cfd72",
   "metadata": {},
   "source": [
    "## F分布"
   ]
  },
  {
   "cell_type": "code",
   "execution_count": 27,
   "id": "fefde0dc-facd-4af6-8d91-cc0fa0a6f9ce",
   "metadata": {},
   "outputs": [
    {
     "data": {
      "text/plain": [
       "<matplotlib.legend.Legend at 0x4057746490>"
      ]
     },
     "execution_count": 27,
     "metadata": {},
     "output_type": "execute_result"
    },
    {
     "data": {
      "image/png": "[encoded data removed]",
      "text/plain": [
       "<Figure size 432x288 with 1 Axes>"
      ]
     },
     "metadata": {
      "needs_background": "light"
     },
     "output_type": "display_data"
    }
   ],
   "source": [
    "#F検定\n",
    "#・等分散性の検定\n",
    "#・２群の等分散性の検定には、分散の比率を検定統計量に使う\n",
    "#・仮説\n",
    "# 帰無仮説:分散に差がない\n",
    "# 対立仮説:分散に差がある\n",
    "# ※正し、帰無仮説を棄却できなかったからといって「＝分散に差がない」と結論づけることは、必ずしもできるわけではない\n",
    "#・母集団が正規分布であることを前提にしている\n",
    "#・分散の比率の標本分布であるF分布を見る\n",
    "\n",
    "#F分布\n",
    "#・よくカイ二乗を使って表される\n",
    "# カイ二乗(のもう1つの定義)：平均μ分散σ2の正規分布からn個取り出し、その偏差の平方和を分散で割った式\n",
    "#・自由度が2つある(n1-1, n2-1)\n",
    "#・F値は１以上\n",
    "# 大きい方の分散を分子に置くため\n",
    "#・p値はF値より右側の面積になる\n",
    "\n",
    "#F分布を計算する\n",
    "#stats.f(dfn, dfd)\n",
    "#引数\n",
    "#  dfn:分子の自由度\n",
    "#  dfd:分母の自由度\n",
    "#F分布の描画\n",
    "#stats.f(dfn, dfd).pdf(x)\n",
    "#下記の書き方でも可\n",
    "#stats.f.pdf(x, dfn=dfn, dfd=dfd)\n",
    "\n",
    "#-例-\n",
    "#いろんな値で、それぞれの自由度のF分布はどういうグラフになるのかを見る\n",
    "\n",
    "#x軸のデータの作成\n",
    "x = np.linspace(0, 3, 100) #マイナス値を取ることはないので0から始める\n",
    "\n",
    "#分子と分母の自由度にいろいろな値を入れてF分布を描画する\n",
    "for dfn in range(1, 12, 5):\n",
    "    for dfd in range(1, 12, 5):\n",
    "        y = stats.f(dfn, dfd).pdf(x) #f分布の確率密度関数\n",
    "        plt.plot(x, y, label=f'dfn:{dfn}, dfd:{dfd}')\n",
    "\n",
    "#凡例\n",
    "plt.legend()"
   ]
  },
  {
   "cell_type": "markdown",
   "id": "7a0edf3d-5141-4422-b266-9f01483fe169",
   "metadata": {},
   "source": [
    "## F検定"
   ]
  },
  {
   "cell_type": "code",
   "execution_count": 28,
   "id": "c3872d2d-a8cd-498c-bf76-3e0e97931206",
   "metadata": {},
   "outputs": [
    {
     "name": "stdout",
     "output_type": "stream",
     "text": [
      "male variance:0.004169445577529407 / female variance:0.0028433004255488206\n",
      "F value:1.4588472200534603\n"
     ]
    },
    {
     "data": {
      "text/plain": [
       "0.027100863454374447"
      ]
     },
     "execution_count": 28,
     "metadata": {},
     "output_type": "execute_result"
    }
   ],
   "source": [
    "#-例-\n",
    "#データセット(tips.csv)の男女のtip_rateの分散に差があるかをF分布を使ってF検定する\n",
    "#→男女のチップ率の等分散性を見る\n",
    "#データセットの作成\n",
    "tipr_male = df[df['sex'] == 'Male']['tip_rate']     #男性のチップ率\n",
    "tipr_female = df[df['sex'] == 'Female']['tip_rate'] #女性のチップ率\n",
    "\n",
    "#分散の確認\n",
    "print(\"male variance:{} / female variance:{}\".format(np.var(tipr_male), np.var(tipr_female)))\n",
    "\n",
    "#不偏分散の比率を計算\n",
    "#値が大きい方を分子にする\n",
    "#→男性の方が分散が高いので、男性のデータセットを標本１、女性のデータセットを標本２とする\n",
    "#自由度\n",
    "dfn = len(tipr_male) - 1\n",
    "dfd = len(tipr_female) - 1\n",
    "#不偏分散\n",
    "sample1_var = stats.tvar(tipr_male)\n",
    "sample2_var = stats.tvar(tipr_female)\n",
    "#F値(それぞれの不偏分散の比率)\n",
    "f_val = sample1_var / sample2_var\n",
    "print(\"F value:{}\".format(f_val))\n",
    "\n",
    "#このF値がどれくらいの確率で得られるか\n",
    "#F値から右側の面積を計算する(.sf()) 左側は.cdf()\n",
    "stats.f(dfn=dfn, dfd=dfd).sf(f_val)\n",
    "\n",
    "#結論\n",
    "# 有意水準0.05より小さい値となるので、母集団の分散には差がある(等分散ではない)"
   ]
  },
  {
   "cell_type": "code",
   "execution_count": 29,
   "id": "bff5a25b-a499-44c4-b163-a0b67fd31462",
   "metadata": {},
   "outputs": [
    {
     "data": {
      "text/plain": [
       "[<matplotlib.lines.Line2D at 0x4057cb7640>]"
      ]
     },
     "execution_count": 29,
     "metadata": {},
     "output_type": "execute_result"
    },
    {
     "data": {
      "image/png": "[encoded data removed]",
      "text/plain": [
       "<Figure size 432x288 with 1 Axes>"
      ]
     },
     "metadata": {
      "needs_background": "light"
     },
     "output_type": "display_data"
    }
   ],
   "source": [
    "#お試し描画(xの値は適当)\n",
    "x = np.linspace(0, 3, 100)\n",
    "y = stats.f(dfn=dfn, dfd=dfd).pdf(x)\n",
    "plt.plot(x, y)\n",
    "\n",
    "#F値は1.46なので、その位置から右側の面積がp値になる(.sf())"
   ]
  },
  {
   "cell_type": "markdown",
   "id": "1b4588ac-d02f-471b-8d23-c3ff2668e1e2",
   "metadata": {},
   "source": [
    "## 対応ありの平均値差の検定(t検定)"
   ]
  },
  {
   "cell_type": "code",
   "execution_count": 2,
   "id": "fead2d05-1f72-4bb1-bcf2-4043abe4227d",
   "metadata": {},
   "outputs": [
    {
     "data": {
      "text/plain": [
       "Ttest_relResult(statistic=3.3371870510833657, pvalue=0.0005648957322420411)"
      ]
     },
     "execution_count": 2,
     "metadata": {},
     "output_type": "execute_result"
    }
   ],
   "source": [
    "#対応ありの平均値差の検定\n",
    "#・2つの標本において、個々のデータに対応がある場合\n",
    "#・施策前後で同じ標本の個々のデータに差があるかを見る\n",
    "# この差のことを変化量という\n",
    "#・各データの変化量dを1つの標本として、その平均を考える\n",
    "#・母集団も変化量を考える\n",
    "#→変化量にも母集団と標本が存在する\n",
    "# 変化量の平均の標本分布がどうなるかを考える\n",
    "\n",
    "#変化量の平均の標本分布\n",
    "#・変化量の母集団からの無作為抽出だと考えれば、変化量の標本平均は\n",
    "# 変化量の標本平均は平均μd、分散σ2d/nの正規分布となる\n",
    "# μdは変化量の母集団の平均、σ2dは変化量の母集団の分散\n",
    "\n",
    "#変化量の平均の標本分布\n",
    "#・棄却域がどこなのかがわからないので標準化することを考える\n",
    "#・標準化することでz分布で考えることが可能\n",
    "#・母標準偏差σdは未知なので、標本の変化量の不偏分散の平方根s'dを推定量として使用→t分布となる\n",
    "#・帰無仮説が正しいと仮定した場合の検定統計量tを考える\n",
    "#・標本から計算した検定統計量tが自由度n-1のt分布において棄却域に入るかを考える\n",
    "#・最終的には変化量というデータに対しての平均が0になるかどうかの検定をしている\n",
    "# １群の平均値が0になるかどうかの検定\n",
    "\n",
    "#対応ありの平均値差の検定をする\n",
    "#stats.ttest_rel(a, b, alternative)\n",
    "#※rel=related\n",
    "#引数\n",
    "#  a,b:データセット(ペア同士が同じ順番になっている必要がある)\n",
    "#  alternative: 対立仮説。'two-sided'(デフォルト), 'less','greater'\n",
    "#戻り値\n",
    "#  第１:検定統計量t\n",
    "#  第２:p値\n",
    "\n",
    "#※対応なしt検定\n",
    "#stats.ttest_ind()\n",
    "\n",
    "#-例-\n",
    "#血圧データを使用して対応ありのt検定をやる\n",
    "#とある薬の投薬前と後で血圧に差はあるか？\n",
    "#帰無仮説:投薬前後で差がない\n",
    "#対立仮説:投薬前後で差がある(投薬前の血圧の方が高い)\n",
    "bp_df = pd.read_csv('data/blood_pressure.csv')\n",
    "#対応ありのt検定(beforeはafterよりも大きい)\n",
    "stats.ttest_rel(bp_df['bp_before'], bp_df['bp_after'], alternative='greater')\n",
    "\n",
    "#結果\n",
    "# p値は有意水準0.05より小さい→棄却域に入るので「差がない」という帰無仮説を棄却できる＝beforeとafterで差がある(薬の効果はありそう)"
   ]
  },
  {
   "cell_type": "code",
   "execution_count": 3,
   "id": "6145b19c-6e19-4300-b481-52fe09158af4",
   "metadata": {},
   "outputs": [
    {
     "data": {
      "text/html": [
       "<div>\n",
       "<style scoped>\n",
       "    .dataframe tbody tr th:only-of-type {\n",
       "        vertical-align: middle;\n",
       "    }\n",
       "\n",
       "    .dataframe tbody tr th {\n",
       "        vertical-align: top;\n",
       "    }\n",
       "\n",
       "    .dataframe thead th {\n",
       "        text-align: right;\n",
       "    }\n",
       "</style>\n",
       "<table border=\"1\" class=\"dataframe\">\n",
       "  <thead>\n",
       "    <tr style=\"text-align: right;\">\n",
       "      <th></th>\n",
       "      <th>patient</th>\n",
       "      <th>sex</th>\n",
       "      <th>agegrp</th>\n",
       "      <th>bp_before</th>\n",
       "      <th>bp_after</th>\n",
       "    </tr>\n",
       "  </thead>\n",
       "  <tbody>\n",
       "    <tr>\n",
       "      <th>0</th>\n",
       "      <td>1</td>\n",
       "      <td>Male</td>\n",
       "      <td>30-45</td>\n",
       "      <td>143</td>\n",
       "      <td>153</td>\n",
       "    </tr>\n",
       "    <tr>\n",
       "      <th>1</th>\n",
       "      <td>2</td>\n",
       "      <td>Male</td>\n",
       "      <td>30-45</td>\n",
       "      <td>163</td>\n",
       "      <td>170</td>\n",
       "    </tr>\n",
       "    <tr>\n",
       "      <th>2</th>\n",
       "      <td>3</td>\n",
       "      <td>Male</td>\n",
       "      <td>30-45</td>\n",
       "      <td>153</td>\n",
       "      <td>168</td>\n",
       "    </tr>\n",
       "    <tr>\n",
       "      <th>3</th>\n",
       "      <td>4</td>\n",
       "      <td>Male</td>\n",
       "      <td>30-45</td>\n",
       "      <td>153</td>\n",
       "      <td>142</td>\n",
       "    </tr>\n",
       "    <tr>\n",
       "      <th>4</th>\n",
       "      <td>5</td>\n",
       "      <td>Male</td>\n",
       "      <td>30-45</td>\n",
       "      <td>146</td>\n",
       "      <td>141</td>\n",
       "    </tr>\n",
       "    <tr>\n",
       "      <th>...</th>\n",
       "      <td>...</td>\n",
       "      <td>...</td>\n",
       "      <td>...</td>\n",
       "      <td>...</td>\n",
       "      <td>...</td>\n",
       "    </tr>\n",
       "    <tr>\n",
       "      <th>115</th>\n",
       "      <td>116</td>\n",
       "      <td>Female</td>\n",
       "      <td>60+</td>\n",
       "      <td>152</td>\n",
       "      <td>152</td>\n",
       "    </tr>\n",
       "    <tr>\n",
       "      <th>116</th>\n",
       "      <td>117</td>\n",
       "      <td>Female</td>\n",
       "      <td>60+</td>\n",
       "      <td>161</td>\n",
       "      <td>152</td>\n",
       "    </tr>\n",
       "    <tr>\n",
       "      <th>117</th>\n",
       "      <td>118</td>\n",
       "      <td>Female</td>\n",
       "      <td>60+</td>\n",
       "      <td>165</td>\n",
       "      <td>174</td>\n",
       "    </tr>\n",
       "    <tr>\n",
       "      <th>118</th>\n",
       "      <td>119</td>\n",
       "      <td>Female</td>\n",
       "      <td>60+</td>\n",
       "      <td>149</td>\n",
       "      <td>151</td>\n",
       "    </tr>\n",
       "    <tr>\n",
       "      <th>119</th>\n",
       "      <td>120</td>\n",
       "      <td>Female</td>\n",
       "      <td>60+</td>\n",
       "      <td>185</td>\n",
       "      <td>163</td>\n",
       "    </tr>\n",
       "  </tbody>\n",
       "</table>\n",
       "<p>120 rows × 5 columns</p>\n",
       "</div>"
      ],
      "text/plain": [
       "     patient     sex agegrp  bp_before  bp_after\n",
       "0          1    Male  30-45        143       153\n",
       "1          2    Male  30-45        163       170\n",
       "2          3    Male  30-45        153       168\n",
       "3          4    Male  30-45        153       142\n",
       "4          5    Male  30-45        146       141\n",
       "..       ...     ...    ...        ...       ...\n",
       "115      116  Female    60+        152       152\n",
       "116      117  Female    60+        161       152\n",
       "117      118  Female    60+        165       174\n",
       "118      119  Female    60+        149       151\n",
       "119      120  Female    60+        185       163\n",
       "\n",
       "[120 rows x 5 columns]"
      ]
     },
     "execution_count": 3,
     "metadata": {},
     "output_type": "execute_result"
    }
   ],
   "source": [
    "bp_df"
   ]
  },
  {
   "cell_type": "code",
   "execution_count": 6,
   "id": "de5b1b3a-fab3-4c9d-a571-d0e928d29740",
   "metadata": {},
   "outputs": [
    {
     "data": {
      "text/plain": [
       "156.45"
      ]
     },
     "execution_count": 6,
     "metadata": {},
     "output_type": "execute_result"
    }
   ],
   "source": [
    "#実際の検定では必ずデータの分布をみる\n",
    "#beforeの平均値\n",
    "np.mean(bp_df['bp_before'])"
   ]
  },
  {
   "cell_type": "code",
   "execution_count": 7,
   "id": "da6e51a8-d1ca-436a-b883-0fb56e80d6ed",
   "metadata": {},
   "outputs": [
    {
     "data": {
      "text/plain": [
       "151.35833333333332"
      ]
     },
     "execution_count": 7,
     "metadata": {},
     "output_type": "execute_result"
    }
   ],
   "source": [
    "#afterの平均値\n",
    "np.mean(bp_df['bp_after'])"
   ]
  },
  {
   "cell_type": "code",
   "execution_count": 8,
   "id": "d405c19d-8fae-49f3-a06b-cb09df0faf36",
   "metadata": {},
   "outputs": [],
   "source": [
    "#個々の差の平均(変化量)を計算する\n",
    "#個々の差のカラムdeltaを追加する\n",
    "bp_df['delta'] = bp_df['bp_before'] - bp_df['bp_after']"
   ]
  },
  {
   "cell_type": "code",
   "execution_count": 28,
   "id": "d425095b-df61-42b1-bea9-00327876c86e",
   "metadata": {},
   "outputs": [
    {
     "data": {
      "text/html": [
       "<div>\n",
       "<style scoped>\n",
       "    .dataframe tbody tr th:only-of-type {\n",
       "        vertical-align: middle;\n",
       "    }\n",
       "\n",
       "    .dataframe tbody tr th {\n",
       "        vertical-align: top;\n",
       "    }\n",
       "\n",
       "    .dataframe thead th {\n",
       "        text-align: right;\n",
       "    }\n",
       "</style>\n",
       "<table border=\"1\" class=\"dataframe\">\n",
       "  <thead>\n",
       "    <tr style=\"text-align: right;\">\n",
       "      <th></th>\n",
       "      <th>patient</th>\n",
       "      <th>sex</th>\n",
       "      <th>agegrp</th>\n",
       "      <th>bp_before</th>\n",
       "      <th>bp_after</th>\n",
       "      <th>delta</th>\n",
       "    </tr>\n",
       "  </thead>\n",
       "  <tbody>\n",
       "    <tr>\n",
       "      <th>0</th>\n",
       "      <td>1</td>\n",
       "      <td>Male</td>\n",
       "      <td>30-45</td>\n",
       "      <td>143</td>\n",
       "      <td>153</td>\n",
       "      <td>-10</td>\n",
       "    </tr>\n",
       "    <tr>\n",
       "      <th>1</th>\n",
       "      <td>2</td>\n",
       "      <td>Male</td>\n",
       "      <td>30-45</td>\n",
       "      <td>163</td>\n",
       "      <td>170</td>\n",
       "      <td>-7</td>\n",
       "    </tr>\n",
       "    <tr>\n",
       "      <th>2</th>\n",
       "      <td>3</td>\n",
       "      <td>Male</td>\n",
       "      <td>30-45</td>\n",
       "      <td>153</td>\n",
       "      <td>168</td>\n",
       "      <td>-15</td>\n",
       "    </tr>\n",
       "    <tr>\n",
       "      <th>3</th>\n",
       "      <td>4</td>\n",
       "      <td>Male</td>\n",
       "      <td>30-45</td>\n",
       "      <td>153</td>\n",
       "      <td>142</td>\n",
       "      <td>11</td>\n",
       "    </tr>\n",
       "    <tr>\n",
       "      <th>4</th>\n",
       "      <td>5</td>\n",
       "      <td>Male</td>\n",
       "      <td>30-45</td>\n",
       "      <td>146</td>\n",
       "      <td>141</td>\n",
       "      <td>5</td>\n",
       "    </tr>\n",
       "    <tr>\n",
       "      <th>...</th>\n",
       "      <td>...</td>\n",
       "      <td>...</td>\n",
       "      <td>...</td>\n",
       "      <td>...</td>\n",
       "      <td>...</td>\n",
       "      <td>...</td>\n",
       "    </tr>\n",
       "    <tr>\n",
       "      <th>115</th>\n",
       "      <td>116</td>\n",
       "      <td>Female</td>\n",
       "      <td>60+</td>\n",
       "      <td>152</td>\n",
       "      <td>152</td>\n",
       "      <td>0</td>\n",
       "    </tr>\n",
       "    <tr>\n",
       "      <th>116</th>\n",
       "      <td>117</td>\n",
       "      <td>Female</td>\n",
       "      <td>60+</td>\n",
       "      <td>161</td>\n",
       "      <td>152</td>\n",
       "      <td>9</td>\n",
       "    </tr>\n",
       "    <tr>\n",
       "      <th>117</th>\n",
       "      <td>118</td>\n",
       "      <td>Female</td>\n",
       "      <td>60+</td>\n",
       "      <td>165</td>\n",
       "      <td>174</td>\n",
       "      <td>-9</td>\n",
       "    </tr>\n",
       "    <tr>\n",
       "      <th>118</th>\n",
       "      <td>119</td>\n",
       "      <td>Female</td>\n",
       "      <td>60+</td>\n",
       "      <td>149</td>\n",
       "      <td>151</td>\n",
       "      <td>-2</td>\n",
       "    </tr>\n",
       "    <tr>\n",
       "      <th>119</th>\n",
       "      <td>120</td>\n",
       "      <td>Female</td>\n",
       "      <td>60+</td>\n",
       "      <td>185</td>\n",
       "      <td>163</td>\n",
       "      <td>22</td>\n",
       "    </tr>\n",
       "  </tbody>\n",
       "</table>\n",
       "<p>120 rows × 6 columns</p>\n",
       "</div>"
      ],
      "text/plain": [
       "     patient     sex agegrp  bp_before  bp_after  delta\n",
       "0          1    Male  30-45        143       153    -10\n",
       "1          2    Male  30-45        163       170     -7\n",
       "2          3    Male  30-45        153       168    -15\n",
       "3          4    Male  30-45        153       142     11\n",
       "4          5    Male  30-45        146       141      5\n",
       "..       ...     ...    ...        ...       ...    ...\n",
       "115      116  Female    60+        152       152      0\n",
       "116      117  Female    60+        161       152      9\n",
       "117      118  Female    60+        165       174     -9\n",
       "118      119  Female    60+        149       151     -2\n",
       "119      120  Female    60+        185       163     22\n",
       "\n",
       "[120 rows x 6 columns]"
      ]
     },
     "execution_count": 28,
     "metadata": {},
     "output_type": "execute_result"
    }
   ],
   "source": [
    "bp_df"
   ]
  },
  {
   "cell_type": "code",
   "execution_count": 31,
   "id": "b5a98721-6f5d-4cd3-aca6-44e97eb9956f",
   "metadata": {},
   "outputs": [
    {
     "data": {
      "text/plain": [
       "5.091666666666667"
      ]
     },
     "execution_count": 31,
     "metadata": {},
     "output_type": "execute_result"
    }
   ],
   "source": [
    "#delta(個々の差)の平均(変化量 投薬でどれくらい下がったか)\n",
    "bp_df['delta'].mean()"
   ]
  },
  {
   "cell_type": "code",
   "execution_count": 9,
   "id": "5592a254-a20a-499a-b32d-a56e0ee832c4",
   "metadata": {},
   "outputs": [
    {
     "name": "stderr",
     "output_type": "stream",
     "text": [
      "/opt/anaconda3/lib/python3.8/site-packages/seaborn/_decorators.py:36: FutureWarning: Pass the following variable as a keyword arg: x. From version 0.12, the only valid positional argument will be `data`, and passing other arguments without an explicit keyword will result in an error or misinterpretation.\n",
      "  warnings.warn(\n"
     ]
    },
    {
     "data": {
      "text/plain": [
       "<AxesSubplot:xlabel='delta'>"
      ]
     },
     "execution_count": 9,
     "metadata": {},
     "output_type": "execute_result"
    },
    {
     "data": {
      "image/png": "[encoded data removed]",
      "text/plain": [
       "<Figure size 432x288 with 1 Axes>"
      ]
     },
     "metadata": {
      "needs_background": "light"
     },
     "output_type": "display_data"
    }
   ],
   "source": [
    "#delta(before - after)の分布\n",
    "sns.boxplot(bp_df['delta'])\n",
    "\n",
    "#結果\n",
    "# 中央値は0より高く、全体的なデータの分布もプラス側に寄っている→beforeの方が血圧が高い"
   ]
  },
  {
   "cell_type": "markdown",
   "id": "4a20560e-157d-4328-b421-4b89a88941c2",
   "metadata": {},
   "source": [
    "## Cohen's d(コーエンのd)"
   ]
  },
  {
   "cell_type": "code",
   "execution_count": 8,
   "id": "1e6c76a3-c3aa-4192-bac9-9086fb92afc5",
   "metadata": {},
   "outputs": [],
   "source": [
    "#検定の誤りと検定力\n",
    "#・２種類の検定の誤り(＝検定の結果が事実と異なる)\n",
    "#・検定力:どれだけ正しく帰無仮説を棄却し、対立仮説を成立できるか\n",
    "\n",
    "#第1種の誤りと第２種の誤り\n",
    "# 帰無仮説が正しい\n",
    "#  帰無仮説を採択\n",
    "#  帰無仮説を棄却→第１種の誤り(発生確率α)\n",
    "# 帰無仮説が正しくない(対立仮説が正しい)\n",
    "#  帰無仮説を採択→第2種の誤り(発生確率β)\n",
    "#  帰無仮説を棄却→検定はここを目指す\n",
    "#\n",
    "#第1種の誤りが発生する確率(α)\n",
    "#・帰無仮説が正しいのに帰無仮説を棄却してしまう\n",
    "#・第1種の誤りの確率は有意水準と等しい\n",
    "# 有意水準が5%であれば、第１種が起こる確率は5%\n",
    "#\n",
    "#第2種の誤りが発生する確率(β)\n",
    "#・帰無仮説が正しくないのに帰無仮説を採択してしまう\n",
    "#・帰無分布:帰無仮説が正しいとした時の検定統計量の分布→今までの学習で見ていたのはこっち\n",
    "# 対立分布:対立仮説が正しいとした時の検定統計量の分布\n",
    "#・対立分布のうち、棄却域に入らないエリアが第２種の発生確率となる\n",
    "#\n",
    "#αとβはトレードオフ\n",
    "#・検定の際の誤りはなるべく下げたい\n",
    "#・αとβはトレードオフの関係にあるため、同時に下げることはできない\n",
    "# αを5%から下げる→αは小さくなるが、その分βは大きくなる\n",
    "# αを5%から上げる→βは小さくなるが、その分αは大きくなる\n",
    "#→どれだけ上手く帰無仮説を棄却できるか、を考える(検定力)\n",
    "\n",
    "#検定力(power)\n",
    "#・どれだけ正しく帰無仮説を棄却し対立仮説を成立できるかの確率\n",
    "# 対立仮説が正しいという前提で「どれだけ正しく対立仮説を成立できるか」がポイント\n",
    "# ※ただし、検定力が高ければ高いほどいいというわけではない。ある一定の高さを保つことが重要\n",
    "#・検定力＝1-β\n",
    "#・検定力に影響を与える3つの要素\n",
    "# 1.有意水準\n",
    "#   有意水準を高くすると検定力(1-β)も高くなる\n",
    "#   が、検定力を上げるために有意水準を上げるのはだめ(検定が甘くなるから)\n",
    "#   特に理由がなければ5%か1%とする\n",
    "# 2.サンプルサイズ(標本の大きさ)\n",
    "#   検定者が唯一コントロールできる項目\n",
    "#   サンプルサイズを大きくする(標本(のデータ)を増やす)と検定力(1-β)も大きくなる\n",
    "#   サンプルサイズを大きくすると標本分布の分散は小さくなり、母集団の検定統計量に近づくため\n",
    "#   ただし、単にサンプルサイズを大きくするのには注意が必要\n",
    "#    帰無分布と対立分布が近いと(母集団に差はあるが、ほんの少しだけ)、微小の差でも「有意差あり」と出てしまう\n",
    "#    「どれくらい」差があるかを考慮していない\n",
    "# 3.帰無分布と対立分布の差(帰無分布と対立分布がどれだけ離れているか)\n",
    "#   効果量:帰無分布と対立分布がどれだけ離れているか、検出したい差(=効果)の量\n",
    "#   効果量が大きいと、検定力が大きくなる\n",
    "#・検定力と3つの要素のバランス\n",
    "# 検定力:1つの目安として、0.8を目指す\n",
    "# 有意水準:5%か1%で固定\n",
    "# サンプルサイズ:検定力が0.8となるように適切な値を指定する\n",
    "# 効果量:標本や過去の経験から仮定する\n",
    "\n",
    "#Cohen's d(コーエンのd)\n",
    "#・標本から計算する標準化された効果量の指標\n",
    "#・1を超えることもあるので注意\n",
    "#・実際には絶対値を取ることが多い\n",
    "#・効果量の目安\n",
    "# 0.2:小\n",
    "# 0.5:中\n",
    "# 0.8:大\n",
    "\n",
    "#Cohen's d(コーエンのd)を返す関数を作成する(pythonのメソッドはない)\n",
    "#式\n",
    "#x¯1 - x¯2/σ^\n",
    "#σ^ = √ (n1-1)s'21+(n2-1)s'22/n1+n2-2\n",
    "# s'21:n1のs'2 s'22:n2のs'2\n",
    "def cohen_d(x1, x2):\n",
    "    #標本の数\n",
    "    n1 = len(x1)\n",
    "    n2 = len(x2)\n",
    "    \n",
    "    #式をコードに変換する\n",
    "    #n1+n2-2:σ^の推定値の分母＝全体の自由度\n",
    "    dof = n1 + n2 - 2\n",
    "    #σ^を求める\n",
    "    std = np.sqrt(((n1-1)*stats.tvar(x1) + (n2-1)*stats.tvar(x2))/dof)\n",
    "    \n",
    "    #Cohen's d\n",
    "    #それぞれの平均の差/std(絶対値)\n",
    "    return np.abs((np.mean(x1) - np.mean(x2))/std)\n"
   ]
  },
  {
   "cell_type": "code",
   "execution_count": 4,
   "id": "e09ac3de-40b1-4225-b60e-7e3540eb9bd9",
   "metadata": {},
   "outputs": [
    {
     "data": {
      "text/plain": [
       "0.14480153987269248"
      ]
     },
     "execution_count": 4,
     "metadata": {},
     "output_type": "execute_result"
    }
   ],
   "source": [
    "#-例-\n",
    "#データセット(tips.csv)を標本として、男女のチップ率の効果量(Cohen's d)を求める\n",
    "#→効果量はそれほど高くはないだろうと予想する\n",
    "#データセットの作成\n",
    "male_tip_rate = df[df['sex'] == 'Male']['tip_rate']     #男性のチップ率\n",
    "female_tip_rate = df[df['sex'] == 'Female']['tip_rate'] #女性のチップ率\n",
    "\n",
    "#Cohen's d\n",
    "cohen_d(male_tip_rate, female_tip_rate)\n",
    "\n",
    "#結果\n",
    "# 目安の効果量小(0.2)より小さいので、効果量はかなり小さい(予想通り)"
   ]
  },
  {
   "cell_type": "markdown",
   "id": "bcbcedf7-ae86-4193-bc8b-3184e4b70b1d",
   "metadata": {},
   "source": [
    "## 検定力分析(power analysis)"
   ]
  },
  {
   "cell_type": "code",
   "execution_count": 18,
   "id": "f38a98d8-c48f-4d60-9016-d6b6f878879a",
   "metadata": {},
   "outputs": [
    {
     "data": {
      "text/plain": [
       "0.19038260700802212"
      ]
     },
     "execution_count": 18,
     "metadata": {},
     "output_type": "execute_result"
    }
   ],
   "source": [
    "#検定力分析により、有意水準、効果量、最適なサンプルサイズ、検定力を算出する\n",
    "#検定力は一般的に約0.8を目指す\n",
    "#※ここでは「対応なしの２群の平均値差の検定」を例とする\n",
    "#用途は主に2つ:\n",
    "#1.検定の結果として、p値だけでなく効果量も併せて報告する\n",
    "#  すでに手元に標本があって、それを検定に使用するケース\n",
    "#2.想定する効果量に基づいて適切なサンプルサイズを算出する\n",
    "#  これから標本抽出から始めるケース(検定のデザイン)\n",
    "\n",
    "#効果量(effect size)\n",
    "#・検定で明らかにしたい差の量\n",
    "#・２群の平均値さにどれくらいの差があるかを表した量\n",
    "#・単にμ1-μ2ではなく、標準化が必要\n",
    "# →効果量を「標準偏差(σ)いくつ分離れているか？」で測る\n",
    "#  μ1-μ2/σ ※全て母集団の平均、標準偏差\n",
    "#   μ1-μ2:母集団1と母集団2の平均を推定→標本1と標本2の平均を使用する\n",
    "#   σ:母集団1と母集団2の共通の標準偏差(pooled std)を推定→標本1と標本2を合わせた標準偏差(不偏分散の平方根)を使用する\n",
    "\n",
    "#検定力を算出する\n",
    "#statsmodels.stats.power.TTestIndPowerクラス\n",
    "#２群の平均値差を検定する際の検定力分析用のクラス\n",
    "#有意水準、効果量、検定力、サンプルサイズを残りの値から算出する\n",
    "#power = TTestIndPower()でインスタンス化\n",
    "#.solve_power(effect_size, nob1, alpha, power, ratio, alternative)\n",
    "#引数\n",
    "# 算出したい引数には\"None\"を設定する\n",
    "#  effect_size:効果量(cohen's d)\n",
    "#  nobs1:標本1のサイズ\n",
    "#  alpha:有意水準(0.05)\n",
    "#  power:検定力(帰無仮説を正しく棄却できる確率)\n",
    "#  ratio:標本１に対する標本２の大きさ(標本２/標本１)\n",
    "#  alternative:対立仮説 'two-sided', 'smaller', 'larger'\n",
    "\n",
    "#-例1-\n",
    "#データセット(tips.csv)を標本として、男女のチップ率の平均値差の検定を行った場合の検定力を求める\n",
    "#なお、以下とする:\n",
    "# ・両側検定\n",
    "# ・有意水準5%(0.05)\n",
    "\n",
    "#パラメータ\n",
    "#標本1,2\n",
    "male_tip_rate = df[df['sex'] == 'Male']['tip_rate']     #標本1:男性のチップ率\n",
    "female_tip_rate = df[df['sex'] == 'Female']['tip_rate'] #標本2:女性のチップ率\n",
    "#Cohen's d\n",
    "cohensd = cohen_d(male_tip_rate, female_tip_rate)       #前述の関数を使用\n",
    "#標本１に対する標本２の大きさ\n",
    "ratio = len(female_tip_rate) / len(male_tip_rate)\n",
    "\n",
    "#statsmodels.stats.power.TTestIndPowerをインスタンス化\n",
    "power = TTestIndPower()\n",
    "\n",
    "#solve_powerをコールして検定力を算出する\n",
    "#検定力を求めたいので、引数\"power\"に\"None\"を設定する\n",
    "#alternative='two-sided' デフォルトなので指定しなくてよい\n",
    "power.solve_power(effect_size = cohensd,\n",
    "                  nobs1 = len(male_tip_rate),\n",
    "                  alpha=0.05,\n",
    "                  power=None,  \n",
    "                  ratio=ratio) \n",
    "\n",
    "#結果\n",
    "# 検定力は0.8に対して非常に低い"
   ]
  },
  {
   "cell_type": "code",
   "execution_count": 12,
   "id": "ef24147e-a317-4ef2-a123-2aee15b94e56",
   "metadata": {},
   "outputs": [
    {
     "data": {
      "text/plain": [
       "1051.0959553846506"
      ]
     },
     "execution_count": 12,
     "metadata": {},
     "output_type": "execute_result"
    }
   ],
   "source": [
    "#-例2-\n",
    "#検定力を上げるには？→サンプルサイズを増やす\n",
    "#データセット(tips.csv)を標本として、男女のチップ率の平均値差の検定を行う場合、検定力を0.8とするために必要なサンプルサイズを求める\n",
    "#なお、以下とする:\n",
    "# ・両側検定\n",
    "# ・有意水準5%(0.05)\n",
    "# ・効果量は手元にある標本から仮定する\n",
    "\n",
    "#solve_powerをコールしてサンプルサイズを算出する\n",
    "#サンプルサイズを求めたいので、引数\"nobs1\"に\"None\"を設定する\n",
    "#alternative='two-sided' デフォルトなので指定しなくてよい\n",
    "power.solve_power(effect_size = cohensd,\n",
    "                  nobs1 = None,\n",
    "                  alpha=0.05,\n",
    "                  power=0.8,\n",
    "                  ratio=ratio)\n",
    "\n",
    "#結果\n",
    "# 男性のチップ率は、1051個あれば検定力を0.8に保てそう"
   ]
  },
  {
   "cell_type": "code",
   "execution_count": 13,
   "id": "03d33cbf-1fd8-4bcb-b70a-93bd38cafbea",
   "metadata": {},
   "outputs": [
    {
     "data": {
      "text/plain": [
       "582.4012738853503"
      ]
     },
     "execution_count": 13,
     "metadata": {},
     "output_type": "execute_result"
    }
   ],
   "source": [
    "#女性のチップ率に必要な数\n",
    "len(female_tip_rate) / len(male_tip_rate) * 1051\n",
    "\n",
    "#結果\n",
    "# 女性のチップ率は、582個あれば検定力を0.8に保てそう"
   ]
  },
  {
   "cell_type": "code",
   "execution_count": 14,
   "id": "6a3e4204-9180-4e1c-92f4-249e00976eea",
   "metadata": {},
   "outputs": [
    {
     "data": {
      "text/plain": [
       "393.4056989990335"
      ]
     },
     "execution_count": 14,
     "metadata": {},
     "output_type": "execute_result"
    }
   ],
   "source": [
    "#手元にデータがない場合、適当な値を想定して設定する\n",
    "#男女のチップ率の差はそんなにないかも、と思う場合は\n",
    "#  effect_size=0.2 効果量小\n",
    "# 　ratio=1 男女同数を取ってこれると仮定する\n",
    "power.solve_power(effect_size = 0.2,\n",
    "                  nobs1 = None,\n",
    "                  alpha=0.05,\n",
    "                  power=0.8,\n",
    "                  ratio=1)\n",
    "\n",
    "#結果\n",
    "# 男女で400個ほどあれば検定力を0.8に保てそう"
   ]
  },
  {
   "cell_type": "markdown",
   "id": "6b2e1a65-0c57-49bf-96e1-798a54d33305",
   "metadata": {},
   "source": [
    "## 検定力の推移"
   ]
  },
  {
   "cell_type": "code",
   "execution_count": 16,
   "id": "0ef89305-a939-4c23-9550-f57478eb05c4",
   "metadata": {},
   "outputs": [
    {
     "data": {
      "image/png": "[encoded data removed]",
      "text/plain": [
       "<Figure size 432x288 with 1 Axes>"
      ]
     },
     "metadata": {
      "needs_background": "light"
     },
     "output_type": "display_data"
    }
   ],
   "source": [
    "#それぞれの効果量において、サンプルサイズの変化に応じて検定力がどう変化するかを描画する\n",
    "\n",
    "#statsmodels.stats.power.TTestIndPowerクラス\n",
    "#２群の平均値差を検定する際の検定力分析用のクラス\n",
    "#power = TTestIndPower()でインスタンス化\n",
    "#.plot_power(dep_var, nobs, effect_size, alpha)\n",
    "#引数\n",
    "# dep_var:x軸の変数\n",
    "#         'nobs'        サンプルサイズに対しての検定力の推移を見たい場合\n",
    "#         'effect_size' 効果量に対しての検定力の推移を見たい場合\n",
    "#         'alpha'       有意水準に対しての検定力の推移を見たい場合\n",
    "# nobs:標本のサイズ(x軸のNumpy Array)\n",
    "# effect_size:効果量のリスト\n",
    "# alpha:有意水準(0.05)\n",
    "#戻り値\n",
    "# matplotlibのfigure\n",
    "#注意\n",
    "# plot_powerの関数内で１回描画、戻り値でもう一つ、計2個のプロットが描画される\n",
    "\n",
    "#statsmodels.stats.power.TTestIndPowerをインスタンス化\n",
    "power = TTestIndPower()\n",
    "#戻り値だけを描画する\n",
    "fig = power.plot_power(dep_var='nobs', nobs=np.array(range(5,100)), effect_size=[0.2, 0.5, 0.8], alpha=0.05)"
   ]
  },
  {
   "cell_type": "code",
   "execution_count": null,
   "id": "5a429382-263d-474b-b986-204cd8bc7d59",
   "metadata": {},
   "outputs": [],
   "source": []
  }
 ],
 "metadata": {
  "kernelspec": {
   "display_name": "Python 3",
   "language": "python",
   "name": "python3"
  },
  "language_info": {
   "codemirror_mode": {
    "name": "ipython",
    "version": 3
   },
   "file_extension": ".py",
   "mimetype": "text/x-python",
   "name": "python",
   "nbconvert_exporter": "python",
   "pygments_lexer": "ipython3",
   "version": "3.8.8"
  }
 },
 "nbformat": 4,
 "nbformat_minor": 5
}
